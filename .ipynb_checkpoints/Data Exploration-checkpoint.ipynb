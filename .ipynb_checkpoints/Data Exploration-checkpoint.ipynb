{
 "cells": [
  {
   "cell_type": "markdown",
   "id": "1b764a1b",
   "metadata": {},
   "source": [
    "# Data Analysis and Further Exploration!\n",
    "Here I'll focus on analysis and exploration of the data. Our main goal is to build a Machine Learning model from scratch to predict the price of a new automobile.\n",
    "\n",
    "To do so, I'll need a deeper understanding of the data at hand."
   ]
  },
  {
   "cell_type": "code",
   "execution_count": 7,
   "id": "cbbc0511",
   "metadata": {},
   "outputs": [
    {
     "name": "stderr",
     "output_type": "stream",
     "text": [
      "\u001b[32m\u001b[1m   Resolving\u001b[22m\u001b[39m package versions...\n",
      "\u001b[32m\u001b[1m  No Changes\u001b[22m\u001b[39m to `~/.julia/environments/v1.8/Project.toml`\n",
      "\u001b[32m\u001b[1m  No Changes\u001b[22m\u001b[39m to `~/.julia/environments/v1.8/Manifest.toml`\n"
     ]
    }
   ],
   "source": [
    "using Pkg\n",
    "\n",
    "Pkg.add(\"StatsPlots\")\n",
    "\n",
    "using CSV\n",
    "using DataFrames\n",
    "using StatsPlots"
   ]
  },
  {
   "cell_type": "code",
   "execution_count": 5,
   "id": "5feab3ee",
   "metadata": {},
   "outputs": [
    {
     "data": {
      "text/html": [
       "<div><div style = \"float: left;\"><span>159×26 DataFrame</span></div><div style = \"float: right;\"><span style = \"font-style: italic;\">134 rows omitted</span></div><div style = \"clear: both;\"></div></div><div class = \"data-frame\" style = \"overflow-x: scroll;\"><table class = \"data-frame\" style = \"margin-bottom: 6px;\"><thead><tr class = \"header\"><th class = \"rowNumber\" style = \"font-weight: bold; text-align: right;\">Row</th><th style = \"text-align: left;\">symboling</th><th style = \"text-align: left;\">normalized-losses</th><th style = \"text-align: left;\">make</th><th style = \"text-align: left;\">fuel-type</th><th style = \"text-align: left;\">aspiration</th><th style = \"text-align: left;\">num-of-doors</th><th style = \"text-align: left;\">body-style</th><th style = \"text-align: left;\">drive-wheels</th><th style = \"text-align: left;\">engine-location</th><th style = \"text-align: left;\">wheel-base</th><th style = \"text-align: left;\">length</th><th style = \"text-align: left;\">width</th><th style = \"text-align: left;\">height</th><th style = \"text-align: left;\">curb-weight</th><th style = \"text-align: left;\">engine-type</th><th style = \"text-align: left;\">num-of-cylinders</th><th style = \"text-align: left;\">engine-size</th><th style = \"text-align: left;\">fuel-system</th><th style = \"text-align: left;\">bore</th><th style = \"text-align: left;\">stroke</th><th style = \"text-align: left;\">compression-ratio</th><th style = \"text-align: left;\">horsepower</th><th style = \"text-align: left;\">peak-rpm</th><th style = \"text-align: left;\">city-mpg</th><th style = \"text-align: left;\">highway-mpg</th><th style = \"text-align: left;\">price</th></tr><tr class = \"subheader headerLastRow\"><th class = \"rowNumber\" style = \"font-weight: bold; text-align: right;\"></th><th title = \"Int64\" style = \"text-align: left;\">Int64</th><th title = \"Int64\" style = \"text-align: left;\">Int64</th><th title = \"String15\" style = \"text-align: left;\">String15</th><th title = \"String7\" style = \"text-align: left;\">String7</th><th title = \"String7\" style = \"text-align: left;\">String7</th><th title = \"String7\" style = \"text-align: left;\">String7</th><th title = \"String15\" style = \"text-align: left;\">String15</th><th title = \"String3\" style = \"text-align: left;\">String3</th><th title = \"String7\" style = \"text-align: left;\">String7</th><th title = \"Float64\" style = \"text-align: left;\">Float64</th><th title = \"Float64\" style = \"text-align: left;\">Float64</th><th title = \"Float64\" style = \"text-align: left;\">Float64</th><th title = \"Float64\" style = \"text-align: left;\">Float64</th><th title = \"Int64\" style = \"text-align: left;\">Int64</th><th title = \"String7\" style = \"text-align: left;\">String7</th><th title = \"String7\" style = \"text-align: left;\">String7</th><th title = \"Int64\" style = \"text-align: left;\">Int64</th><th title = \"String7\" style = \"text-align: left;\">String7</th><th title = \"Float64\" style = \"text-align: left;\">Float64</th><th title = \"Float64\" style = \"text-align: left;\">Float64</th><th title = \"Float64\" style = \"text-align: left;\">Float64</th><th title = \"Int64\" style = \"text-align: left;\">Int64</th><th title = \"Int64\" style = \"text-align: left;\">Int64</th><th title = \"Int64\" style = \"text-align: left;\">Int64</th><th title = \"Int64\" style = \"text-align: left;\">Int64</th><th title = \"Int64\" style = \"text-align: left;\">Int64</th></tr></thead><tbody><tr><td class = \"rowNumber\" style = \"font-weight: bold; text-align: right;\">1</td><td style = \"text-align: right;\">2</td><td style = \"text-align: right;\">164</td><td style = \"text-align: left;\">audi</td><td style = \"text-align: left;\">gas</td><td style = \"text-align: left;\">std</td><td style = \"text-align: left;\">four</td><td style = \"text-align: left;\">sedan</td><td style = \"text-align: left;\">fwd</td><td style = \"text-align: left;\">front</td><td style = \"text-align: right;\">99.8</td><td style = \"text-align: right;\">176.6</td><td style = \"text-align: right;\">66.2</td><td style = \"text-align: right;\">54.3</td><td style = \"text-align: right;\">2337</td><td style = \"text-align: left;\">ohc</td><td style = \"text-align: left;\">four</td><td style = \"text-align: right;\">109</td><td style = \"text-align: left;\">mpfi</td><td style = \"text-align: right;\">3.19</td><td style = \"text-align: right;\">3.4</td><td style = \"text-align: right;\">10.0</td><td style = \"text-align: right;\">102</td><td style = \"text-align: right;\">5500</td><td style = \"text-align: right;\">24</td><td style = \"text-align: right;\">30</td><td style = \"text-align: right;\">13950</td></tr><tr><td class = \"rowNumber\" style = \"font-weight: bold; text-align: right;\">2</td><td style = \"text-align: right;\">2</td><td style = \"text-align: right;\">164</td><td style = \"text-align: left;\">audi</td><td style = \"text-align: left;\">gas</td><td style = \"text-align: left;\">std</td><td style = \"text-align: left;\">four</td><td style = \"text-align: left;\">sedan</td><td style = \"text-align: left;\">4wd</td><td style = \"text-align: left;\">front</td><td style = \"text-align: right;\">99.4</td><td style = \"text-align: right;\">176.6</td><td style = \"text-align: right;\">66.4</td><td style = \"text-align: right;\">54.3</td><td style = \"text-align: right;\">2824</td><td style = \"text-align: left;\">ohc</td><td style = \"text-align: left;\">five</td><td style = \"text-align: right;\">136</td><td style = \"text-align: left;\">mpfi</td><td style = \"text-align: right;\">3.19</td><td style = \"text-align: right;\">3.4</td><td style = \"text-align: right;\">8.0</td><td style = \"text-align: right;\">115</td><td style = \"text-align: right;\">5500</td><td style = \"text-align: right;\">18</td><td style = \"text-align: right;\">22</td><td style = \"text-align: right;\">17450</td></tr><tr><td class = \"rowNumber\" style = \"font-weight: bold; text-align: right;\">3</td><td style = \"text-align: right;\">1</td><td style = \"text-align: right;\">158</td><td style = \"text-align: left;\">audi</td><td style = \"text-align: left;\">gas</td><td style = \"text-align: left;\">std</td><td style = \"text-align: left;\">four</td><td style = \"text-align: left;\">sedan</td><td style = \"text-align: left;\">fwd</td><td style = \"text-align: left;\">front</td><td style = \"text-align: right;\">105.8</td><td style = \"text-align: right;\">192.7</td><td style = \"text-align: right;\">71.4</td><td style = \"text-align: right;\">55.7</td><td style = \"text-align: right;\">2844</td><td style = \"text-align: left;\">ohc</td><td style = \"text-align: left;\">five</td><td style = \"text-align: right;\">136</td><td style = \"text-align: left;\">mpfi</td><td style = \"text-align: right;\">3.19</td><td style = \"text-align: right;\">3.4</td><td style = \"text-align: right;\">8.5</td><td style = \"text-align: right;\">110</td><td style = \"text-align: right;\">5500</td><td style = \"text-align: right;\">19</td><td style = \"text-align: right;\">25</td><td style = \"text-align: right;\">17710</td></tr><tr><td class = \"rowNumber\" style = \"font-weight: bold; text-align: right;\">4</td><td style = \"text-align: right;\">1</td><td style = \"text-align: right;\">158</td><td style = \"text-align: left;\">audi</td><td style = \"text-align: left;\">gas</td><td style = \"text-align: left;\">turbo</td><td style = \"text-align: left;\">four</td><td style = \"text-align: left;\">sedan</td><td style = \"text-align: left;\">fwd</td><td style = \"text-align: left;\">front</td><td style = \"text-align: right;\">105.8</td><td style = \"text-align: right;\">192.7</td><td style = \"text-align: right;\">71.4</td><td style = \"text-align: right;\">55.9</td><td style = \"text-align: right;\">3086</td><td style = \"text-align: left;\">ohc</td><td style = \"text-align: left;\">five</td><td style = \"text-align: right;\">131</td><td style = \"text-align: left;\">mpfi</td><td style = \"text-align: right;\">3.13</td><td style = \"text-align: right;\">3.4</td><td style = \"text-align: right;\">8.3</td><td style = \"text-align: right;\">140</td><td style = \"text-align: right;\">5500</td><td style = \"text-align: right;\">17</td><td style = \"text-align: right;\">20</td><td style = \"text-align: right;\">23875</td></tr><tr><td class = \"rowNumber\" style = \"font-weight: bold; text-align: right;\">5</td><td style = \"text-align: right;\">2</td><td style = \"text-align: right;\">192</td><td style = \"text-align: left;\">bmw</td><td style = \"text-align: left;\">gas</td><td style = \"text-align: left;\">std</td><td style = \"text-align: left;\">two</td><td style = \"text-align: left;\">sedan</td><td style = \"text-align: left;\">rwd</td><td style = \"text-align: left;\">front</td><td style = \"text-align: right;\">101.2</td><td style = \"text-align: right;\">176.8</td><td style = \"text-align: right;\">64.8</td><td style = \"text-align: right;\">54.3</td><td style = \"text-align: right;\">2395</td><td style = \"text-align: left;\">ohc</td><td style = \"text-align: left;\">four</td><td style = \"text-align: right;\">108</td><td style = \"text-align: left;\">mpfi</td><td style = \"text-align: right;\">3.5</td><td style = \"text-align: right;\">2.8</td><td style = \"text-align: right;\">8.8</td><td style = \"text-align: right;\">101</td><td style = \"text-align: right;\">5800</td><td style = \"text-align: right;\">23</td><td style = \"text-align: right;\">29</td><td style = \"text-align: right;\">16430</td></tr><tr><td class = \"rowNumber\" style = \"font-weight: bold; text-align: right;\">6</td><td style = \"text-align: right;\">0</td><td style = \"text-align: right;\">192</td><td style = \"text-align: left;\">bmw</td><td style = \"text-align: left;\">gas</td><td style = \"text-align: left;\">std</td><td style = \"text-align: left;\">four</td><td style = \"text-align: left;\">sedan</td><td style = \"text-align: left;\">rwd</td><td style = \"text-align: left;\">front</td><td style = \"text-align: right;\">101.2</td><td style = \"text-align: right;\">176.8</td><td style = \"text-align: right;\">64.8</td><td style = \"text-align: right;\">54.3</td><td style = \"text-align: right;\">2395</td><td style = \"text-align: left;\">ohc</td><td style = \"text-align: left;\">four</td><td style = \"text-align: right;\">108</td><td style = \"text-align: left;\">mpfi</td><td style = \"text-align: right;\">3.5</td><td style = \"text-align: right;\">2.8</td><td style = \"text-align: right;\">8.8</td><td style = \"text-align: right;\">101</td><td style = \"text-align: right;\">5800</td><td style = \"text-align: right;\">23</td><td style = \"text-align: right;\">29</td><td style = \"text-align: right;\">16925</td></tr><tr><td class = \"rowNumber\" style = \"font-weight: bold; text-align: right;\">7</td><td style = \"text-align: right;\">0</td><td style = \"text-align: right;\">188</td><td style = \"text-align: left;\">bmw</td><td style = \"text-align: left;\">gas</td><td style = \"text-align: left;\">std</td><td style = \"text-align: left;\">two</td><td style = \"text-align: left;\">sedan</td><td style = \"text-align: left;\">rwd</td><td style = \"text-align: left;\">front</td><td style = \"text-align: right;\">101.2</td><td style = \"text-align: right;\">176.8</td><td style = \"text-align: right;\">64.8</td><td style = \"text-align: right;\">54.3</td><td style = \"text-align: right;\">2710</td><td style = \"text-align: left;\">ohc</td><td style = \"text-align: left;\">six</td><td style = \"text-align: right;\">164</td><td style = \"text-align: left;\">mpfi</td><td style = \"text-align: right;\">3.31</td><td style = \"text-align: right;\">3.19</td><td style = \"text-align: right;\">9.0</td><td style = \"text-align: right;\">121</td><td style = \"text-align: right;\">4250</td><td style = \"text-align: right;\">21</td><td style = \"text-align: right;\">28</td><td style = \"text-align: right;\">20970</td></tr><tr><td class = \"rowNumber\" style = \"font-weight: bold; text-align: right;\">8</td><td style = \"text-align: right;\">0</td><td style = \"text-align: right;\">188</td><td style = \"text-align: left;\">bmw</td><td style = \"text-align: left;\">gas</td><td style = \"text-align: left;\">std</td><td style = \"text-align: left;\">four</td><td style = \"text-align: left;\">sedan</td><td style = \"text-align: left;\">rwd</td><td style = \"text-align: left;\">front</td><td style = \"text-align: right;\">101.2</td><td style = \"text-align: right;\">176.8</td><td style = \"text-align: right;\">64.8</td><td style = \"text-align: right;\">54.3</td><td style = \"text-align: right;\">2765</td><td style = \"text-align: left;\">ohc</td><td style = \"text-align: left;\">six</td><td style = \"text-align: right;\">164</td><td style = \"text-align: left;\">mpfi</td><td style = \"text-align: right;\">3.31</td><td style = \"text-align: right;\">3.19</td><td style = \"text-align: right;\">9.0</td><td style = \"text-align: right;\">121</td><td style = \"text-align: right;\">4250</td><td style = \"text-align: right;\">21</td><td style = \"text-align: right;\">28</td><td style = \"text-align: right;\">21105</td></tr><tr><td class = \"rowNumber\" style = \"font-weight: bold; text-align: right;\">9</td><td style = \"text-align: right;\">2</td><td style = \"text-align: right;\">121</td><td style = \"text-align: left;\">chevrolet</td><td style = \"text-align: left;\">gas</td><td style = \"text-align: left;\">std</td><td style = \"text-align: left;\">two</td><td style = \"text-align: left;\">hatchback</td><td style = \"text-align: left;\">fwd</td><td style = \"text-align: left;\">front</td><td style = \"text-align: right;\">88.4</td><td style = \"text-align: right;\">141.1</td><td style = \"text-align: right;\">60.3</td><td style = \"text-align: right;\">53.2</td><td style = \"text-align: right;\">1488</td><td style = \"text-align: left;\">l</td><td style = \"text-align: left;\">three</td><td style = \"text-align: right;\">61</td><td style = \"text-align: left;\">2bbl</td><td style = \"text-align: right;\">2.91</td><td style = \"text-align: right;\">3.03</td><td style = \"text-align: right;\">9.5</td><td style = \"text-align: right;\">48</td><td style = \"text-align: right;\">5100</td><td style = \"text-align: right;\">47</td><td style = \"text-align: right;\">53</td><td style = \"text-align: right;\">5151</td></tr><tr><td class = \"rowNumber\" style = \"font-weight: bold; text-align: right;\">10</td><td style = \"text-align: right;\">1</td><td style = \"text-align: right;\">98</td><td style = \"text-align: left;\">chevrolet</td><td style = \"text-align: left;\">gas</td><td style = \"text-align: left;\">std</td><td style = \"text-align: left;\">two</td><td style = \"text-align: left;\">hatchback</td><td style = \"text-align: left;\">fwd</td><td style = \"text-align: left;\">front</td><td style = \"text-align: right;\">94.5</td><td style = \"text-align: right;\">155.9</td><td style = \"text-align: right;\">63.6</td><td style = \"text-align: right;\">52.0</td><td style = \"text-align: right;\">1874</td><td style = \"text-align: left;\">ohc</td><td style = \"text-align: left;\">four</td><td style = \"text-align: right;\">90</td><td style = \"text-align: left;\">2bbl</td><td style = \"text-align: right;\">3.03</td><td style = \"text-align: right;\">3.11</td><td style = \"text-align: right;\">9.6</td><td style = \"text-align: right;\">70</td><td style = \"text-align: right;\">5400</td><td style = \"text-align: right;\">38</td><td style = \"text-align: right;\">43</td><td style = \"text-align: right;\">6295</td></tr><tr><td class = \"rowNumber\" style = \"font-weight: bold; text-align: right;\">11</td><td style = \"text-align: right;\">0</td><td style = \"text-align: right;\">81</td><td style = \"text-align: left;\">chevrolet</td><td style = \"text-align: left;\">gas</td><td style = \"text-align: left;\">std</td><td style = \"text-align: left;\">four</td><td style = \"text-align: left;\">sedan</td><td style = \"text-align: left;\">fwd</td><td style = \"text-align: left;\">front</td><td style = \"text-align: right;\">94.5</td><td style = \"text-align: right;\">158.8</td><td style = \"text-align: right;\">63.6</td><td style = \"text-align: right;\">52.0</td><td style = \"text-align: right;\">1909</td><td style = \"text-align: left;\">ohc</td><td style = \"text-align: left;\">four</td><td style = \"text-align: right;\">90</td><td style = \"text-align: left;\">2bbl</td><td style = \"text-align: right;\">3.03</td><td style = \"text-align: right;\">3.11</td><td style = \"text-align: right;\">9.6</td><td style = \"text-align: right;\">70</td><td style = \"text-align: right;\">5400</td><td style = \"text-align: right;\">38</td><td style = \"text-align: right;\">43</td><td style = \"text-align: right;\">6575</td></tr><tr><td class = \"rowNumber\" style = \"font-weight: bold; text-align: right;\">12</td><td style = \"text-align: right;\">1</td><td style = \"text-align: right;\">118</td><td style = \"text-align: left;\">dodge</td><td style = \"text-align: left;\">gas</td><td style = \"text-align: left;\">std</td><td style = \"text-align: left;\">two</td><td style = \"text-align: left;\">hatchback</td><td style = \"text-align: left;\">fwd</td><td style = \"text-align: left;\">front</td><td style = \"text-align: right;\">93.7</td><td style = \"text-align: right;\">157.3</td><td style = \"text-align: right;\">63.8</td><td style = \"text-align: right;\">50.8</td><td style = \"text-align: right;\">1876</td><td style = \"text-align: left;\">ohc</td><td style = \"text-align: left;\">four</td><td style = \"text-align: right;\">90</td><td style = \"text-align: left;\">2bbl</td><td style = \"text-align: right;\">2.97</td><td style = \"text-align: right;\">3.23</td><td style = \"text-align: right;\">9.41</td><td style = \"text-align: right;\">68</td><td style = \"text-align: right;\">5500</td><td style = \"text-align: right;\">37</td><td style = \"text-align: right;\">41</td><td style = \"text-align: right;\">5572</td></tr><tr><td class = \"rowNumber\" style = \"font-weight: bold; text-align: right;\">13</td><td style = \"text-align: right;\">1</td><td style = \"text-align: right;\">118</td><td style = \"text-align: left;\">dodge</td><td style = \"text-align: left;\">gas</td><td style = \"text-align: left;\">std</td><td style = \"text-align: left;\">two</td><td style = \"text-align: left;\">hatchback</td><td style = \"text-align: left;\">fwd</td><td style = \"text-align: left;\">front</td><td style = \"text-align: right;\">93.7</td><td style = \"text-align: right;\">157.3</td><td style = \"text-align: right;\">63.8</td><td style = \"text-align: right;\">50.8</td><td style = \"text-align: right;\">1876</td><td style = \"text-align: left;\">ohc</td><td style = \"text-align: left;\">four</td><td style = \"text-align: right;\">90</td><td style = \"text-align: left;\">2bbl</td><td style = \"text-align: right;\">2.97</td><td style = \"text-align: right;\">3.23</td><td style = \"text-align: right;\">9.4</td><td style = \"text-align: right;\">68</td><td style = \"text-align: right;\">5500</td><td style = \"text-align: right;\">31</td><td style = \"text-align: right;\">38</td><td style = \"text-align: right;\">6377</td></tr><tr><td style = \"text-align: right;\">&vellip;</td><td style = \"text-align: right;\">&vellip;</td><td style = \"text-align: right;\">&vellip;</td><td style = \"text-align: right;\">&vellip;</td><td style = \"text-align: right;\">&vellip;</td><td style = \"text-align: right;\">&vellip;</td><td style = \"text-align: right;\">&vellip;</td><td style = \"text-align: right;\">&vellip;</td><td style = \"text-align: right;\">&vellip;</td><td style = \"text-align: right;\">&vellip;</td><td style = \"text-align: right;\">&vellip;</td><td style = \"text-align: right;\">&vellip;</td><td style = \"text-align: right;\">&vellip;</td><td style = \"text-align: right;\">&vellip;</td><td style = \"text-align: right;\">&vellip;</td><td style = \"text-align: right;\">&vellip;</td><td style = \"text-align: right;\">&vellip;</td><td style = \"text-align: right;\">&vellip;</td><td style = \"text-align: right;\">&vellip;</td><td style = \"text-align: right;\">&vellip;</td><td style = \"text-align: right;\">&vellip;</td><td style = \"text-align: right;\">&vellip;</td><td style = \"text-align: right;\">&vellip;</td><td style = \"text-align: right;\">&vellip;</td><td style = \"text-align: right;\">&vellip;</td><td style = \"text-align: right;\">&vellip;</td><td style = \"text-align: right;\">&vellip;</td></tr><tr><td class = \"rowNumber\" style = \"font-weight: bold; text-align: right;\">148</td><td style = \"text-align: right;\">3</td><td style = \"text-align: right;\">256</td><td style = \"text-align: left;\">volkswagen</td><td style = \"text-align: left;\">gas</td><td style = \"text-align: left;\">std</td><td style = \"text-align: left;\">two</td><td style = \"text-align: left;\">hatchback</td><td style = \"text-align: left;\">fwd</td><td style = \"text-align: left;\">front</td><td style = \"text-align: right;\">94.5</td><td style = \"text-align: right;\">165.7</td><td style = \"text-align: right;\">64.0</td><td style = \"text-align: right;\">51.4</td><td style = \"text-align: right;\">2221</td><td style = \"text-align: left;\">ohc</td><td style = \"text-align: left;\">four</td><td style = \"text-align: right;\">109</td><td style = \"text-align: left;\">mpfi</td><td style = \"text-align: right;\">3.19</td><td style = \"text-align: right;\">3.4</td><td style = \"text-align: right;\">8.5</td><td style = \"text-align: right;\">90</td><td style = \"text-align: right;\">5500</td><td style = \"text-align: right;\">24</td><td style = \"text-align: right;\">29</td><td style = \"text-align: right;\">9980</td></tr><tr><td class = \"rowNumber\" style = \"font-weight: bold; text-align: right;\">149</td><td style = \"text-align: right;\">-2</td><td style = \"text-align: right;\">103</td><td style = \"text-align: left;\">volvo</td><td style = \"text-align: left;\">gas</td><td style = \"text-align: left;\">std</td><td style = \"text-align: left;\">four</td><td style = \"text-align: left;\">sedan</td><td style = \"text-align: left;\">rwd</td><td style = \"text-align: left;\">front</td><td style = \"text-align: right;\">104.3</td><td style = \"text-align: right;\">188.8</td><td style = \"text-align: right;\">67.2</td><td style = \"text-align: right;\">56.2</td><td style = \"text-align: right;\">2912</td><td style = \"text-align: left;\">ohc</td><td style = \"text-align: left;\">four</td><td style = \"text-align: right;\">141</td><td style = \"text-align: left;\">mpfi</td><td style = \"text-align: right;\">3.78</td><td style = \"text-align: right;\">3.15</td><td style = \"text-align: right;\">9.5</td><td style = \"text-align: right;\">114</td><td style = \"text-align: right;\">5400</td><td style = \"text-align: right;\">23</td><td style = \"text-align: right;\">28</td><td style = \"text-align: right;\">12940</td></tr><tr><td class = \"rowNumber\" style = \"font-weight: bold; text-align: right;\">150</td><td style = \"text-align: right;\">-1</td><td style = \"text-align: right;\">74</td><td style = \"text-align: left;\">volvo</td><td style = \"text-align: left;\">gas</td><td style = \"text-align: left;\">std</td><td style = \"text-align: left;\">four</td><td style = \"text-align: left;\">wagon</td><td style = \"text-align: left;\">rwd</td><td style = \"text-align: left;\">front</td><td style = \"text-align: right;\">104.3</td><td style = \"text-align: right;\">188.8</td><td style = \"text-align: right;\">67.2</td><td style = \"text-align: right;\">57.5</td><td style = \"text-align: right;\">3034</td><td style = \"text-align: left;\">ohc</td><td style = \"text-align: left;\">four</td><td style = \"text-align: right;\">141</td><td style = \"text-align: left;\">mpfi</td><td style = \"text-align: right;\">3.78</td><td style = \"text-align: right;\">3.15</td><td style = \"text-align: right;\">9.5</td><td style = \"text-align: right;\">114</td><td style = \"text-align: right;\">5400</td><td style = \"text-align: right;\">23</td><td style = \"text-align: right;\">28</td><td style = \"text-align: right;\">13415</td></tr><tr><td class = \"rowNumber\" style = \"font-weight: bold; text-align: right;\">151</td><td style = \"text-align: right;\">-2</td><td style = \"text-align: right;\">103</td><td style = \"text-align: left;\">volvo</td><td style = \"text-align: left;\">gas</td><td style = \"text-align: left;\">std</td><td style = \"text-align: left;\">four</td><td style = \"text-align: left;\">sedan</td><td style = \"text-align: left;\">rwd</td><td style = \"text-align: left;\">front</td><td style = \"text-align: right;\">104.3</td><td style = \"text-align: right;\">188.8</td><td style = \"text-align: right;\">67.2</td><td style = \"text-align: right;\">56.2</td><td style = \"text-align: right;\">2935</td><td style = \"text-align: left;\">ohc</td><td style = \"text-align: left;\">four</td><td style = \"text-align: right;\">141</td><td style = \"text-align: left;\">mpfi</td><td style = \"text-align: right;\">3.78</td><td style = \"text-align: right;\">3.15</td><td style = \"text-align: right;\">9.5</td><td style = \"text-align: right;\">114</td><td style = \"text-align: right;\">5400</td><td style = \"text-align: right;\">24</td><td style = \"text-align: right;\">28</td><td style = \"text-align: right;\">15985</td></tr><tr><td class = \"rowNumber\" style = \"font-weight: bold; text-align: right;\">152</td><td style = \"text-align: right;\">-1</td><td style = \"text-align: right;\">74</td><td style = \"text-align: left;\">volvo</td><td style = \"text-align: left;\">gas</td><td style = \"text-align: left;\">std</td><td style = \"text-align: left;\">four</td><td style = \"text-align: left;\">wagon</td><td style = \"text-align: left;\">rwd</td><td style = \"text-align: left;\">front</td><td style = \"text-align: right;\">104.3</td><td style = \"text-align: right;\">188.8</td><td style = \"text-align: right;\">67.2</td><td style = \"text-align: right;\">57.5</td><td style = \"text-align: right;\">3042</td><td style = \"text-align: left;\">ohc</td><td style = \"text-align: left;\">four</td><td style = \"text-align: right;\">141</td><td style = \"text-align: left;\">mpfi</td><td style = \"text-align: right;\">3.78</td><td style = \"text-align: right;\">3.15</td><td style = \"text-align: right;\">9.5</td><td style = \"text-align: right;\">114</td><td style = \"text-align: right;\">5400</td><td style = \"text-align: right;\">24</td><td style = \"text-align: right;\">28</td><td style = \"text-align: right;\">16515</td></tr><tr><td class = \"rowNumber\" style = \"font-weight: bold; text-align: right;\">153</td><td style = \"text-align: right;\">-2</td><td style = \"text-align: right;\">103</td><td style = \"text-align: left;\">volvo</td><td style = \"text-align: left;\">gas</td><td style = \"text-align: left;\">turbo</td><td style = \"text-align: left;\">four</td><td style = \"text-align: left;\">sedan</td><td style = \"text-align: left;\">rwd</td><td style = \"text-align: left;\">front</td><td style = \"text-align: right;\">104.3</td><td style = \"text-align: right;\">188.8</td><td style = \"text-align: right;\">67.2</td><td style = \"text-align: right;\">56.2</td><td style = \"text-align: right;\">3045</td><td style = \"text-align: left;\">ohc</td><td style = \"text-align: left;\">four</td><td style = \"text-align: right;\">130</td><td style = \"text-align: left;\">mpfi</td><td style = \"text-align: right;\">3.62</td><td style = \"text-align: right;\">3.15</td><td style = \"text-align: right;\">7.5</td><td style = \"text-align: right;\">162</td><td style = \"text-align: right;\">5100</td><td style = \"text-align: right;\">17</td><td style = \"text-align: right;\">22</td><td style = \"text-align: right;\">18420</td></tr><tr><td class = \"rowNumber\" style = \"font-weight: bold; text-align: right;\">154</td><td style = \"text-align: right;\">-1</td><td style = \"text-align: right;\">74</td><td style = \"text-align: left;\">volvo</td><td style = \"text-align: left;\">gas</td><td style = \"text-align: left;\">turbo</td><td style = \"text-align: left;\">four</td><td style = \"text-align: left;\">wagon</td><td style = \"text-align: left;\">rwd</td><td style = \"text-align: left;\">front</td><td style = \"text-align: right;\">104.3</td><td style = \"text-align: right;\">188.8</td><td style = \"text-align: right;\">67.2</td><td style = \"text-align: right;\">57.5</td><td style = \"text-align: right;\">3157</td><td style = \"text-align: left;\">ohc</td><td style = \"text-align: left;\">four</td><td style = \"text-align: right;\">130</td><td style = \"text-align: left;\">mpfi</td><td style = \"text-align: right;\">3.62</td><td style = \"text-align: right;\">3.15</td><td style = \"text-align: right;\">7.5</td><td style = \"text-align: right;\">162</td><td style = \"text-align: right;\">5100</td><td style = \"text-align: right;\">17</td><td style = \"text-align: right;\">22</td><td style = \"text-align: right;\">18950</td></tr><tr><td class = \"rowNumber\" style = \"font-weight: bold; text-align: right;\">155</td><td style = \"text-align: right;\">-1</td><td style = \"text-align: right;\">95</td><td style = \"text-align: left;\">volvo</td><td style = \"text-align: left;\">gas</td><td style = \"text-align: left;\">std</td><td style = \"text-align: left;\">four</td><td style = \"text-align: left;\">sedan</td><td style = \"text-align: left;\">rwd</td><td style = \"text-align: left;\">front</td><td style = \"text-align: right;\">109.1</td><td style = \"text-align: right;\">188.8</td><td style = \"text-align: right;\">68.9</td><td style = \"text-align: right;\">55.5</td><td style = \"text-align: right;\">2952</td><td style = \"text-align: left;\">ohc</td><td style = \"text-align: left;\">four</td><td style = \"text-align: right;\">141</td><td style = \"text-align: left;\">mpfi</td><td style = \"text-align: right;\">3.78</td><td style = \"text-align: right;\">3.15</td><td style = \"text-align: right;\">9.5</td><td style = \"text-align: right;\">114</td><td style = \"text-align: right;\">5400</td><td style = \"text-align: right;\">23</td><td style = \"text-align: right;\">28</td><td style = \"text-align: right;\">16845</td></tr><tr><td class = \"rowNumber\" style = \"font-weight: bold; text-align: right;\">156</td><td style = \"text-align: right;\">-1</td><td style = \"text-align: right;\">95</td><td style = \"text-align: left;\">volvo</td><td style = \"text-align: left;\">gas</td><td style = \"text-align: left;\">turbo</td><td style = \"text-align: left;\">four</td><td style = \"text-align: left;\">sedan</td><td style = \"text-align: left;\">rwd</td><td style = \"text-align: left;\">front</td><td style = \"text-align: right;\">109.1</td><td style = \"text-align: right;\">188.8</td><td style = \"text-align: right;\">68.8</td><td style = \"text-align: right;\">55.5</td><td style = \"text-align: right;\">3049</td><td style = \"text-align: left;\">ohc</td><td style = \"text-align: left;\">four</td><td style = \"text-align: right;\">141</td><td style = \"text-align: left;\">mpfi</td><td style = \"text-align: right;\">3.78</td><td style = \"text-align: right;\">3.15</td><td style = \"text-align: right;\">8.7</td><td style = \"text-align: right;\">160</td><td style = \"text-align: right;\">5300</td><td style = \"text-align: right;\">19</td><td style = \"text-align: right;\">25</td><td style = \"text-align: right;\">19045</td></tr><tr><td class = \"rowNumber\" style = \"font-weight: bold; text-align: right;\">157</td><td style = \"text-align: right;\">-1</td><td style = \"text-align: right;\">95</td><td style = \"text-align: left;\">volvo</td><td style = \"text-align: left;\">gas</td><td style = \"text-align: left;\">std</td><td style = \"text-align: left;\">four</td><td style = \"text-align: left;\">sedan</td><td style = \"text-align: left;\">rwd</td><td style = \"text-align: left;\">front</td><td style = \"text-align: right;\">109.1</td><td style = \"text-align: right;\">188.8</td><td style = \"text-align: right;\">68.9</td><td style = \"text-align: right;\">55.5</td><td style = \"text-align: right;\">3012</td><td style = \"text-align: left;\">ohcv</td><td style = \"text-align: left;\">six</td><td style = \"text-align: right;\">173</td><td style = \"text-align: left;\">mpfi</td><td style = \"text-align: right;\">3.58</td><td style = \"text-align: right;\">2.87</td><td style = \"text-align: right;\">8.8</td><td style = \"text-align: right;\">134</td><td style = \"text-align: right;\">5500</td><td style = \"text-align: right;\">18</td><td style = \"text-align: right;\">23</td><td style = \"text-align: right;\">21485</td></tr><tr><td class = \"rowNumber\" style = \"font-weight: bold; text-align: right;\">158</td><td style = \"text-align: right;\">-1</td><td style = \"text-align: right;\">95</td><td style = \"text-align: left;\">volvo</td><td style = \"text-align: left;\">diesel</td><td style = \"text-align: left;\">turbo</td><td style = \"text-align: left;\">four</td><td style = \"text-align: left;\">sedan</td><td style = \"text-align: left;\">rwd</td><td style = \"text-align: left;\">front</td><td style = \"text-align: right;\">109.1</td><td style = \"text-align: right;\">188.8</td><td style = \"text-align: right;\">68.9</td><td style = \"text-align: right;\">55.5</td><td style = \"text-align: right;\">3217</td><td style = \"text-align: left;\">ohc</td><td style = \"text-align: left;\">six</td><td style = \"text-align: right;\">145</td><td style = \"text-align: left;\">idi</td><td style = \"text-align: right;\">3.01</td><td style = \"text-align: right;\">3.4</td><td style = \"text-align: right;\">23.0</td><td style = \"text-align: right;\">106</td><td style = \"text-align: right;\">4800</td><td style = \"text-align: right;\">26</td><td style = \"text-align: right;\">27</td><td style = \"text-align: right;\">22470</td></tr><tr><td class = \"rowNumber\" style = \"font-weight: bold; text-align: right;\">159</td><td style = \"text-align: right;\">-1</td><td style = \"text-align: right;\">95</td><td style = \"text-align: left;\">volvo</td><td style = \"text-align: left;\">gas</td><td style = \"text-align: left;\">turbo</td><td style = \"text-align: left;\">four</td><td style = \"text-align: left;\">sedan</td><td style = \"text-align: left;\">rwd</td><td style = \"text-align: left;\">front</td><td style = \"text-align: right;\">109.1</td><td style = \"text-align: right;\">188.8</td><td style = \"text-align: right;\">68.9</td><td style = \"text-align: right;\">55.5</td><td style = \"text-align: right;\">3062</td><td style = \"text-align: left;\">ohc</td><td style = \"text-align: left;\">four</td><td style = \"text-align: right;\">141</td><td style = \"text-align: left;\">mpfi</td><td style = \"text-align: right;\">3.78</td><td style = \"text-align: right;\">3.15</td><td style = \"text-align: right;\">9.5</td><td style = \"text-align: right;\">114</td><td style = \"text-align: right;\">5400</td><td style = \"text-align: right;\">19</td><td style = \"text-align: right;\">25</td><td style = \"text-align: right;\">22625</td></tr></tbody></table></div>"
      ],
      "text/latex": [
       "\\begin{tabular}{r|cccccccc}\n",
       "\t& symboling & normalized-losses & make & fuel-type & aspiration & num-of-doors & body-style & \\\\\n",
       "\t\\hline\n",
       "\t& Int64 & Int64 & String15 & String7 & String7 & String7 & String15 & \\\\\n",
       "\t\\hline\n",
       "\t1 & 2 & 164 & audi & gas & std & four & sedan & $\\dots$ \\\\\n",
       "\t2 & 2 & 164 & audi & gas & std & four & sedan & $\\dots$ \\\\\n",
       "\t3 & 1 & 158 & audi & gas & std & four & sedan & $\\dots$ \\\\\n",
       "\t4 & 1 & 158 & audi & gas & turbo & four & sedan & $\\dots$ \\\\\n",
       "\t5 & 2 & 192 & bmw & gas & std & two & sedan & $\\dots$ \\\\\n",
       "\t6 & 0 & 192 & bmw & gas & std & four & sedan & $\\dots$ \\\\\n",
       "\t7 & 0 & 188 & bmw & gas & std & two & sedan & $\\dots$ \\\\\n",
       "\t8 & 0 & 188 & bmw & gas & std & four & sedan & $\\dots$ \\\\\n",
       "\t9 & 2 & 121 & chevrolet & gas & std & two & hatchback & $\\dots$ \\\\\n",
       "\t10 & 1 & 98 & chevrolet & gas & std & two & hatchback & $\\dots$ \\\\\n",
       "\t11 & 0 & 81 & chevrolet & gas & std & four & sedan & $\\dots$ \\\\\n",
       "\t12 & 1 & 118 & dodge & gas & std & two & hatchback & $\\dots$ \\\\\n",
       "\t13 & 1 & 118 & dodge & gas & std & two & hatchback & $\\dots$ \\\\\n",
       "\t14 & 1 & 118 & dodge & gas & turbo & two & hatchback & $\\dots$ \\\\\n",
       "\t15 & 1 & 148 & dodge & gas & std & four & hatchback & $\\dots$ \\\\\n",
       "\t16 & 1 & 148 & dodge & gas & std & four & sedan & $\\dots$ \\\\\n",
       "\t17 & 1 & 148 & dodge & gas & std & four & sedan & $\\dots$ \\\\\n",
       "\t18 & -1 & 110 & dodge & gas & std & four & wagon & $\\dots$ \\\\\n",
       "\t19 & 3 & 145 & dodge & gas & turbo & two & hatchback & $\\dots$ \\\\\n",
       "\t20 & 2 & 137 & honda & gas & std & two & hatchback & $\\dots$ \\\\\n",
       "\t21 & 2 & 137 & honda & gas & std & two & hatchback & $\\dots$ \\\\\n",
       "\t22 & 1 & 101 & honda & gas & std & two & hatchback & $\\dots$ \\\\\n",
       "\t23 & 1 & 101 & honda & gas & std & two & hatchback & $\\dots$ \\\\\n",
       "\t24 & 1 & 101 & honda & gas & std & two & hatchback & $\\dots$ \\\\\n",
       "\t25 & 0 & 110 & honda & gas & std & four & sedan & $\\dots$ \\\\\n",
       "\t26 & 0 & 78 & honda & gas & std & four & wagon & $\\dots$ \\\\\n",
       "\t27 & 0 & 106 & honda & gas & std & two & hatchback & $\\dots$ \\\\\n",
       "\t28 & 0 & 106 & honda & gas & std & two & hatchback & $\\dots$ \\\\\n",
       "\t29 & 0 & 85 & honda & gas & std & four & sedan & $\\dots$ \\\\\n",
       "\t30 & 0 & 85 & honda & gas & std & four & sedan & $\\dots$ \\\\\n",
       "\t$\\dots$ & $\\dots$ & $\\dots$ & $\\dots$ & $\\dots$ & $\\dots$ & $\\dots$ & $\\dots$ &  \\\\\n",
       "\\end{tabular}\n"
      ],
      "text/plain": [
       "\u001b[1m159×26 DataFrame\u001b[0m\n",
       "\u001b[1m Row \u001b[0m│\u001b[1m symboling \u001b[0m\u001b[1m normalized-losses \u001b[0m\u001b[1m make       \u001b[0m\u001b[1m fuel-type \u001b[0m\u001b[1m aspiration \u001b[0m\u001b[1m num-of\u001b[0m ⋯\n",
       "     │\u001b[90m Int64     \u001b[0m\u001b[90m Int64             \u001b[0m\u001b[90m String15   \u001b[0m\u001b[90m String7   \u001b[0m\u001b[90m String7    \u001b[0m\u001b[90m String\u001b[0m ⋯\n",
       "─────┼──────────────────────────────────────────────────────────────────────────\n",
       "   1 │         2                164  audi        gas        std         four   ⋯\n",
       "   2 │         2                164  audi        gas        std         four\n",
       "   3 │         1                158  audi        gas        std         four\n",
       "   4 │         1                158  audi        gas        turbo       four\n",
       "   5 │         2                192  bmw         gas        std         two    ⋯\n",
       "   6 │         0                192  bmw         gas        std         four\n",
       "   7 │         0                188  bmw         gas        std         two\n",
       "   8 │         0                188  bmw         gas        std         four\n",
       "   9 │         2                121  chevrolet   gas        std         two    ⋯\n",
       "  10 │         1                 98  chevrolet   gas        std         two\n",
       "  11 │         0                 81  chevrolet   gas        std         four\n",
       "  ⋮  │     ⋮              ⋮              ⋮           ⋮          ⋮            ⋮ ⋱\n",
       " 150 │        -1                 74  volvo       gas        std         four\n",
       " 151 │        -2                103  volvo       gas        std         four   ⋯\n",
       " 152 │        -1                 74  volvo       gas        std         four\n",
       " 153 │        -2                103  volvo       gas        turbo       four\n",
       " 154 │        -1                 74  volvo       gas        turbo       four\n",
       " 155 │        -1                 95  volvo       gas        std         four   ⋯\n",
       " 156 │        -1                 95  volvo       gas        turbo       four\n",
       " 157 │        -1                 95  volvo       gas        std         four\n",
       " 158 │        -1                 95  volvo       diesel     turbo       four\n",
       " 159 │        -1                 95  volvo       gas        turbo       four   ⋯\n",
       "\u001b[36m                                                 21 columns and 138 rows omitted\u001b[0m"
      ]
     },
     "execution_count": 5,
     "metadata": {},
     "output_type": "execute_result"
    }
   ],
   "source": [
    "df = CSV.read(\"clean_data.csv\", DataFrame)"
   ]
  },
  {
   "cell_type": "code",
   "execution_count": 9,
   "id": "e4ef89d3",
   "metadata": {},
   "outputs": [
    {
     "ename": "LoadError",
     "evalue": "MethodError: no method matching +(::Float64, ::String15)\n\u001b[0mClosest candidates are:\n\u001b[0m  +(::Any, ::Any, \u001b[91m::Any\u001b[39m, \u001b[91m::Any...\u001b[39m) at operators.jl:591\n\u001b[0m  +(::T, \u001b[91m::T\u001b[39m) where T<:Union{Float16, Float32, Float64} at float.jl:383\n\u001b[0m  +(::Union{Float16, Float32, Float64}, \u001b[91m::BigFloat\u001b[39m) at mpfr.jl:414\n\u001b[0m  ...",
     "output_type": "error",
     "traceback": [
      "MethodError: no method matching +(::Float64, ::String15)\n\u001b[0mClosest candidates are:\n\u001b[0m  +(::Any, ::Any, \u001b[91m::Any\u001b[39m, \u001b[91m::Any...\u001b[39m) at operators.jl:591\n\u001b[0m  +(::T, \u001b[91m::T\u001b[39m) where T<:Union{Float16, Float32, Float64} at float.jl:383\n\u001b[0m  +(::Union{Float16, Float32, Float64}, \u001b[91m::BigFloat\u001b[39m) at mpfr.jl:414\n\u001b[0m  ...",
      "",
      "Stacktrace:",
      "  [1] add_sum(x::Float64, y::String15)",
      "    @ Base ./reduce.jl:24",
      "  [2] macro expansion",
      "    @ ./reduce.jl:260 [inlined]",
      "  [3] macro expansion",
      "    @ ./simdloop.jl:77 [inlined]",
      "  [4] mapreduce_impl(f::Statistics.var\"#4#6\"{typeof(identity), Float64}, op::typeof(Base.add_sum), A::Matrix{Any}, ifirst::Int64, ilast::Int64, blksize::Int64)",
      "    @ Base ./reduce.jl:258",
      "  [5] mapreduce_impl(f::Statistics.var\"#4#6\"{typeof(identity), Float64}, op::typeof(Base.add_sum), A::Matrix{Any}, ifirst::Int64, ilast::Int64, blksize::Int64) (repeats 2 times)",
      "    @ Base ./reduce.jl:266",
      "  [6] mapreduce_impl",
      "    @ ./reduce.jl:272 [inlined]",
      "  [7] _mapreduce(f::Statistics.var\"#4#6\"{typeof(identity), Float64}, op::typeof(Base.add_sum), #unused#::IndexLinear, A::Matrix{Any})",
      "    @ Base ./reduce.jl:442",
      "  [8] _mapreduce_dim",
      "    @ ./reducedim.jl:365 [inlined]",
      "  [9] #mapreduce#765",
      "    @ ./reducedim.jl:357 [inlined]",
      " [10] mapreduce",
      "    @ ./reducedim.jl:357 [inlined]",
      " [11] #_sum#775",
      "    @ ./reducedim.jl:999 [inlined]",
      " [12] _sum",
      "    @ ./reducedim.jl:999 [inlined]",
      " [13] #sum#773",
      "    @ ./reducedim.jl:995 [inlined]",
      " [14] sum",
      "    @ ./reducedim.jl:995 [inlined]",
      " [15] _reducedim_init(f::Statistics.var\"#4#6\"{typeof(identity), Float64}, op::typeof(Base.add_sum), fv::typeof(zero), fop::typeof(sum), A::Matrix{Any}, region::Int64)",
      "    @ Base ./reducedim.jl:120",
      " [16] reducedim_init(f::Function, op::typeof(Base.add_sum), A::Matrix{Any}, region::Int64)",
      "    @ Base ./reducedim.jl:108",
      " [17] _mapreduce_dim(f::Function, op::Function, #unused#::Base._InitialValue, A::Matrix{Any}, dims::Int64)",
      "    @ Base ./reducedim.jl:371",
      " [18] #mapreduce#765",
      "    @ ./reducedim.jl:357 [inlined]",
      " [19] #_sum#799",
      "    @ ./reducedim.jl:1023 [inlined]",
      " [20] _sum",
      "    @ ./reducedim.jl:1023 [inlined]",
      " [21] #sum#773",
      "    @ ./reducedim.jl:995 [inlined]",
      " [22] _mean(f::typeof(identity), A::Matrix{Any}, dims::Int64)",
      "    @ Statistics /opt/julia-1.8.3/share/julia/stdlib/v1.8/Statistics/src/Statistics.jl:177",
      " [23] #mean#2",
      "    @ /opt/julia-1.8.3/share/julia/stdlib/v1.8/Statistics/src/Statistics.jl:164 [inlined]",
      " [24] _vmean",
      "    @ /opt/julia-1.8.3/share/julia/stdlib/v1.8/Statistics/src/Statistics.jl:514 [inlined]",
      " [25] cor(X::Matrix{Any}; dims::Int64)",
      "    @ Statistics /opt/julia-1.8.3/share/julia/stdlib/v1.8/Statistics/src/Statistics.jl:730",
      " [26] cor(X::Matrix{Any})",
      "    @ Statistics /opt/julia-1.8.3/share/julia/stdlib/v1.8/Statistics/src/Statistics.jl:730",
      " [27] macro expansion",
      "    @ ~/.julia/packages/StatsPlots/omhFT/src/corrplot.jl:45 [inlined]",
      " [28] apply_recipe(plotattributes::AbstractDict{Symbol, Any}, cp::StatsPlots.CorrPlot)",
      "    @ StatsPlots ~/.julia/packages/RecipesBase/eU0hg/src/RecipesBase.jl:300",
      " [29] _process_userrecipes!(plt::Any, plotattributes::Any, args::Any)",
      "    @ RecipesPipeline ~/.julia/packages/RecipesPipeline/XxUHt/src/user_recipe.jl:38",
      " [30] recipe_pipeline!(plt::Any, plotattributes::Any, args::Any)",
      "    @ RecipesPipeline ~/.julia/packages/RecipesPipeline/XxUHt/src/RecipesPipeline.jl:72",
      " [31] _plot!(plt::Plots.Plot, plotattributes::Any, args::Any)",
      "    @ Plots ~/.julia/packages/Plots/Pn7Zn/src/plot.jl:223",
      " [32] #plot#182",
      "    @ ~/.julia/packages/Plots/Pn7Zn/src/plot.jl:102 [inlined]",
      " [33] #corrplot#41",
      "    @ ~/.julia/packages/RecipesBase/eU0hg/src/RecipesBase.jl:380 [inlined]",
      " [34] add_label(argnames::Vector{Matrix{Symbol}}, f::typeof(corrplot), args::Matrix{Any}; kwargs::Base.Pairs{Symbol, Bool, Tuple{Symbol}, NamedTuple{(:grid,), Tuple{Bool}}})",
      "    @ StatsPlots ~/.julia/packages/StatsPlots/omhFT/src/df.jl:173",
      " [35] (::var\"#3#4\")(315::DataFrame)",
      "    @ Main ./none:0",
      " [36] top-level scope",
      "    @ In[9]:3",
      " [37] eval",
      "    @ ./boot.jl:368 [inlined]",
      " [38] include_string(mapexpr::typeof(REPL.softscope), mod::Module, code::String, filename::String)",
      "    @ Base ./loading.jl:1428"
     ]
    }
   ],
   "source": [
    "gr(size =  (600, 500))\n",
    "\n"
   ]
  },
  {
   "cell_type": "code",
   "execution_count": null,
   "id": "d892b7b9",
   "metadata": {},
   "outputs": [],
   "source": []
  }
 ],
 "metadata": {
  "kernelspec": {
   "display_name": "Julia 1.8.3",
   "language": "julia",
   "name": "julia-1.8"
  },
  "language_info": {
   "file_extension": ".jl",
   "mimetype": "application/julia",
   "name": "julia",
   "version": "1.8.3"
  }
 },
 "nbformat": 4,
 "nbformat_minor": 5
}
