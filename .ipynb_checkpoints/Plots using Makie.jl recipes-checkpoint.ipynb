{
 "cells": [
  {
   "cell_type": "markdown",
   "id": "cd174b50",
   "metadata": {},
   "source": [
    "# Creating a Makie Recipe for plotting DataFrames"
   ]
  },
  {
   "cell_type": "code",
   "execution_count": 6,
   "id": "4aa5148a",
   "metadata": {},
   "outputs": [
    {
     "name": "stderr",
     "output_type": "stream",
     "text": [
      "\u001b[32m\u001b[1m    Updating\u001b[22m\u001b[39m registry at `~/.julia/registries/General.toml`\n",
      "\u001b[32m\u001b[1m   Resolving\u001b[22m\u001b[39m package versions...\n",
      "\u001b[32m\u001b[1m    Updating\u001b[22m\u001b[39m `~/.julia/environments/v1.8/Project.toml`\n",
      " \u001b[90m [ee78f7c6] \u001b[39m\u001b[92m+ Makie v0.19.0\u001b[39m\n",
      "\u001b[32m\u001b[1m  No Changes\u001b[22m\u001b[39m to `~/.julia/environments/v1.8/Manifest.toml`\n"
     ]
    }
   ],
   "source": [
    "using Pkg; Pkg.add(\"Makie\")\n",
    "\n",
    "using Makie\n",
    "using CairoMakie\n",
    "using CSV\n",
    "using DataFrames"
   ]
  },
  {
   "cell_type": "code",
   "execution_count": 2,
   "id": "f335b4cc",
   "metadata": {},
   "outputs": [],
   "source": [
    "@recipe(DfPlot, df) do scene\n",
    "    Attributes(\n",
    "        x = :A,\n",
    "        y = :B,\n",
    "        c = :C,\n",
    "        color = :red,\n",
    "        colormap = :plasma,\n",
    "        markersize = 20,\n",
    "        marker = :rect,\n",
    "        colorrange = (0,1),\n",
    "        label = \"\",\n",
    "    )\n",
    "end"
   ]
  },
  {
   "cell_type": "code",
   "execution_count": 7,
   "id": "44ab0cb1",
   "metadata": {},
   "outputs": [],
   "source": [
    "\n",
    "function Makie.plot!(p::DFPlot{<:Tuple{<:DataFrame}})\n",
    "    df = p[:df][]\n",
    "    x = getproperty(df, p[:x][])\n",
    "    y = getproperty(df, p[:y][])\n",
    "    c = getproperty(df, p[:c][])\n",
    "    scatter!(p, x, y; color = c, markersize = p[:markersize][],\n",
    "        colormap = p[:colormap][], marker = p[:marker][],\n",
    "        colorrange = (minimum(x), maximum(c)), label = p[:label][])\n",
    "    return p\n",
    "end"
   ]
  },
  {
   "cell_type": "code",
   "execution_count": 8,
   "id": "50ecabaf",
   "metadata": {},
   "outputs": [
    {
     "data": {
      "text/html": [
       "<div><div style = \"float: left;\"><span>10×3 DataFrame</span></div><div style = \"clear: both;\"></div></div><div class = \"data-frame\" style = \"overflow-x: scroll;\"><table class = \"data-frame\" style = \"margin-bottom: 6px;\"><thead><tr class = \"header\"><th class = \"rowNumber\" style = \"font-weight: bold; text-align: right;\">Row</th><th style = \"text-align: left;\">A</th><th style = \"text-align: left;\">B</th><th style = \"text-align: left;\">C</th></tr><tr class = \"subheader headerLastRow\"><th class = \"rowNumber\" style = \"font-weight: bold; text-align: right;\"></th><th title = \"Float64\" style = \"text-align: left;\">Float64</th><th title = \"Float64\" style = \"text-align: left;\">Float64</th><th title = \"Float64\" style = \"text-align: left;\">Float64</th></tr></thead><tbody><tr><td class = \"rowNumber\" style = \"font-weight: bold; text-align: right;\">1</td><td style = \"text-align: right;\">-0.513628</td><td style = \"text-align: right;\">-0.988554</td><td style = \"text-align: right;\">0.224722</td></tr><tr><td class = \"rowNumber\" style = \"font-weight: bold; text-align: right;\">2</td><td style = \"text-align: right;\">0.819877</td><td style = \"text-align: right;\">-0.29195</td><td style = \"text-align: right;\">0.1894</td></tr><tr><td class = \"rowNumber\" style = \"font-weight: bold; text-align: right;\">3</td><td style = \"text-align: right;\">-0.145053</td><td style = \"text-align: right;\">0.0710747</td><td style = \"text-align: right;\">0.675215</td></tr><tr><td class = \"rowNumber\" style = \"font-weight: bold; text-align: right;\">4</td><td style = \"text-align: right;\">0.258205</td><td style = \"text-align: right;\">0.908072</td><td style = \"text-align: right;\">0.323539</td></tr><tr><td class = \"rowNumber\" style = \"font-weight: bold; text-align: right;\">5</td><td style = \"text-align: right;\">-0.643306</td><td style = \"text-align: right;\">0.027102</td><td style = \"text-align: right;\">0.690494</td></tr><tr><td class = \"rowNumber\" style = \"font-weight: bold; text-align: right;\">6</td><td style = \"text-align: right;\">-0.0817883</td><td style = \"text-align: right;\">-2.15333</td><td style = \"text-align: right;\">0.977646</td></tr><tr><td class = \"rowNumber\" style = \"font-weight: bold; text-align: right;\">7</td><td style = \"text-align: right;\">0.340624</td><td style = \"text-align: right;\">-1.19226</td><td style = \"text-align: right;\">0.294791</td></tr><tr><td class = \"rowNumber\" style = \"font-weight: bold; text-align: right;\">8</td><td style = \"text-align: right;\">-1.41101</td><td style = \"text-align: right;\">0.284402</td><td style = \"text-align: right;\">0.498382</td></tr><tr><td class = \"rowNumber\" style = \"font-weight: bold; text-align: right;\">9</td><td style = \"text-align: right;\">-0.207858</td><td style = \"text-align: right;\">0.459508</td><td style = \"text-align: right;\">0.363315</td></tr><tr><td class = \"rowNumber\" style = \"font-weight: bold; text-align: right;\">10</td><td style = \"text-align: right;\">0.528932</td><td style = \"text-align: right;\">-0.450714</td><td style = \"text-align: right;\">0.56477</td></tr></tbody></table></div>"
      ],
      "text/latex": [
       "\\begin{tabular}{r|ccc}\n",
       "\t& A & B & C\\\\\n",
       "\t\\hline\n",
       "\t& Float64 & Float64 & Float64\\\\\n",
       "\t\\hline\n",
       "\t1 & -0.513628 & -0.988554 & 0.224722 \\\\\n",
       "\t2 & 0.819877 & -0.29195 & 0.1894 \\\\\n",
       "\t3 & -0.145053 & 0.0710747 & 0.675215 \\\\\n",
       "\t4 & 0.258205 & 0.908072 & 0.323539 \\\\\n",
       "\t5 & -0.643306 & 0.027102 & 0.690494 \\\\\n",
       "\t6 & -0.0817883 & -2.15333 & 0.977646 \\\\\n",
       "\t7 & 0.340624 & -1.19226 & 0.294791 \\\\\n",
       "\t8 & -1.41101 & 0.284402 & 0.498382 \\\\\n",
       "\t9 & -0.207858 & 0.459508 & 0.363315 \\\\\n",
       "\t10 & 0.528932 & -0.450714 & 0.56477 \\\\\n",
       "\\end{tabular}\n"
      ],
      "text/plain": [
       "\u001b[1m10×3 DataFrame\u001b[0m\n",
       "\u001b[1m Row \u001b[0m│\u001b[1m A          \u001b[0m\u001b[1m B          \u001b[0m\u001b[1m C        \u001b[0m\n",
       "     │\u001b[90m Float64    \u001b[0m\u001b[90m Float64    \u001b[0m\u001b[90m Float64  \u001b[0m\n",
       "─────┼──────────────────────────────────\n",
       "   1 │ -0.513628   -0.988554   0.224722\n",
       "   2 │  0.819877   -0.29195    0.1894\n",
       "   3 │ -0.145053    0.0710747  0.675215\n",
       "   4 │  0.258205    0.908072   0.323539\n",
       "   5 │ -0.643306    0.027102   0.690494\n",
       "   6 │ -0.0817883  -2.15333    0.977646\n",
       "   7 │  0.340624   -1.19226    0.294791\n",
       "   8 │ -1.41101     0.284402   0.498382\n",
       "   9 │ -0.207858    0.459508   0.363315\n",
       "  10 │  0.528932   -0.450714   0.56477"
      ]
     },
     "execution_count": 8,
     "metadata": {},
     "output_type": "execute_result"
    }
   ],
   "source": [
    "df_recipe = DataFrame(A=randn(10), B=randn(10), C=rand(10))"
   ]
  },
  {
   "cell_type": "code",
   "execution_count": 9,
   "id": "9edc7fd0",
   "metadata": {},
   "outputs": [
    {
     "ename": "LoadError",
     "evalue": "UndefVarError: Atributes not defined",
     "output_type": "error",
     "traceback": [
      "UndefVarError: Atributes not defined",
      "",
      "Stacktrace:",
      "  [1] (::var\"#3#4\")(scene::Scene)",
      "    @ Main ./In[2]:2",
      "  [2] default_theme(scene::Scene, #unused#::Type{Combined{dfplot, Tuple{DataFrame}}})",
      "    @ Main ~/.julia/packages/MakieCore/JjXvr/src/recipes.jl:177",
      "  [3] (::Makie.var\"#161#163\"{Scene, DataType})()",
      "    @ Makie ~/.julia/packages/Makie/Ggejq/src/interfaces.jl:213",
      "  [4] merged_get!(defaults::Makie.var\"#161#163\"{Scene, DataType}, key::Symbol, scene::Scene, input::Attributes)",
      "    @ Makie ~/.julia/packages/Makie/Ggejq/src/utilities/utilities.jl:244",
      "  [5] Combined{dfplot, Tuple{DataFrame}}(scene::Scene, attributes::Attributes, input::Tuple{Observable{DataFrame}}, args::Observable{Tuple{DataFrame}})",
      "    @ Makie ~/.julia/packages/Makie/Ggejq/src/interfaces.jl:212",
      "  [6] plot!(scene::Scene, P::Type{Combined{dfplot, Tuple{DataFrame}}}, attributes::Attributes, input::Tuple{Observable{DataFrame}}, args::Observable{Tuple{DataFrame}})",
      "    @ Makie ~/.julia/packages/Makie/Ggejq/src/interfaces.jl:414",
      "  [7] plot!(scene::Scene, P::Type{Combined{dfplot}}, attributes::Attributes, args::DataFrame; kw_attributes::Base.Pairs{Symbol, Union{}, Tuple{}, NamedTuple{(), Tuple{}}})",
      "    @ Makie ~/.julia/packages/Makie/Ggejq/src/interfaces.jl:335",
      "  [8] plot!(scene::Scene, P::Type{Combined{dfplot}}, attributes::Attributes, args::DataFrame)",
      "    @ Makie ~/.julia/packages/Makie/Ggejq/src/interfaces.jl:302",
      "  [9] plot(P::Type{Combined{dfplot}}, args::DataFrame; axis::NamedTuple{(), Tuple{}}, figure::NamedTuple{(), Tuple{}}, kw_attributes::Base.Pairs{Symbol, String, Tuple{Symbol}, NamedTuple{(:label,), Tuple{String}}})",
      "    @ Makie ~/.julia/packages/Makie/Ggejq/src/figureplotting.jl:48",
      " [10] #dfplot#1",
      "    @ ~/.julia/packages/MakieCore/JjXvr/src/recipes.jl:34 [inlined]",
      " [11] top-level scope",
      "    @ In[9]:1",
      " [12] eval",
      "    @ ./boot.jl:368 [inlined]",
      " [13] include_string(mapexpr::typeof(REPL.softscope), mod::Module, code::String, filename::String)",
      "    @ Base ./loading.jl:1428"
     ]
    }
   ],
   "source": [
    "fig, ax, obj = dfplot(df_recipe; label=\"test\")\n",
    "\n",
    "axislegend()\n",
    "Colorbar(fig[1,2], obj)\n",
    "fig"
   ]
  },
  {
   "cell_type": "code",
   "execution_count": null,
   "id": "a315b1d2",
   "metadata": {},
   "outputs": [],
   "source": []
  }
 ],
 "metadata": {
  "kernelspec": {
   "display_name": "Julia 1.8.3",
   "language": "julia",
   "name": "julia-1.8"
  },
  "language_info": {
   "file_extension": ".jl",
   "mimetype": "application/julia",
   "name": "julia",
   "version": "1.8.3"
  }
 },
 "nbformat": 4,
 "nbformat_minor": 5
}
