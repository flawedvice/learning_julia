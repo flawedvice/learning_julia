{
 "cells": [
  {
   "cell_type": "markdown",
   "id": "f423b791",
   "metadata": {},
   "source": [
    "# Increasing Complexity: Step 2\n",
    "\n",
    "Here, we'll start working on a real project using (or trying) to use the most of Julia's capabilities for Data Science.\n",
    "\n",
    "Let's go!"
   ]
  },
  {
   "cell_type": "code",
   "execution_count": 1,
   "id": "b29948a6",
   "metadata": {},
   "outputs": [
    {
     "name": "stderr",
     "output_type": "stream",
     "text": [
      "\u001b[32m\u001b[1m    Updating\u001b[22m\u001b[39m registry at `~/.julia/registries/General.toml`\n",
      "\u001b[32m\u001b[1m   Resolving\u001b[22m\u001b[39m package versions...\n",
      "\u001b[32m\u001b[1m  No Changes\u001b[22m\u001b[39m to `~/.julia/environments/v1.8/Project.toml`\n",
      "\u001b[32m\u001b[1m  No Changes\u001b[22m\u001b[39m to `~/.julia/environments/v1.8/Manifest.toml`\n"
     ]
    }
   ],
   "source": [
    "using Pkg\n",
    "\n",
    "Pkg.add(\"Plots\")\n",
    "\n",
    "using Downloads\n",
    "using CSV\n",
    "using DataFrames\n",
    "using Plots"
   ]
  },
  {
   "cell_type": "markdown",
   "id": "5b03d87b",
   "metadata": {},
   "source": [
    "## About our data\n",
    "I've chosen the **Automobile Data Set** from the [UCI ML DataSets repo](http://archive.ics.uci.edu/ml/datasets/Automobile).\n",
    "\n",
    "### MetaData Information:\n",
    "This data set consists of three types of entities:\n",
    "- The specification of an auto in terms of various characteristics.\n",
    "- Its assigned insurance risk rating.\n",
    "- Its normalized losses in use as compared to other cars.\n",
    "\n",
    "The second rating corresponds to the degree to which the auto is more risky than its price indicates. Cars are initially assigned a risk factor symbol associated with its price. Then, if it is more risky (or less), this symbol is adjusted by moving it up (or down) the scale. Actuarians call this process \"symboling\". A value of +3 indicates that the auto is risky, -3 that it is probably pretty safe.\n",
    "\n",
    "The third factor is the relative average loss payment per insured vehicle year. This value is normalized for all autos within a particular size classification (two-door small, station wagons, sports/speciality, etc...), and represents the average loss per car per year.\n",
    "\n",
    "Note: Several of the attributes in the database could be used as a \"class\" attribute.\n",
    "\n",
    "### Dataset Dictionary:\n",
    "Attribute: Attribute Range\n",
    "\n",
    "1. symboling: -3, -2, -1, 0, 1, 2, 3.\n",
    "2. normalized-losses: continuous from 65 to 256.\n",
    "3. make:\n",
    "alfa-romero, audi, bmw, chevrolet, dodge, honda,\n",
    "isuzu, jaguar, mazda, mercedes-benz, mercury,\n",
    "mitsubishi, nissan, peugot, plymouth, porsche,\n",
    "renault, saab, subaru, toyota, volkswagen, volvo\n",
    "\n",
    "4. fuel-type: diesel, gas.\n",
    "5. aspiration: std, turbo.\n",
    "6. num-of-doors: four, two.\n",
    "7. body-style: hardtop, wagon, sedan, hatchback, convertible.\n",
    "8. drive-wheels: 4wd, fwd, rwd.\n",
    "9. engine-location: front, rear.\n",
    "10. wheel-base: continuous from 86.6 120.9.\n",
    "11. length: continuous from 141.1 to 208.1.\n",
    "12. width: continuous from 60.3 to 72.3.\n",
    "13. height: continuous from 47.8 to 59.8.\n",
    "14. curb-weight: continuous from 1488 to 4066.\n",
    "15. engine-type: dohc, dohcv, l, ohc, ohcf, ohcv, rotor.\n",
    "16. num-of-cylinders: eight, five, four, six, three, twelve, two.\n",
    "17. engine-size: continuous from 61 to 326.\n",
    "18. fuel-system: 1bbl, 2bbl, 4bbl, idi, mfi, mpfi, spdi, spfi.\n",
    "19. bore: continuous from 2.54 to 3.94.\n",
    "20. stroke: continuous from 2.07 to 4.17.\n",
    "21. compression-ratio: continuous from 7 to 23.\n",
    "22. horsepower: continuous from 48 to 288.\n",
    "23. peak-rpm: continuous from 4150 to 6600.\n",
    "24. city-mpg: continuous from 13 to 49.\n",
    "25. highway-mpg: continuous from 16 to 54.\n",
    "26. price: continuous from 5118 to 45400.\n",
    "\n",
    "### Missing values:\n",
    "Missing Attribute Values: (denoted by \"?\")\n",
    "\n",
    "|Attribute #|Number of instances missing a value|\n",
    "|-----------|-----------------------------------|\n",
    "|2.|41|\n",
    "|6.|2|\n",
    "|19.|4|\n",
    "|20.|4|\n",
    "|22.|2|\n",
    "|23.|2|\n",
    "|26.|4|"
   ]
  },
  {
   "cell_type": "code",
   "execution_count": 2,
   "id": "d349a08b",
   "metadata": {},
   "outputs": [
    {
     "data": {
      "text/plain": [
       "\"automobile.data\""
      ]
     },
     "execution_count": 2,
     "metadata": {},
     "output_type": "execute_result"
    }
   ],
   "source": [
    "Downloads.download(\"http://archive.ics.uci.edu/ml/machine-learning-databases/autos/imports-85.data\", \"automobile.data\")"
   ]
  },
  {
   "cell_type": "code",
   "execution_count": 3,
   "id": "e746a5af",
   "metadata": {},
   "outputs": [
    {
     "name": "stdout",
     "output_type": "stream",
     "text": [
      "3,?,alfa-romero,gas,std,two,convertible,rwd,front,88.60,168.80,64.10,48.80,2548,dohc,four,130,mpfi,3.47,2.68,9.00,111,5000,21,27,13495\n",
      "3,?,alfa-romero,gas,std,two,convertible,rwd,front,88.60,168.80,64.10,48.80,2548,dohc,four,130,mpfi,3.47,2.68,9.00,111,5000,21,27,16500\n",
      "1,?,alfa-romero,gas,std,two,hatchback,rwd,front,94.50,171.20,65.50,52.40,2823,ohcv,six,152,mpfi,2.68,3.47,9.00,154,5000,19,26,16500\n",
      "2,164,audi,gas,std,four,sedan,fwd,front,99.80,176.60,66.20,54.30,2337,ohc,four,109,mpfi,3.19,3.40,10.00,102,5500,24,30,13950\n",
      "2,164,audi,gas,std,four,sedan,4wd,front,99.40,176.60,66.40,54.30,2824,ohc,five,136,mpfi,3.19,3.40,8.00,115,5500,18,22,17450\n",
      "2,?,audi,gas,std,two,sedan,fwd,front,99.80,177.30,66.30,53.10,2507,ohc,five,136,mpfi,3.19,3.40,8.50,110,5500,19,25,15250\n",
      "1,158,audi,gas,std,four,sedan,fwd,front,105.80,192.70,71.40,55.70,2844,ohc,five,136,mpfi,3.19,3.40,8.50,110,5500,19,25,17710\n",
      "1,?,audi,gas,std,four,wagon,fwd,front,105.80,192.70,71.40,55.70,2954,ohc,five,136,mpfi,3.19,3.40,8.50,110,5500,19,25,18920\n",
      "1,158,audi,gas,turbo,four,sedan,fwd,front,105.80,192.70,71.40,55.90,3086,ohc,five,131,mpfi,3.13,3.40,8.30,140,5500,17,20,23875\n",
      "0,?,audi,gas,turbo,two,hatchback,4wd,front,99.50,178.20,67.90,52.00,3053,ohc,five,131,mpfi,3.13,3.40,7.00,160,5500,16,22,?\n"
     ]
    }
   ],
   "source": [
    ";head automobile.data"
   ]
  },
  {
   "cell_type": "markdown",
   "id": "06dee4c8",
   "metadata": {},
   "source": [
    "From the last cell, we can observe that there aren't headers nor indices.\n",
    "\n",
    "We'll have to manipulate the data source to adjust it to our needs.\n",
    "\n",
    "Since it's in csv format, we can generate a headers and add it to a DataFrame with all of the data."
   ]
  },
  {
   "cell_type": "code",
   "execution_count": 4,
   "id": "03030085",
   "metadata": {},
   "outputs": [
    {
     "data": {
      "text/plain": [
       "26-element Vector{String}:\n",
       " \"symboling\"\n",
       " \"normalized-losses\"\n",
       " \"make\"\n",
       " \"fuel-type\"\n",
       " \"aspiration\"\n",
       " \"num-of-doors\"\n",
       " \"body-style\"\n",
       " \"drive-wheels\"\n",
       " \"engine-location\"\n",
       " \"wheel-base\"\n",
       " \"length\"\n",
       " \"width\"\n",
       " \"height\"\n",
       " \"curb-weight\"\n",
       " \"engine-type\"\n",
       " \"num-of-cylinders\"\n",
       " \"engine-size\"\n",
       " \"fuel-system\"\n",
       " \"bore\"\n",
       " \"stroke\"\n",
       " \"compression-ratio\"\n",
       " \"horsepower\"\n",
       " \"peak-rpm\"\n",
       " \"city-mpg\"\n",
       " \"highway-mpg\"\n",
       " \"price\""
      ]
     },
     "execution_count": 4,
     "metadata": {},
     "output_type": "execute_result"
    }
   ],
   "source": [
    "headers = [\"symboling\",\"normalized-losses\",\"make\",\"fuel-type\",\"aspiration\",\"num-of-doors\",\n",
    "            \"body-style\",\"drive-wheels\",\"engine-location\",\"wheel-base\",\"length\",\"width\",\"height\",\n",
    "            \"curb-weight\",\"engine-type\",\"num-of-cylinders\",\"engine-size\",\"fuel-system\",\"bore\",\n",
    "            \"stroke\",\"compression-ratio\",\"horsepower\",\"peak-rpm\",\"city-mpg\",\"highway-mpg\",\"price\"]"
   ]
  },
  {
   "cell_type": "code",
   "execution_count": 5,
   "id": "b2e174e2",
   "metadata": {},
   "outputs": [
    {
     "data": {
      "text/html": [
       "<div><div style = \"float: left;\"><span>205×26 DataFrame</span></div><div style = \"float: right;\"><span style = \"font-style: italic;\">180 rows omitted</span></div><div style = \"clear: both;\"></div></div><div class = \"data-frame\" style = \"overflow-x: scroll;\"><table class = \"data-frame\" style = \"margin-bottom: 6px;\"><thead><tr class = \"header\"><th class = \"rowNumber\" style = \"font-weight: bold; text-align: right;\">Row</th><th style = \"text-align: left;\">symboling</th><th style = \"text-align: left;\">normalized-losses</th><th style = \"text-align: left;\">make</th><th style = \"text-align: left;\">fuel-type</th><th style = \"text-align: left;\">aspiration</th><th style = \"text-align: left;\">num-of-doors</th><th style = \"text-align: left;\">body-style</th><th style = \"text-align: left;\">drive-wheels</th><th style = \"text-align: left;\">engine-location</th><th style = \"text-align: left;\">wheel-base</th><th style = \"text-align: left;\">length</th><th style = \"text-align: left;\">width</th><th style = \"text-align: left;\">height</th><th style = \"text-align: left;\">curb-weight</th><th style = \"text-align: left;\">engine-type</th><th style = \"text-align: left;\">num-of-cylinders</th><th style = \"text-align: left;\">engine-size</th><th style = \"text-align: left;\">fuel-system</th><th style = \"text-align: left;\">bore</th><th style = \"text-align: left;\">stroke</th><th style = \"text-align: left;\">compression-ratio</th><th style = \"text-align: left;\">horsepower</th><th style = \"text-align: left;\">peak-rpm</th><th style = \"text-align: left;\">city-mpg</th><th style = \"text-align: left;\">highway-mpg</th><th style = \"text-align: left;\">price</th></tr><tr class = \"subheader headerLastRow\"><th class = \"rowNumber\" style = \"font-weight: bold; text-align: right;\"></th><th title = \"Int64\" style = \"text-align: left;\">Int64</th><th title = \"String3\" style = \"text-align: left;\">String3</th><th title = \"String15\" style = \"text-align: left;\">String15</th><th title = \"String7\" style = \"text-align: left;\">String7</th><th title = \"String7\" style = \"text-align: left;\">String7</th><th title = \"String7\" style = \"text-align: left;\">String7</th><th title = \"String15\" style = \"text-align: left;\">String15</th><th title = \"String3\" style = \"text-align: left;\">String3</th><th title = \"String7\" style = \"text-align: left;\">String7</th><th title = \"Float64\" style = \"text-align: left;\">Float64</th><th title = \"Float64\" style = \"text-align: left;\">Float64</th><th title = \"Float64\" style = \"text-align: left;\">Float64</th><th title = \"Float64\" style = \"text-align: left;\">Float64</th><th title = \"Int64\" style = \"text-align: left;\">Int64</th><th title = \"String7\" style = \"text-align: left;\">String7</th><th title = \"String7\" style = \"text-align: left;\">String7</th><th title = \"Int64\" style = \"text-align: left;\">Int64</th><th title = \"String7\" style = \"text-align: left;\">String7</th><th title = \"String7\" style = \"text-align: left;\">String7</th><th title = \"String7\" style = \"text-align: left;\">String7</th><th title = \"Float64\" style = \"text-align: left;\">Float64</th><th title = \"String3\" style = \"text-align: left;\">String3</th><th title = \"String7\" style = \"text-align: left;\">String7</th><th title = \"Int64\" style = \"text-align: left;\">Int64</th><th title = \"Int64\" style = \"text-align: left;\">Int64</th><th title = \"String7\" style = \"text-align: left;\">String7</th></tr></thead><tbody><tr><td class = \"rowNumber\" style = \"font-weight: bold; text-align: right;\">1</td><td style = \"text-align: right;\">3</td><td style = \"text-align: left;\">?</td><td style = \"text-align: left;\">alfa-romero</td><td style = \"text-align: left;\">gas</td><td style = \"text-align: left;\">std</td><td style = \"text-align: left;\">two</td><td style = \"text-align: left;\">convertible</td><td style = \"text-align: left;\">rwd</td><td style = \"text-align: left;\">front</td><td style = \"text-align: right;\">88.6</td><td style = \"text-align: right;\">168.8</td><td style = \"text-align: right;\">64.1</td><td style = \"text-align: right;\">48.8</td><td style = \"text-align: right;\">2548</td><td style = \"text-align: left;\">dohc</td><td style = \"text-align: left;\">four</td><td style = \"text-align: right;\">130</td><td style = \"text-align: left;\">mpfi</td><td style = \"text-align: left;\">3.47</td><td style = \"text-align: left;\">2.68</td><td style = \"text-align: right;\">9.0</td><td style = \"text-align: left;\">111</td><td style = \"text-align: left;\">5000</td><td style = \"text-align: right;\">21</td><td style = \"text-align: right;\">27</td><td style = \"text-align: left;\">13495</td></tr><tr><td class = \"rowNumber\" style = \"font-weight: bold; text-align: right;\">2</td><td style = \"text-align: right;\">3</td><td style = \"text-align: left;\">?</td><td style = \"text-align: left;\">alfa-romero</td><td style = \"text-align: left;\">gas</td><td style = \"text-align: left;\">std</td><td style = \"text-align: left;\">two</td><td style = \"text-align: left;\">convertible</td><td style = \"text-align: left;\">rwd</td><td style = \"text-align: left;\">front</td><td style = \"text-align: right;\">88.6</td><td style = \"text-align: right;\">168.8</td><td style = \"text-align: right;\">64.1</td><td style = \"text-align: right;\">48.8</td><td style = \"text-align: right;\">2548</td><td style = \"text-align: left;\">dohc</td><td style = \"text-align: left;\">four</td><td style = \"text-align: right;\">130</td><td style = \"text-align: left;\">mpfi</td><td style = \"text-align: left;\">3.47</td><td style = \"text-align: left;\">2.68</td><td style = \"text-align: right;\">9.0</td><td style = \"text-align: left;\">111</td><td style = \"text-align: left;\">5000</td><td style = \"text-align: right;\">21</td><td style = \"text-align: right;\">27</td><td style = \"text-align: left;\">16500</td></tr><tr><td class = \"rowNumber\" style = \"font-weight: bold; text-align: right;\">3</td><td style = \"text-align: right;\">1</td><td style = \"text-align: left;\">?</td><td style = \"text-align: left;\">alfa-romero</td><td style = \"text-align: left;\">gas</td><td style = \"text-align: left;\">std</td><td style = \"text-align: left;\">two</td><td style = \"text-align: left;\">hatchback</td><td style = \"text-align: left;\">rwd</td><td style = \"text-align: left;\">front</td><td style = \"text-align: right;\">94.5</td><td style = \"text-align: right;\">171.2</td><td style = \"text-align: right;\">65.5</td><td style = \"text-align: right;\">52.4</td><td style = \"text-align: right;\">2823</td><td style = \"text-align: left;\">ohcv</td><td style = \"text-align: left;\">six</td><td style = \"text-align: right;\">152</td><td style = \"text-align: left;\">mpfi</td><td style = \"text-align: left;\">2.68</td><td style = \"text-align: left;\">3.47</td><td style = \"text-align: right;\">9.0</td><td style = \"text-align: left;\">154</td><td style = \"text-align: left;\">5000</td><td style = \"text-align: right;\">19</td><td style = \"text-align: right;\">26</td><td style = \"text-align: left;\">16500</td></tr><tr><td class = \"rowNumber\" style = \"font-weight: bold; text-align: right;\">4</td><td style = \"text-align: right;\">2</td><td style = \"text-align: left;\">164</td><td style = \"text-align: left;\">audi</td><td style = \"text-align: left;\">gas</td><td style = \"text-align: left;\">std</td><td style = \"text-align: left;\">four</td><td style = \"text-align: left;\">sedan</td><td style = \"text-align: left;\">fwd</td><td style = \"text-align: left;\">front</td><td style = \"text-align: right;\">99.8</td><td style = \"text-align: right;\">176.6</td><td style = \"text-align: right;\">66.2</td><td style = \"text-align: right;\">54.3</td><td style = \"text-align: right;\">2337</td><td style = \"text-align: left;\">ohc</td><td style = \"text-align: left;\">four</td><td style = \"text-align: right;\">109</td><td style = \"text-align: left;\">mpfi</td><td style = \"text-align: left;\">3.19</td><td style = \"text-align: left;\">3.40</td><td style = \"text-align: right;\">10.0</td><td style = \"text-align: left;\">102</td><td style = \"text-align: left;\">5500</td><td style = \"text-align: right;\">24</td><td style = \"text-align: right;\">30</td><td style = \"text-align: left;\">13950</td></tr><tr><td class = \"rowNumber\" style = \"font-weight: bold; text-align: right;\">5</td><td style = \"text-align: right;\">2</td><td style = \"text-align: left;\">164</td><td style = \"text-align: left;\">audi</td><td style = \"text-align: left;\">gas</td><td style = \"text-align: left;\">std</td><td style = \"text-align: left;\">four</td><td style = \"text-align: left;\">sedan</td><td style = \"text-align: left;\">4wd</td><td style = \"text-align: left;\">front</td><td style = \"text-align: right;\">99.4</td><td style = \"text-align: right;\">176.6</td><td style = \"text-align: right;\">66.4</td><td style = \"text-align: right;\">54.3</td><td style = \"text-align: right;\">2824</td><td style = \"text-align: left;\">ohc</td><td style = \"text-align: left;\">five</td><td style = \"text-align: right;\">136</td><td style = \"text-align: left;\">mpfi</td><td style = \"text-align: left;\">3.19</td><td style = \"text-align: left;\">3.40</td><td style = \"text-align: right;\">8.0</td><td style = \"text-align: left;\">115</td><td style = \"text-align: left;\">5500</td><td style = \"text-align: right;\">18</td><td style = \"text-align: right;\">22</td><td style = \"text-align: left;\">17450</td></tr><tr><td class = \"rowNumber\" style = \"font-weight: bold; text-align: right;\">6</td><td style = \"text-align: right;\">2</td><td style = \"text-align: left;\">?</td><td style = \"text-align: left;\">audi</td><td style = \"text-align: left;\">gas</td><td style = \"text-align: left;\">std</td><td style = \"text-align: left;\">two</td><td style = \"text-align: left;\">sedan</td><td style = \"text-align: left;\">fwd</td><td style = \"text-align: left;\">front</td><td style = \"text-align: right;\">99.8</td><td style = \"text-align: right;\">177.3</td><td style = \"text-align: right;\">66.3</td><td style = \"text-align: right;\">53.1</td><td style = \"text-align: right;\">2507</td><td style = \"text-align: left;\">ohc</td><td style = \"text-align: left;\">five</td><td style = \"text-align: right;\">136</td><td style = \"text-align: left;\">mpfi</td><td style = \"text-align: left;\">3.19</td><td style = \"text-align: left;\">3.40</td><td style = \"text-align: right;\">8.5</td><td style = \"text-align: left;\">110</td><td style = \"text-align: left;\">5500</td><td style = \"text-align: right;\">19</td><td style = \"text-align: right;\">25</td><td style = \"text-align: left;\">15250</td></tr><tr><td class = \"rowNumber\" style = \"font-weight: bold; text-align: right;\">7</td><td style = \"text-align: right;\">1</td><td style = \"text-align: left;\">158</td><td style = \"text-align: left;\">audi</td><td style = \"text-align: left;\">gas</td><td style = \"text-align: left;\">std</td><td style = \"text-align: left;\">four</td><td style = \"text-align: left;\">sedan</td><td style = \"text-align: left;\">fwd</td><td style = \"text-align: left;\">front</td><td style = \"text-align: right;\">105.8</td><td style = \"text-align: right;\">192.7</td><td style = \"text-align: right;\">71.4</td><td style = \"text-align: right;\">55.7</td><td style = \"text-align: right;\">2844</td><td style = \"text-align: left;\">ohc</td><td style = \"text-align: left;\">five</td><td style = \"text-align: right;\">136</td><td style = \"text-align: left;\">mpfi</td><td style = \"text-align: left;\">3.19</td><td style = \"text-align: left;\">3.40</td><td style = \"text-align: right;\">8.5</td><td style = \"text-align: left;\">110</td><td style = \"text-align: left;\">5500</td><td style = \"text-align: right;\">19</td><td style = \"text-align: right;\">25</td><td style = \"text-align: left;\">17710</td></tr><tr><td class = \"rowNumber\" style = \"font-weight: bold; text-align: right;\">8</td><td style = \"text-align: right;\">1</td><td style = \"text-align: left;\">?</td><td style = \"text-align: left;\">audi</td><td style = \"text-align: left;\">gas</td><td style = \"text-align: left;\">std</td><td style = \"text-align: left;\">four</td><td style = \"text-align: left;\">wagon</td><td style = \"text-align: left;\">fwd</td><td style = \"text-align: left;\">front</td><td style = \"text-align: right;\">105.8</td><td style = \"text-align: right;\">192.7</td><td style = \"text-align: right;\">71.4</td><td style = \"text-align: right;\">55.7</td><td style = \"text-align: right;\">2954</td><td style = \"text-align: left;\">ohc</td><td style = \"text-align: left;\">five</td><td style = \"text-align: right;\">136</td><td style = \"text-align: left;\">mpfi</td><td style = \"text-align: left;\">3.19</td><td style = \"text-align: left;\">3.40</td><td style = \"text-align: right;\">8.5</td><td style = \"text-align: left;\">110</td><td style = \"text-align: left;\">5500</td><td style = \"text-align: right;\">19</td><td style = \"text-align: right;\">25</td><td style = \"text-align: left;\">18920</td></tr><tr><td class = \"rowNumber\" style = \"font-weight: bold; text-align: right;\">9</td><td style = \"text-align: right;\">1</td><td style = \"text-align: left;\">158</td><td style = \"text-align: left;\">audi</td><td style = \"text-align: left;\">gas</td><td style = \"text-align: left;\">turbo</td><td style = \"text-align: left;\">four</td><td style = \"text-align: left;\">sedan</td><td style = \"text-align: left;\">fwd</td><td style = \"text-align: left;\">front</td><td style = \"text-align: right;\">105.8</td><td style = \"text-align: right;\">192.7</td><td style = \"text-align: right;\">71.4</td><td style = \"text-align: right;\">55.9</td><td style = \"text-align: right;\">3086</td><td style = \"text-align: left;\">ohc</td><td style = \"text-align: left;\">five</td><td style = \"text-align: right;\">131</td><td style = \"text-align: left;\">mpfi</td><td style = \"text-align: left;\">3.13</td><td style = \"text-align: left;\">3.40</td><td style = \"text-align: right;\">8.3</td><td style = \"text-align: left;\">140</td><td style = \"text-align: left;\">5500</td><td style = \"text-align: right;\">17</td><td style = \"text-align: right;\">20</td><td style = \"text-align: left;\">23875</td></tr><tr><td class = \"rowNumber\" style = \"font-weight: bold; text-align: right;\">10</td><td style = \"text-align: right;\">0</td><td style = \"text-align: left;\">?</td><td style = \"text-align: left;\">audi</td><td style = \"text-align: left;\">gas</td><td style = \"text-align: left;\">turbo</td><td style = \"text-align: left;\">two</td><td style = \"text-align: left;\">hatchback</td><td style = \"text-align: left;\">4wd</td><td style = \"text-align: left;\">front</td><td style = \"text-align: right;\">99.5</td><td style = \"text-align: right;\">178.2</td><td style = \"text-align: right;\">67.9</td><td style = \"text-align: right;\">52.0</td><td style = \"text-align: right;\">3053</td><td style = \"text-align: left;\">ohc</td><td style = \"text-align: left;\">five</td><td style = \"text-align: right;\">131</td><td style = \"text-align: left;\">mpfi</td><td style = \"text-align: left;\">3.13</td><td style = \"text-align: left;\">3.40</td><td style = \"text-align: right;\">7.0</td><td style = \"text-align: left;\">160</td><td style = \"text-align: left;\">5500</td><td style = \"text-align: right;\">16</td><td style = \"text-align: right;\">22</td><td style = \"text-align: left;\">?</td></tr><tr><td class = \"rowNumber\" style = \"font-weight: bold; text-align: right;\">11</td><td style = \"text-align: right;\">2</td><td style = \"text-align: left;\">192</td><td style = \"text-align: left;\">bmw</td><td style = \"text-align: left;\">gas</td><td style = \"text-align: left;\">std</td><td style = \"text-align: left;\">two</td><td style = \"text-align: left;\">sedan</td><td style = \"text-align: left;\">rwd</td><td style = \"text-align: left;\">front</td><td style = \"text-align: right;\">101.2</td><td style = \"text-align: right;\">176.8</td><td style = \"text-align: right;\">64.8</td><td style = \"text-align: right;\">54.3</td><td style = \"text-align: right;\">2395</td><td style = \"text-align: left;\">ohc</td><td style = \"text-align: left;\">four</td><td style = \"text-align: right;\">108</td><td style = \"text-align: left;\">mpfi</td><td style = \"text-align: left;\">3.50</td><td style = \"text-align: left;\">2.80</td><td style = \"text-align: right;\">8.8</td><td style = \"text-align: left;\">101</td><td style = \"text-align: left;\">5800</td><td style = \"text-align: right;\">23</td><td style = \"text-align: right;\">29</td><td style = \"text-align: left;\">16430</td></tr><tr><td class = \"rowNumber\" style = \"font-weight: bold; text-align: right;\">12</td><td style = \"text-align: right;\">0</td><td style = \"text-align: left;\">192</td><td style = \"text-align: left;\">bmw</td><td style = \"text-align: left;\">gas</td><td style = \"text-align: left;\">std</td><td style = \"text-align: left;\">four</td><td style = \"text-align: left;\">sedan</td><td style = \"text-align: left;\">rwd</td><td style = \"text-align: left;\">front</td><td style = \"text-align: right;\">101.2</td><td style = \"text-align: right;\">176.8</td><td style = \"text-align: right;\">64.8</td><td style = \"text-align: right;\">54.3</td><td style = \"text-align: right;\">2395</td><td style = \"text-align: left;\">ohc</td><td style = \"text-align: left;\">four</td><td style = \"text-align: right;\">108</td><td style = \"text-align: left;\">mpfi</td><td style = \"text-align: left;\">3.50</td><td style = \"text-align: left;\">2.80</td><td style = \"text-align: right;\">8.8</td><td style = \"text-align: left;\">101</td><td style = \"text-align: left;\">5800</td><td style = \"text-align: right;\">23</td><td style = \"text-align: right;\">29</td><td style = \"text-align: left;\">16925</td></tr><tr><td class = \"rowNumber\" style = \"font-weight: bold; text-align: right;\">13</td><td style = \"text-align: right;\">0</td><td style = \"text-align: left;\">188</td><td style = \"text-align: left;\">bmw</td><td style = \"text-align: left;\">gas</td><td style = \"text-align: left;\">std</td><td style = \"text-align: left;\">two</td><td style = \"text-align: left;\">sedan</td><td style = \"text-align: left;\">rwd</td><td style = \"text-align: left;\">front</td><td style = \"text-align: right;\">101.2</td><td style = \"text-align: right;\">176.8</td><td style = \"text-align: right;\">64.8</td><td style = \"text-align: right;\">54.3</td><td style = \"text-align: right;\">2710</td><td style = \"text-align: left;\">ohc</td><td style = \"text-align: left;\">six</td><td style = \"text-align: right;\">164</td><td style = \"text-align: left;\">mpfi</td><td style = \"text-align: left;\">3.31</td><td style = \"text-align: left;\">3.19</td><td style = \"text-align: right;\">9.0</td><td style = \"text-align: left;\">121</td><td style = \"text-align: left;\">4250</td><td style = \"text-align: right;\">21</td><td style = \"text-align: right;\">28</td><td style = \"text-align: left;\">20970</td></tr><tr><td style = \"text-align: right;\">&vellip;</td><td style = \"text-align: right;\">&vellip;</td><td style = \"text-align: right;\">&vellip;</td><td style = \"text-align: right;\">&vellip;</td><td style = \"text-align: right;\">&vellip;</td><td style = \"text-align: right;\">&vellip;</td><td style = \"text-align: right;\">&vellip;</td><td style = \"text-align: right;\">&vellip;</td><td style = \"text-align: right;\">&vellip;</td><td style = \"text-align: right;\">&vellip;</td><td style = \"text-align: right;\">&vellip;</td><td style = \"text-align: right;\">&vellip;</td><td style = \"text-align: right;\">&vellip;</td><td style = \"text-align: right;\">&vellip;</td><td style = \"text-align: right;\">&vellip;</td><td style = \"text-align: right;\">&vellip;</td><td style = \"text-align: right;\">&vellip;</td><td style = \"text-align: right;\">&vellip;</td><td style = \"text-align: right;\">&vellip;</td><td style = \"text-align: right;\">&vellip;</td><td style = \"text-align: right;\">&vellip;</td><td style = \"text-align: right;\">&vellip;</td><td style = \"text-align: right;\">&vellip;</td><td style = \"text-align: right;\">&vellip;</td><td style = \"text-align: right;\">&vellip;</td><td style = \"text-align: right;\">&vellip;</td><td style = \"text-align: right;\">&vellip;</td></tr><tr><td class = \"rowNumber\" style = \"font-weight: bold; text-align: right;\">194</td><td style = \"text-align: right;\">0</td><td style = \"text-align: left;\">?</td><td style = \"text-align: left;\">volkswagen</td><td style = \"text-align: left;\">gas</td><td style = \"text-align: left;\">std</td><td style = \"text-align: left;\">four</td><td style = \"text-align: left;\">wagon</td><td style = \"text-align: left;\">fwd</td><td style = \"text-align: left;\">front</td><td style = \"text-align: right;\">100.4</td><td style = \"text-align: right;\">183.1</td><td style = \"text-align: right;\">66.9</td><td style = \"text-align: right;\">55.1</td><td style = \"text-align: right;\">2563</td><td style = \"text-align: left;\">ohc</td><td style = \"text-align: left;\">four</td><td style = \"text-align: right;\">109</td><td style = \"text-align: left;\">mpfi</td><td style = \"text-align: left;\">3.19</td><td style = \"text-align: left;\">3.40</td><td style = \"text-align: right;\">9.0</td><td style = \"text-align: left;\">88</td><td style = \"text-align: left;\">5500</td><td style = \"text-align: right;\">25</td><td style = \"text-align: right;\">31</td><td style = \"text-align: left;\">12290</td></tr><tr><td class = \"rowNumber\" style = \"font-weight: bold; text-align: right;\">195</td><td style = \"text-align: right;\">-2</td><td style = \"text-align: left;\">103</td><td style = \"text-align: left;\">volvo</td><td style = \"text-align: left;\">gas</td><td style = \"text-align: left;\">std</td><td style = \"text-align: left;\">four</td><td style = \"text-align: left;\">sedan</td><td style = \"text-align: left;\">rwd</td><td style = \"text-align: left;\">front</td><td style = \"text-align: right;\">104.3</td><td style = \"text-align: right;\">188.8</td><td style = \"text-align: right;\">67.2</td><td style = \"text-align: right;\">56.2</td><td style = \"text-align: right;\">2912</td><td style = \"text-align: left;\">ohc</td><td style = \"text-align: left;\">four</td><td style = \"text-align: right;\">141</td><td style = \"text-align: left;\">mpfi</td><td style = \"text-align: left;\">3.78</td><td style = \"text-align: left;\">3.15</td><td style = \"text-align: right;\">9.5</td><td style = \"text-align: left;\">114</td><td style = \"text-align: left;\">5400</td><td style = \"text-align: right;\">23</td><td style = \"text-align: right;\">28</td><td style = \"text-align: left;\">12940</td></tr><tr><td class = \"rowNumber\" style = \"font-weight: bold; text-align: right;\">196</td><td style = \"text-align: right;\">-1</td><td style = \"text-align: left;\">74</td><td style = \"text-align: left;\">volvo</td><td style = \"text-align: left;\">gas</td><td style = \"text-align: left;\">std</td><td style = \"text-align: left;\">four</td><td style = \"text-align: left;\">wagon</td><td style = \"text-align: left;\">rwd</td><td style = \"text-align: left;\">front</td><td style = \"text-align: right;\">104.3</td><td style = \"text-align: right;\">188.8</td><td style = \"text-align: right;\">67.2</td><td style = \"text-align: right;\">57.5</td><td style = \"text-align: right;\">3034</td><td style = \"text-align: left;\">ohc</td><td style = \"text-align: left;\">four</td><td style = \"text-align: right;\">141</td><td style = \"text-align: left;\">mpfi</td><td style = \"text-align: left;\">3.78</td><td style = \"text-align: left;\">3.15</td><td style = \"text-align: right;\">9.5</td><td style = \"text-align: left;\">114</td><td style = \"text-align: left;\">5400</td><td style = \"text-align: right;\">23</td><td style = \"text-align: right;\">28</td><td style = \"text-align: left;\">13415</td></tr><tr><td class = \"rowNumber\" style = \"font-weight: bold; text-align: right;\">197</td><td style = \"text-align: right;\">-2</td><td style = \"text-align: left;\">103</td><td style = \"text-align: left;\">volvo</td><td style = \"text-align: left;\">gas</td><td style = \"text-align: left;\">std</td><td style = \"text-align: left;\">four</td><td style = \"text-align: left;\">sedan</td><td style = \"text-align: left;\">rwd</td><td style = \"text-align: left;\">front</td><td style = \"text-align: right;\">104.3</td><td style = \"text-align: right;\">188.8</td><td style = \"text-align: right;\">67.2</td><td style = \"text-align: right;\">56.2</td><td style = \"text-align: right;\">2935</td><td style = \"text-align: left;\">ohc</td><td style = \"text-align: left;\">four</td><td style = \"text-align: right;\">141</td><td style = \"text-align: left;\">mpfi</td><td style = \"text-align: left;\">3.78</td><td style = \"text-align: left;\">3.15</td><td style = \"text-align: right;\">9.5</td><td style = \"text-align: left;\">114</td><td style = \"text-align: left;\">5400</td><td style = \"text-align: right;\">24</td><td style = \"text-align: right;\">28</td><td style = \"text-align: left;\">15985</td></tr><tr><td class = \"rowNumber\" style = \"font-weight: bold; text-align: right;\">198</td><td style = \"text-align: right;\">-1</td><td style = \"text-align: left;\">74</td><td style = \"text-align: left;\">volvo</td><td style = \"text-align: left;\">gas</td><td style = \"text-align: left;\">std</td><td style = \"text-align: left;\">four</td><td style = \"text-align: left;\">wagon</td><td style = \"text-align: left;\">rwd</td><td style = \"text-align: left;\">front</td><td style = \"text-align: right;\">104.3</td><td style = \"text-align: right;\">188.8</td><td style = \"text-align: right;\">67.2</td><td style = \"text-align: right;\">57.5</td><td style = \"text-align: right;\">3042</td><td style = \"text-align: left;\">ohc</td><td style = \"text-align: left;\">four</td><td style = \"text-align: right;\">141</td><td style = \"text-align: left;\">mpfi</td><td style = \"text-align: left;\">3.78</td><td style = \"text-align: left;\">3.15</td><td style = \"text-align: right;\">9.5</td><td style = \"text-align: left;\">114</td><td style = \"text-align: left;\">5400</td><td style = \"text-align: right;\">24</td><td style = \"text-align: right;\">28</td><td style = \"text-align: left;\">16515</td></tr><tr><td class = \"rowNumber\" style = \"font-weight: bold; text-align: right;\">199</td><td style = \"text-align: right;\">-2</td><td style = \"text-align: left;\">103</td><td style = \"text-align: left;\">volvo</td><td style = \"text-align: left;\">gas</td><td style = \"text-align: left;\">turbo</td><td style = \"text-align: left;\">four</td><td style = \"text-align: left;\">sedan</td><td style = \"text-align: left;\">rwd</td><td style = \"text-align: left;\">front</td><td style = \"text-align: right;\">104.3</td><td style = \"text-align: right;\">188.8</td><td style = \"text-align: right;\">67.2</td><td style = \"text-align: right;\">56.2</td><td style = \"text-align: right;\">3045</td><td style = \"text-align: left;\">ohc</td><td style = \"text-align: left;\">four</td><td style = \"text-align: right;\">130</td><td style = \"text-align: left;\">mpfi</td><td style = \"text-align: left;\">3.62</td><td style = \"text-align: left;\">3.15</td><td style = \"text-align: right;\">7.5</td><td style = \"text-align: left;\">162</td><td style = \"text-align: left;\">5100</td><td style = \"text-align: right;\">17</td><td style = \"text-align: right;\">22</td><td style = \"text-align: left;\">18420</td></tr><tr><td class = \"rowNumber\" style = \"font-weight: bold; text-align: right;\">200</td><td style = \"text-align: right;\">-1</td><td style = \"text-align: left;\">74</td><td style = \"text-align: left;\">volvo</td><td style = \"text-align: left;\">gas</td><td style = \"text-align: left;\">turbo</td><td style = \"text-align: left;\">four</td><td style = \"text-align: left;\">wagon</td><td style = \"text-align: left;\">rwd</td><td style = \"text-align: left;\">front</td><td style = \"text-align: right;\">104.3</td><td style = \"text-align: right;\">188.8</td><td style = \"text-align: right;\">67.2</td><td style = \"text-align: right;\">57.5</td><td style = \"text-align: right;\">3157</td><td style = \"text-align: left;\">ohc</td><td style = \"text-align: left;\">four</td><td style = \"text-align: right;\">130</td><td style = \"text-align: left;\">mpfi</td><td style = \"text-align: left;\">3.62</td><td style = \"text-align: left;\">3.15</td><td style = \"text-align: right;\">7.5</td><td style = \"text-align: left;\">162</td><td style = \"text-align: left;\">5100</td><td style = \"text-align: right;\">17</td><td style = \"text-align: right;\">22</td><td style = \"text-align: left;\">18950</td></tr><tr><td class = \"rowNumber\" style = \"font-weight: bold; text-align: right;\">201</td><td style = \"text-align: right;\">-1</td><td style = \"text-align: left;\">95</td><td style = \"text-align: left;\">volvo</td><td style = \"text-align: left;\">gas</td><td style = \"text-align: left;\">std</td><td style = \"text-align: left;\">four</td><td style = \"text-align: left;\">sedan</td><td style = \"text-align: left;\">rwd</td><td style = \"text-align: left;\">front</td><td style = \"text-align: right;\">109.1</td><td style = \"text-align: right;\">188.8</td><td style = \"text-align: right;\">68.9</td><td style = \"text-align: right;\">55.5</td><td style = \"text-align: right;\">2952</td><td style = \"text-align: left;\">ohc</td><td style = \"text-align: left;\">four</td><td style = \"text-align: right;\">141</td><td style = \"text-align: left;\">mpfi</td><td style = \"text-align: left;\">3.78</td><td style = \"text-align: left;\">3.15</td><td style = \"text-align: right;\">9.5</td><td style = \"text-align: left;\">114</td><td style = \"text-align: left;\">5400</td><td style = \"text-align: right;\">23</td><td style = \"text-align: right;\">28</td><td style = \"text-align: left;\">16845</td></tr><tr><td class = \"rowNumber\" style = \"font-weight: bold; text-align: right;\">202</td><td style = \"text-align: right;\">-1</td><td style = \"text-align: left;\">95</td><td style = \"text-align: left;\">volvo</td><td style = \"text-align: left;\">gas</td><td style = \"text-align: left;\">turbo</td><td style = \"text-align: left;\">four</td><td style = \"text-align: left;\">sedan</td><td style = \"text-align: left;\">rwd</td><td style = \"text-align: left;\">front</td><td style = \"text-align: right;\">109.1</td><td style = \"text-align: right;\">188.8</td><td style = \"text-align: right;\">68.8</td><td style = \"text-align: right;\">55.5</td><td style = \"text-align: right;\">3049</td><td style = \"text-align: left;\">ohc</td><td style = \"text-align: left;\">four</td><td style = \"text-align: right;\">141</td><td style = \"text-align: left;\">mpfi</td><td style = \"text-align: left;\">3.78</td><td style = \"text-align: left;\">3.15</td><td style = \"text-align: right;\">8.7</td><td style = \"text-align: left;\">160</td><td style = \"text-align: left;\">5300</td><td style = \"text-align: right;\">19</td><td style = \"text-align: right;\">25</td><td style = \"text-align: left;\">19045</td></tr><tr><td class = \"rowNumber\" style = \"font-weight: bold; text-align: right;\">203</td><td style = \"text-align: right;\">-1</td><td style = \"text-align: left;\">95</td><td style = \"text-align: left;\">volvo</td><td style = \"text-align: left;\">gas</td><td style = \"text-align: left;\">std</td><td style = \"text-align: left;\">four</td><td style = \"text-align: left;\">sedan</td><td style = \"text-align: left;\">rwd</td><td style = \"text-align: left;\">front</td><td style = \"text-align: right;\">109.1</td><td style = \"text-align: right;\">188.8</td><td style = \"text-align: right;\">68.9</td><td style = \"text-align: right;\">55.5</td><td style = \"text-align: right;\">3012</td><td style = \"text-align: left;\">ohcv</td><td style = \"text-align: left;\">six</td><td style = \"text-align: right;\">173</td><td style = \"text-align: left;\">mpfi</td><td style = \"text-align: left;\">3.58</td><td style = \"text-align: left;\">2.87</td><td style = \"text-align: right;\">8.8</td><td style = \"text-align: left;\">134</td><td style = \"text-align: left;\">5500</td><td style = \"text-align: right;\">18</td><td style = \"text-align: right;\">23</td><td style = \"text-align: left;\">21485</td></tr><tr><td class = \"rowNumber\" style = \"font-weight: bold; text-align: right;\">204</td><td style = \"text-align: right;\">-1</td><td style = \"text-align: left;\">95</td><td style = \"text-align: left;\">volvo</td><td style = \"text-align: left;\">diesel</td><td style = \"text-align: left;\">turbo</td><td style = \"text-align: left;\">four</td><td style = \"text-align: left;\">sedan</td><td style = \"text-align: left;\">rwd</td><td style = \"text-align: left;\">front</td><td style = \"text-align: right;\">109.1</td><td style = \"text-align: right;\">188.8</td><td style = \"text-align: right;\">68.9</td><td style = \"text-align: right;\">55.5</td><td style = \"text-align: right;\">3217</td><td style = \"text-align: left;\">ohc</td><td style = \"text-align: left;\">six</td><td style = \"text-align: right;\">145</td><td style = \"text-align: left;\">idi</td><td style = \"text-align: left;\">3.01</td><td style = \"text-align: left;\">3.40</td><td style = \"text-align: right;\">23.0</td><td style = \"text-align: left;\">106</td><td style = \"text-align: left;\">4800</td><td style = \"text-align: right;\">26</td><td style = \"text-align: right;\">27</td><td style = \"text-align: left;\">22470</td></tr><tr><td class = \"rowNumber\" style = \"font-weight: bold; text-align: right;\">205</td><td style = \"text-align: right;\">-1</td><td style = \"text-align: left;\">95</td><td style = \"text-align: left;\">volvo</td><td style = \"text-align: left;\">gas</td><td style = \"text-align: left;\">turbo</td><td style = \"text-align: left;\">four</td><td style = \"text-align: left;\">sedan</td><td style = \"text-align: left;\">rwd</td><td style = \"text-align: left;\">front</td><td style = \"text-align: right;\">109.1</td><td style = \"text-align: right;\">188.8</td><td style = \"text-align: right;\">68.9</td><td style = \"text-align: right;\">55.5</td><td style = \"text-align: right;\">3062</td><td style = \"text-align: left;\">ohc</td><td style = \"text-align: left;\">four</td><td style = \"text-align: right;\">141</td><td style = \"text-align: left;\">mpfi</td><td style = \"text-align: left;\">3.78</td><td style = \"text-align: left;\">3.15</td><td style = \"text-align: right;\">9.5</td><td style = \"text-align: left;\">114</td><td style = \"text-align: left;\">5400</td><td style = \"text-align: right;\">19</td><td style = \"text-align: right;\">25</td><td style = \"text-align: left;\">22625</td></tr></tbody></table></div>"
      ],
      "text/latex": [
       "\\begin{tabular}{r|ccccccc}\n",
       "\t& symboling & normalized-losses & make & fuel-type & aspiration & num-of-doors & \\\\\n",
       "\t\\hline\n",
       "\t& Int64 & String3 & String15 & String7 & String7 & String7 & \\\\\n",
       "\t\\hline\n",
       "\t1 & 3 & ? & alfa-romero & gas & std & two & $\\dots$ \\\\\n",
       "\t2 & 3 & ? & alfa-romero & gas & std & two & $\\dots$ \\\\\n",
       "\t3 & 1 & ? & alfa-romero & gas & std & two & $\\dots$ \\\\\n",
       "\t4 & 2 & 164 & audi & gas & std & four & $\\dots$ \\\\\n",
       "\t5 & 2 & 164 & audi & gas & std & four & $\\dots$ \\\\\n",
       "\t6 & 2 & ? & audi & gas & std & two & $\\dots$ \\\\\n",
       "\t7 & 1 & 158 & audi & gas & std & four & $\\dots$ \\\\\n",
       "\t8 & 1 & ? & audi & gas & std & four & $\\dots$ \\\\\n",
       "\t9 & 1 & 158 & audi & gas & turbo & four & $\\dots$ \\\\\n",
       "\t10 & 0 & ? & audi & gas & turbo & two & $\\dots$ \\\\\n",
       "\t11 & 2 & 192 & bmw & gas & std & two & $\\dots$ \\\\\n",
       "\t12 & 0 & 192 & bmw & gas & std & four & $\\dots$ \\\\\n",
       "\t13 & 0 & 188 & bmw & gas & std & two & $\\dots$ \\\\\n",
       "\t14 & 0 & 188 & bmw & gas & std & four & $\\dots$ \\\\\n",
       "\t15 & 1 & ? & bmw & gas & std & four & $\\dots$ \\\\\n",
       "\t16 & 0 & ? & bmw & gas & std & four & $\\dots$ \\\\\n",
       "\t17 & 0 & ? & bmw & gas & std & two & $\\dots$ \\\\\n",
       "\t18 & 0 & ? & bmw & gas & std & four & $\\dots$ \\\\\n",
       "\t19 & 2 & 121 & chevrolet & gas & std & two & $\\dots$ \\\\\n",
       "\t20 & 1 & 98 & chevrolet & gas & std & two & $\\dots$ \\\\\n",
       "\t21 & 0 & 81 & chevrolet & gas & std & four & $\\dots$ \\\\\n",
       "\t22 & 1 & 118 & dodge & gas & std & two & $\\dots$ \\\\\n",
       "\t23 & 1 & 118 & dodge & gas & std & two & $\\dots$ \\\\\n",
       "\t24 & 1 & 118 & dodge & gas & turbo & two & $\\dots$ \\\\\n",
       "\t25 & 1 & 148 & dodge & gas & std & four & $\\dots$ \\\\\n",
       "\t26 & 1 & 148 & dodge & gas & std & four & $\\dots$ \\\\\n",
       "\t27 & 1 & 148 & dodge & gas & std & four & $\\dots$ \\\\\n",
       "\t28 & 1 & 148 & dodge & gas & turbo & ? & $\\dots$ \\\\\n",
       "\t29 & -1 & 110 & dodge & gas & std & four & $\\dots$ \\\\\n",
       "\t30 & 3 & 145 & dodge & gas & turbo & two & $\\dots$ \\\\\n",
       "\t$\\dots$ & $\\dots$ & $\\dots$ & $\\dots$ & $\\dots$ & $\\dots$ & $\\dots$ &  \\\\\n",
       "\\end{tabular}\n"
      ],
      "text/plain": [
       "\u001b[1m205×26 DataFrame\u001b[0m\n",
       "\u001b[1m Row \u001b[0m│\u001b[1m symboling \u001b[0m\u001b[1m normalized-losses \u001b[0m\u001b[1m make        \u001b[0m\u001b[1m fuel-type \u001b[0m\u001b[1m aspiration \u001b[0m\u001b[1m num-o\u001b[0m ⋯\n",
       "     │\u001b[90m Int64     \u001b[0m\u001b[90m String3           \u001b[0m\u001b[90m String15    \u001b[0m\u001b[90m String7   \u001b[0m\u001b[90m String7    \u001b[0m\u001b[90m Strin\u001b[0m ⋯\n",
       "─────┼──────────────────────────────────────────────────────────────────────────\n",
       "   1 │         3  ?                  alfa-romero  gas        std         two   ⋯\n",
       "   2 │         3  ?                  alfa-romero  gas        std         two\n",
       "   3 │         1  ?                  alfa-romero  gas        std         two\n",
       "   4 │         2  164                audi         gas        std         four\n",
       "   5 │         2  164                audi         gas        std         four  ⋯\n",
       "   6 │         2  ?                  audi         gas        std         two\n",
       "   7 │         1  158                audi         gas        std         four\n",
       "   8 │         1  ?                  audi         gas        std         four\n",
       "   9 │         1  158                audi         gas        turbo       four  ⋯\n",
       "  10 │         0  ?                  audi         gas        turbo       two\n",
       "  11 │         2  192                bmw          gas        std         two\n",
       "  ⋮  │     ⋮              ⋮               ⋮           ⋮          ⋮             ⋱\n",
       " 196 │        -1  74                 volvo        gas        std         four\n",
       " 197 │        -2  103                volvo        gas        std         four  ⋯\n",
       " 198 │        -1  74                 volvo        gas        std         four\n",
       " 199 │        -2  103                volvo        gas        turbo       four\n",
       " 200 │        -1  74                 volvo        gas        turbo       four\n",
       " 201 │        -1  95                 volvo        gas        std         four  ⋯\n",
       " 202 │        -1  95                 volvo        gas        turbo       four\n",
       " 203 │        -1  95                 volvo        gas        std         four\n",
       " 204 │        -1  95                 volvo        diesel     turbo       four\n",
       " 205 │        -1  95                 volvo        gas        turbo       four  ⋯\n",
       "\u001b[36m                                                 21 columns and 184 rows omitted\u001b[0m"
      ]
     },
     "execution_count": 5,
     "metadata": {},
     "output_type": "execute_result"
    }
   ],
   "source": [
    "df = CSV.read(\"automobile.data\", DataFrame, header=headers)"
   ]
  },
  {
   "cell_type": "markdown",
   "id": "54f23a64",
   "metadata": {},
   "source": [
    "## Data Exploration!\n",
    "\n",
    "Let's look if we have any missing values and explore our data.\n",
    "\n",
    "First of all, there is something odd with the columns `normalized-losses`, `bore`, `stroke` `horsepower`, `peak-rpm` and `price`. Their values are numeric, but it says that the columns contain String data.\n",
    "\n",
    "On the other hand, we can already observe many missing values in the `normalized-losses` column denoted with `?`."
   ]
  },
  {
   "cell_type": "code",
   "execution_count": 6,
   "id": "fe716288",
   "metadata": {},
   "outputs": [
    {
     "data": {
      "text/html": [
       "<div><div style = \"float: left;\"><span>3×7 DataFrame</span></div><div style = \"clear: both;\"></div></div><div class = \"data-frame\" style = \"overflow-x: scroll;\"><table class = \"data-frame\" style = \"margin-bottom: 6px;\"><thead><tr class = \"header\"><th class = \"rowNumber\" style = \"font-weight: bold; text-align: right;\">Row</th><th style = \"text-align: left;\">variable</th><th style = \"text-align: left;\">mean</th><th style = \"text-align: left;\">min</th><th style = \"text-align: left;\">median</th><th style = \"text-align: left;\">max</th><th style = \"text-align: left;\">nmissing</th><th style = \"text-align: left;\">eltype</th></tr><tr class = \"subheader headerLastRow\"><th class = \"rowNumber\" style = \"font-weight: bold; text-align: right;\"></th><th title = \"Symbol\" style = \"text-align: left;\">Symbol</th><th title = \"Nothing\" style = \"text-align: left;\">Nothing</th><th title = \"InlineString\" style = \"text-align: left;\">InlineSt…</th><th title = \"Nothing\" style = \"text-align: left;\">Nothing</th><th title = \"InlineString\" style = \"text-align: left;\">InlineSt…</th><th title = \"Int64\" style = \"text-align: left;\">Int64</th><th title = \"DataType\" style = \"text-align: left;\">DataType</th></tr></thead><tbody><tr><td class = \"rowNumber\" style = \"font-weight: bold; text-align: right;\">1</td><td style = \"text-align: left;\">horsepower</td><td style = \"font-style: italic; text-align: left;\"></td><td style = \"text-align: left;\">100</td><td style = \"font-style: italic; text-align: left;\"></td><td style = \"text-align: left;\">?</td><td style = \"text-align: right;\">0</td><td style = \"text-align: left;\">String3</td></tr><tr><td class = \"rowNumber\" style = \"font-weight: bold; text-align: right;\">2</td><td style = \"text-align: left;\">peak-rpm</td><td style = \"font-style: italic; text-align: left;\"></td><td style = \"text-align: left;\">4150</td><td style = \"font-style: italic; text-align: left;\"></td><td style = \"text-align: left;\">?</td><td style = \"text-align: right;\">0</td><td style = \"text-align: left;\">String7</td></tr><tr><td class = \"rowNumber\" style = \"font-weight: bold; text-align: right;\">3</td><td style = \"text-align: left;\">price</td><td style = \"font-style: italic; text-align: left;\"></td><td style = \"text-align: left;\">10198</td><td style = \"font-style: italic; text-align: left;\"></td><td style = \"text-align: left;\">?</td><td style = \"text-align: right;\">0</td><td style = \"text-align: left;\">String7</td></tr></tbody></table></div>"
      ],
      "text/latex": [
       "\\begin{tabular}{r|ccccccc}\n",
       "\t& variable & mean & min & median & max & nmissing & eltype\\\\\n",
       "\t\\hline\n",
       "\t& Symbol & Nothing & InlineSt… & Nothing & InlineSt… & Int64 & DataType\\\\\n",
       "\t\\hline\n",
       "\t1 & horsepower &  & 100 &  & ? & 0 & String3 \\\\\n",
       "\t2 & peak-rpm &  & 4150 &  & ? & 0 & String7 \\\\\n",
       "\t3 & price &  & 10198 &  & ? & 0 & String7 \\\\\n",
       "\\end{tabular}\n"
      ],
      "text/plain": [
       "\u001b[1m3×7 DataFrame\u001b[0m\n",
       "\u001b[1m Row \u001b[0m│\u001b[1m variable   \u001b[0m\u001b[1m mean    \u001b[0m\u001b[1m min       \u001b[0m\u001b[1m median  \u001b[0m\u001b[1m max       \u001b[0m\u001b[1m nmissing \u001b[0m\u001b[1m eltype   \u001b[0m\n",
       "     │\u001b[90m Symbol     \u001b[0m\u001b[90m Nothing \u001b[0m\u001b[90m InlineSt… \u001b[0m\u001b[90m Nothing \u001b[0m\u001b[90m InlineSt… \u001b[0m\u001b[90m Int64    \u001b[0m\u001b[90m DataType \u001b[0m\n",
       "─────┼────────────────────────────────────────────────────────────────────────\n",
       "   1 │ horsepower \u001b[90m         \u001b[0m 100       \u001b[90m         \u001b[0m ?                 0  String3\n",
       "   2 │ peak-rpm   \u001b[90m         \u001b[0m 4150      \u001b[90m         \u001b[0m ?                 0  String7\n",
       "   3 │ price      \u001b[90m         \u001b[0m 10198     \u001b[90m         \u001b[0m ?                 0  String7"
      ]
     },
     "execution_count": 6,
     "metadata": {},
     "output_type": "execute_result"
    }
   ],
   "source": [
    "# Let's explore the columns horsepower, peak-rpm and price\n",
    "\n",
    "describe(df, cols=[\"horsepower\", \"peak-rpm\", \"price\"])"
   ]
  },
  {
   "cell_type": "markdown",
   "id": "e639214e",
   "metadata": {},
   "source": [
    "So, it looks like there are `\"?\"` values that might be interfering with the Int64 DataType.\n",
    "Let's replace them with Julia's `missing` value."
   ]
  },
  {
   "cell_type": "code",
   "execution_count": 7,
   "id": "978abb44",
   "metadata": {},
   "outputs": [
    {
     "data": {
      "text/html": [
       "<div><div style = \"float: left;\"><span>205×26 DataFrame</span></div><div style = \"float: right;\"><span style = \"font-style: italic;\">180 rows omitted</span></div><div style = \"clear: both;\"></div></div><div class = \"data-frame\" style = \"overflow-x: scroll;\"><table class = \"data-frame\" style = \"margin-bottom: 6px;\"><thead><tr class = \"header\"><th class = \"rowNumber\" style = \"font-weight: bold; text-align: right;\">Row</th><th style = \"text-align: left;\">symboling</th><th style = \"text-align: left;\">normalized-losses</th><th style = \"text-align: left;\">make</th><th style = \"text-align: left;\">fuel-type</th><th style = \"text-align: left;\">aspiration</th><th style = \"text-align: left;\">num-of-doors</th><th style = \"text-align: left;\">body-style</th><th style = \"text-align: left;\">drive-wheels</th><th style = \"text-align: left;\">engine-location</th><th style = \"text-align: left;\">wheel-base</th><th style = \"text-align: left;\">length</th><th style = \"text-align: left;\">width</th><th style = \"text-align: left;\">height</th><th style = \"text-align: left;\">curb-weight</th><th style = \"text-align: left;\">engine-type</th><th style = \"text-align: left;\">num-of-cylinders</th><th style = \"text-align: left;\">engine-size</th><th style = \"text-align: left;\">fuel-system</th><th style = \"text-align: left;\">bore</th><th style = \"text-align: left;\">stroke</th><th style = \"text-align: left;\">compression-ratio</th><th style = \"text-align: left;\">horsepower</th><th style = \"text-align: left;\">peak-rpm</th><th style = \"text-align: left;\">city-mpg</th><th style = \"text-align: left;\">highway-mpg</th><th style = \"text-align: left;\">price</th></tr><tr class = \"subheader headerLastRow\"><th class = \"rowNumber\" style = \"font-weight: bold; text-align: right;\"></th><th title = \"Int64\" style = \"text-align: left;\">Int64</th><th title = \"Union{Missing, String3}\" style = \"text-align: left;\">String3?</th><th title = \"String15\" style = \"text-align: left;\">String15</th><th title = \"String7\" style = \"text-align: left;\">String7</th><th title = \"String7\" style = \"text-align: left;\">String7</th><th title = \"Union{Missing, String7}\" style = \"text-align: left;\">String7?</th><th title = \"String15\" style = \"text-align: left;\">String15</th><th title = \"String3\" style = \"text-align: left;\">String3</th><th title = \"String7\" style = \"text-align: left;\">String7</th><th title = \"Float64\" style = \"text-align: left;\">Float64</th><th title = \"Float64\" style = \"text-align: left;\">Float64</th><th title = \"Float64\" style = \"text-align: left;\">Float64</th><th title = \"Float64\" style = \"text-align: left;\">Float64</th><th title = \"Int64\" style = \"text-align: left;\">Int64</th><th title = \"String7\" style = \"text-align: left;\">String7</th><th title = \"String7\" style = \"text-align: left;\">String7</th><th title = \"Int64\" style = \"text-align: left;\">Int64</th><th title = \"String7\" style = \"text-align: left;\">String7</th><th title = \"Union{Missing, String7}\" style = \"text-align: left;\">String7?</th><th title = \"Union{Missing, String7}\" style = \"text-align: left;\">String7?</th><th title = \"Float64\" style = \"text-align: left;\">Float64</th><th title = \"Union{Missing, String3}\" style = \"text-align: left;\">String3?</th><th title = \"Union{Missing, String7}\" style = \"text-align: left;\">String7?</th><th title = \"Int64\" style = \"text-align: left;\">Int64</th><th title = \"Int64\" style = \"text-align: left;\">Int64</th><th title = \"Union{Missing, String7}\" style = \"text-align: left;\">String7?</th></tr></thead><tbody><tr><td class = \"rowNumber\" style = \"font-weight: bold; text-align: right;\">1</td><td style = \"text-align: right;\">3</td><td style = \"font-style: italic; text-align: left;\">missing</td><td style = \"text-align: left;\">alfa-romero</td><td style = \"text-align: left;\">gas</td><td style = \"text-align: left;\">std</td><td style = \"text-align: left;\">two</td><td style = \"text-align: left;\">convertible</td><td style = \"text-align: left;\">rwd</td><td style = \"text-align: left;\">front</td><td style = \"text-align: right;\">88.6</td><td style = \"text-align: right;\">168.8</td><td style = \"text-align: right;\">64.1</td><td style = \"text-align: right;\">48.8</td><td style = \"text-align: right;\">2548</td><td style = \"text-align: left;\">dohc</td><td style = \"text-align: left;\">four</td><td style = \"text-align: right;\">130</td><td style = \"text-align: left;\">mpfi</td><td style = \"text-align: left;\">3.47</td><td style = \"text-align: left;\">2.68</td><td style = \"text-align: right;\">9.0</td><td style = \"text-align: left;\">111</td><td style = \"text-align: left;\">5000</td><td style = \"text-align: right;\">21</td><td style = \"text-align: right;\">27</td><td style = \"text-align: left;\">13495</td></tr><tr><td class = \"rowNumber\" style = \"font-weight: bold; text-align: right;\">2</td><td style = \"text-align: right;\">3</td><td style = \"font-style: italic; text-align: left;\">missing</td><td style = \"text-align: left;\">alfa-romero</td><td style = \"text-align: left;\">gas</td><td style = \"text-align: left;\">std</td><td style = \"text-align: left;\">two</td><td style = \"text-align: left;\">convertible</td><td style = \"text-align: left;\">rwd</td><td style = \"text-align: left;\">front</td><td style = \"text-align: right;\">88.6</td><td style = \"text-align: right;\">168.8</td><td style = \"text-align: right;\">64.1</td><td style = \"text-align: right;\">48.8</td><td style = \"text-align: right;\">2548</td><td style = \"text-align: left;\">dohc</td><td style = \"text-align: left;\">four</td><td style = \"text-align: right;\">130</td><td style = \"text-align: left;\">mpfi</td><td style = \"text-align: left;\">3.47</td><td style = \"text-align: left;\">2.68</td><td style = \"text-align: right;\">9.0</td><td style = \"text-align: left;\">111</td><td style = \"text-align: left;\">5000</td><td style = \"text-align: right;\">21</td><td style = \"text-align: right;\">27</td><td style = \"text-align: left;\">16500</td></tr><tr><td class = \"rowNumber\" style = \"font-weight: bold; text-align: right;\">3</td><td style = \"text-align: right;\">1</td><td style = \"font-style: italic; text-align: left;\">missing</td><td style = \"text-align: left;\">alfa-romero</td><td style = \"text-align: left;\">gas</td><td style = \"text-align: left;\">std</td><td style = \"text-align: left;\">two</td><td style = \"text-align: left;\">hatchback</td><td style = \"text-align: left;\">rwd</td><td style = \"text-align: left;\">front</td><td style = \"text-align: right;\">94.5</td><td style = \"text-align: right;\">171.2</td><td style = \"text-align: right;\">65.5</td><td style = \"text-align: right;\">52.4</td><td style = \"text-align: right;\">2823</td><td style = \"text-align: left;\">ohcv</td><td style = \"text-align: left;\">six</td><td style = \"text-align: right;\">152</td><td style = \"text-align: left;\">mpfi</td><td style = \"text-align: left;\">2.68</td><td style = \"text-align: left;\">3.47</td><td style = \"text-align: right;\">9.0</td><td style = \"text-align: left;\">154</td><td style = \"text-align: left;\">5000</td><td style = \"text-align: right;\">19</td><td style = \"text-align: right;\">26</td><td style = \"text-align: left;\">16500</td></tr><tr><td class = \"rowNumber\" style = \"font-weight: bold; text-align: right;\">4</td><td style = \"text-align: right;\">2</td><td style = \"text-align: left;\">164</td><td style = \"text-align: left;\">audi</td><td style = \"text-align: left;\">gas</td><td style = \"text-align: left;\">std</td><td style = \"text-align: left;\">four</td><td style = \"text-align: left;\">sedan</td><td style = \"text-align: left;\">fwd</td><td style = \"text-align: left;\">front</td><td style = \"text-align: right;\">99.8</td><td style = \"text-align: right;\">176.6</td><td style = \"text-align: right;\">66.2</td><td style = \"text-align: right;\">54.3</td><td style = \"text-align: right;\">2337</td><td style = \"text-align: left;\">ohc</td><td style = \"text-align: left;\">four</td><td style = \"text-align: right;\">109</td><td style = \"text-align: left;\">mpfi</td><td style = \"text-align: left;\">3.19</td><td style = \"text-align: left;\">3.40</td><td style = \"text-align: right;\">10.0</td><td style = \"text-align: left;\">102</td><td style = \"text-align: left;\">5500</td><td style = \"text-align: right;\">24</td><td style = \"text-align: right;\">30</td><td style = \"text-align: left;\">13950</td></tr><tr><td class = \"rowNumber\" style = \"font-weight: bold; text-align: right;\">5</td><td style = \"text-align: right;\">2</td><td style = \"text-align: left;\">164</td><td style = \"text-align: left;\">audi</td><td style = \"text-align: left;\">gas</td><td style = \"text-align: left;\">std</td><td style = \"text-align: left;\">four</td><td style = \"text-align: left;\">sedan</td><td style = \"text-align: left;\">4wd</td><td style = \"text-align: left;\">front</td><td style = \"text-align: right;\">99.4</td><td style = \"text-align: right;\">176.6</td><td style = \"text-align: right;\">66.4</td><td style = \"text-align: right;\">54.3</td><td style = \"text-align: right;\">2824</td><td style = \"text-align: left;\">ohc</td><td style = \"text-align: left;\">five</td><td style = \"text-align: right;\">136</td><td style = \"text-align: left;\">mpfi</td><td style = \"text-align: left;\">3.19</td><td style = \"text-align: left;\">3.40</td><td style = \"text-align: right;\">8.0</td><td style = \"text-align: left;\">115</td><td style = \"text-align: left;\">5500</td><td style = \"text-align: right;\">18</td><td style = \"text-align: right;\">22</td><td style = \"text-align: left;\">17450</td></tr><tr><td class = \"rowNumber\" style = \"font-weight: bold; text-align: right;\">6</td><td style = \"text-align: right;\">2</td><td style = \"font-style: italic; text-align: left;\">missing</td><td style = \"text-align: left;\">audi</td><td style = \"text-align: left;\">gas</td><td style = \"text-align: left;\">std</td><td style = \"text-align: left;\">two</td><td style = \"text-align: left;\">sedan</td><td style = \"text-align: left;\">fwd</td><td style = \"text-align: left;\">front</td><td style = \"text-align: right;\">99.8</td><td style = \"text-align: right;\">177.3</td><td style = \"text-align: right;\">66.3</td><td style = \"text-align: right;\">53.1</td><td style = \"text-align: right;\">2507</td><td style = \"text-align: left;\">ohc</td><td style = \"text-align: left;\">five</td><td style = \"text-align: right;\">136</td><td style = \"text-align: left;\">mpfi</td><td style = \"text-align: left;\">3.19</td><td style = \"text-align: left;\">3.40</td><td style = \"text-align: right;\">8.5</td><td style = \"text-align: left;\">110</td><td style = \"text-align: left;\">5500</td><td style = \"text-align: right;\">19</td><td style = \"text-align: right;\">25</td><td style = \"text-align: left;\">15250</td></tr><tr><td class = \"rowNumber\" style = \"font-weight: bold; text-align: right;\">7</td><td style = \"text-align: right;\">1</td><td style = \"text-align: left;\">158</td><td style = \"text-align: left;\">audi</td><td style = \"text-align: left;\">gas</td><td style = \"text-align: left;\">std</td><td style = \"text-align: left;\">four</td><td style = \"text-align: left;\">sedan</td><td style = \"text-align: left;\">fwd</td><td style = \"text-align: left;\">front</td><td style = \"text-align: right;\">105.8</td><td style = \"text-align: right;\">192.7</td><td style = \"text-align: right;\">71.4</td><td style = \"text-align: right;\">55.7</td><td style = \"text-align: right;\">2844</td><td style = \"text-align: left;\">ohc</td><td style = \"text-align: left;\">five</td><td style = \"text-align: right;\">136</td><td style = \"text-align: left;\">mpfi</td><td style = \"text-align: left;\">3.19</td><td style = \"text-align: left;\">3.40</td><td style = \"text-align: right;\">8.5</td><td style = \"text-align: left;\">110</td><td style = \"text-align: left;\">5500</td><td style = \"text-align: right;\">19</td><td style = \"text-align: right;\">25</td><td style = \"text-align: left;\">17710</td></tr><tr><td class = \"rowNumber\" style = \"font-weight: bold; text-align: right;\">8</td><td style = \"text-align: right;\">1</td><td style = \"font-style: italic; text-align: left;\">missing</td><td style = \"text-align: left;\">audi</td><td style = \"text-align: left;\">gas</td><td style = \"text-align: left;\">std</td><td style = \"text-align: left;\">four</td><td style = \"text-align: left;\">wagon</td><td style = \"text-align: left;\">fwd</td><td style = \"text-align: left;\">front</td><td style = \"text-align: right;\">105.8</td><td style = \"text-align: right;\">192.7</td><td style = \"text-align: right;\">71.4</td><td style = \"text-align: right;\">55.7</td><td style = \"text-align: right;\">2954</td><td style = \"text-align: left;\">ohc</td><td style = \"text-align: left;\">five</td><td style = \"text-align: right;\">136</td><td style = \"text-align: left;\">mpfi</td><td style = \"text-align: left;\">3.19</td><td style = \"text-align: left;\">3.40</td><td style = \"text-align: right;\">8.5</td><td style = \"text-align: left;\">110</td><td style = \"text-align: left;\">5500</td><td style = \"text-align: right;\">19</td><td style = \"text-align: right;\">25</td><td style = \"text-align: left;\">18920</td></tr><tr><td class = \"rowNumber\" style = \"font-weight: bold; text-align: right;\">9</td><td style = \"text-align: right;\">1</td><td style = \"text-align: left;\">158</td><td style = \"text-align: left;\">audi</td><td style = \"text-align: left;\">gas</td><td style = \"text-align: left;\">turbo</td><td style = \"text-align: left;\">four</td><td style = \"text-align: left;\">sedan</td><td style = \"text-align: left;\">fwd</td><td style = \"text-align: left;\">front</td><td style = \"text-align: right;\">105.8</td><td style = \"text-align: right;\">192.7</td><td style = \"text-align: right;\">71.4</td><td style = \"text-align: right;\">55.9</td><td style = \"text-align: right;\">3086</td><td style = \"text-align: left;\">ohc</td><td style = \"text-align: left;\">five</td><td style = \"text-align: right;\">131</td><td style = \"text-align: left;\">mpfi</td><td style = \"text-align: left;\">3.13</td><td style = \"text-align: left;\">3.40</td><td style = \"text-align: right;\">8.3</td><td style = \"text-align: left;\">140</td><td style = \"text-align: left;\">5500</td><td style = \"text-align: right;\">17</td><td style = \"text-align: right;\">20</td><td style = \"text-align: left;\">23875</td></tr><tr><td class = \"rowNumber\" style = \"font-weight: bold; text-align: right;\">10</td><td style = \"text-align: right;\">0</td><td style = \"font-style: italic; text-align: left;\">missing</td><td style = \"text-align: left;\">audi</td><td style = \"text-align: left;\">gas</td><td style = \"text-align: left;\">turbo</td><td style = \"text-align: left;\">two</td><td style = \"text-align: left;\">hatchback</td><td style = \"text-align: left;\">4wd</td><td style = \"text-align: left;\">front</td><td style = \"text-align: right;\">99.5</td><td style = \"text-align: right;\">178.2</td><td style = \"text-align: right;\">67.9</td><td style = \"text-align: right;\">52.0</td><td style = \"text-align: right;\">3053</td><td style = \"text-align: left;\">ohc</td><td style = \"text-align: left;\">five</td><td style = \"text-align: right;\">131</td><td style = \"text-align: left;\">mpfi</td><td style = \"text-align: left;\">3.13</td><td style = \"text-align: left;\">3.40</td><td style = \"text-align: right;\">7.0</td><td style = \"text-align: left;\">160</td><td style = \"text-align: left;\">5500</td><td style = \"text-align: right;\">16</td><td style = \"text-align: right;\">22</td><td style = \"font-style: italic; text-align: left;\">missing</td></tr><tr><td class = \"rowNumber\" style = \"font-weight: bold; text-align: right;\">11</td><td style = \"text-align: right;\">2</td><td style = \"text-align: left;\">192</td><td style = \"text-align: left;\">bmw</td><td style = \"text-align: left;\">gas</td><td style = \"text-align: left;\">std</td><td style = \"text-align: left;\">two</td><td style = \"text-align: left;\">sedan</td><td style = \"text-align: left;\">rwd</td><td style = \"text-align: left;\">front</td><td style = \"text-align: right;\">101.2</td><td style = \"text-align: right;\">176.8</td><td style = \"text-align: right;\">64.8</td><td style = \"text-align: right;\">54.3</td><td style = \"text-align: right;\">2395</td><td style = \"text-align: left;\">ohc</td><td style = \"text-align: left;\">four</td><td style = \"text-align: right;\">108</td><td style = \"text-align: left;\">mpfi</td><td style = \"text-align: left;\">3.50</td><td style = \"text-align: left;\">2.80</td><td style = \"text-align: right;\">8.8</td><td style = \"text-align: left;\">101</td><td style = \"text-align: left;\">5800</td><td style = \"text-align: right;\">23</td><td style = \"text-align: right;\">29</td><td style = \"text-align: left;\">16430</td></tr><tr><td class = \"rowNumber\" style = \"font-weight: bold; text-align: right;\">12</td><td style = \"text-align: right;\">0</td><td style = \"text-align: left;\">192</td><td style = \"text-align: left;\">bmw</td><td style = \"text-align: left;\">gas</td><td style = \"text-align: left;\">std</td><td style = \"text-align: left;\">four</td><td style = \"text-align: left;\">sedan</td><td style = \"text-align: left;\">rwd</td><td style = \"text-align: left;\">front</td><td style = \"text-align: right;\">101.2</td><td style = \"text-align: right;\">176.8</td><td style = \"text-align: right;\">64.8</td><td style = \"text-align: right;\">54.3</td><td style = \"text-align: right;\">2395</td><td style = \"text-align: left;\">ohc</td><td style = \"text-align: left;\">four</td><td style = \"text-align: right;\">108</td><td style = \"text-align: left;\">mpfi</td><td style = \"text-align: left;\">3.50</td><td style = \"text-align: left;\">2.80</td><td style = \"text-align: right;\">8.8</td><td style = \"text-align: left;\">101</td><td style = \"text-align: left;\">5800</td><td style = \"text-align: right;\">23</td><td style = \"text-align: right;\">29</td><td style = \"text-align: left;\">16925</td></tr><tr><td class = \"rowNumber\" style = \"font-weight: bold; text-align: right;\">13</td><td style = \"text-align: right;\">0</td><td style = \"text-align: left;\">188</td><td style = \"text-align: left;\">bmw</td><td style = \"text-align: left;\">gas</td><td style = \"text-align: left;\">std</td><td style = \"text-align: left;\">two</td><td style = \"text-align: left;\">sedan</td><td style = \"text-align: left;\">rwd</td><td style = \"text-align: left;\">front</td><td style = \"text-align: right;\">101.2</td><td style = \"text-align: right;\">176.8</td><td style = \"text-align: right;\">64.8</td><td style = \"text-align: right;\">54.3</td><td style = \"text-align: right;\">2710</td><td style = \"text-align: left;\">ohc</td><td style = \"text-align: left;\">six</td><td style = \"text-align: right;\">164</td><td style = \"text-align: left;\">mpfi</td><td style = \"text-align: left;\">3.31</td><td style = \"text-align: left;\">3.19</td><td style = \"text-align: right;\">9.0</td><td style = \"text-align: left;\">121</td><td style = \"text-align: left;\">4250</td><td style = \"text-align: right;\">21</td><td style = \"text-align: right;\">28</td><td style = \"text-align: left;\">20970</td></tr><tr><td style = \"text-align: right;\">&vellip;</td><td style = \"text-align: right;\">&vellip;</td><td style = \"text-align: right;\">&vellip;</td><td style = \"text-align: right;\">&vellip;</td><td style = \"text-align: right;\">&vellip;</td><td style = \"text-align: right;\">&vellip;</td><td style = \"text-align: right;\">&vellip;</td><td style = \"text-align: right;\">&vellip;</td><td style = \"text-align: right;\">&vellip;</td><td style = \"text-align: right;\">&vellip;</td><td style = \"text-align: right;\">&vellip;</td><td style = \"text-align: right;\">&vellip;</td><td style = \"text-align: right;\">&vellip;</td><td style = \"text-align: right;\">&vellip;</td><td style = \"text-align: right;\">&vellip;</td><td style = \"text-align: right;\">&vellip;</td><td style = \"text-align: right;\">&vellip;</td><td style = \"text-align: right;\">&vellip;</td><td style = \"text-align: right;\">&vellip;</td><td style = \"text-align: right;\">&vellip;</td><td style = \"text-align: right;\">&vellip;</td><td style = \"text-align: right;\">&vellip;</td><td style = \"text-align: right;\">&vellip;</td><td style = \"text-align: right;\">&vellip;</td><td style = \"text-align: right;\">&vellip;</td><td style = \"text-align: right;\">&vellip;</td><td style = \"text-align: right;\">&vellip;</td></tr><tr><td class = \"rowNumber\" style = \"font-weight: bold; text-align: right;\">194</td><td style = \"text-align: right;\">0</td><td style = \"text-align: left;\">missing</td><td style = \"text-align: left;\">volkswagen</td><td style = \"text-align: left;\">gas</td><td style = \"text-align: left;\">std</td><td style = \"text-align: left;\">four</td><td style = \"text-align: left;\">wagon</td><td style = \"text-align: left;\">fwd</td><td style = \"text-align: left;\">front</td><td style = \"text-align: right;\">100.4</td><td style = \"text-align: right;\">183.1</td><td style = \"text-align: right;\">66.9</td><td style = \"text-align: right;\">55.1</td><td style = \"text-align: right;\">2563</td><td style = \"text-align: left;\">ohc</td><td style = \"text-align: left;\">four</td><td style = \"text-align: right;\">109</td><td style = \"text-align: left;\">mpfi</td><td style = \"text-align: left;\">3.19</td><td style = \"text-align: left;\">3.40</td><td style = \"text-align: right;\">9.0</td><td style = \"text-align: left;\">88</td><td style = \"text-align: left;\">5500</td><td style = \"text-align: right;\">25</td><td style = \"text-align: right;\">31</td><td style = \"text-align: left;\">12290</td></tr><tr><td class = \"rowNumber\" style = \"font-weight: bold; text-align: right;\">195</td><td style = \"text-align: right;\">-2</td><td style = \"font-style: italic; text-align: left;\">103</td><td style = \"text-align: left;\">volvo</td><td style = \"text-align: left;\">gas</td><td style = \"text-align: left;\">std</td><td style = \"text-align: left;\">four</td><td style = \"text-align: left;\">sedan</td><td style = \"text-align: left;\">rwd</td><td style = \"text-align: left;\">front</td><td style = \"text-align: right;\">104.3</td><td style = \"text-align: right;\">188.8</td><td style = \"text-align: right;\">67.2</td><td style = \"text-align: right;\">56.2</td><td style = \"text-align: right;\">2912</td><td style = \"text-align: left;\">ohc</td><td style = \"text-align: left;\">four</td><td style = \"text-align: right;\">141</td><td style = \"text-align: left;\">mpfi</td><td style = \"text-align: left;\">3.78</td><td style = \"text-align: left;\">3.15</td><td style = \"text-align: right;\">9.5</td><td style = \"text-align: left;\">114</td><td style = \"text-align: left;\">5400</td><td style = \"text-align: right;\">23</td><td style = \"text-align: right;\">28</td><td style = \"text-align: left;\">12940</td></tr><tr><td class = \"rowNumber\" style = \"font-weight: bold; text-align: right;\">196</td><td style = \"text-align: right;\">-1</td><td style = \"font-style: italic; text-align: left;\">74</td><td style = \"text-align: left;\">volvo</td><td style = \"text-align: left;\">gas</td><td style = \"text-align: left;\">std</td><td style = \"text-align: left;\">four</td><td style = \"text-align: left;\">wagon</td><td style = \"text-align: left;\">rwd</td><td style = \"text-align: left;\">front</td><td style = \"text-align: right;\">104.3</td><td style = \"text-align: right;\">188.8</td><td style = \"text-align: right;\">67.2</td><td style = \"text-align: right;\">57.5</td><td style = \"text-align: right;\">3034</td><td style = \"text-align: left;\">ohc</td><td style = \"text-align: left;\">four</td><td style = \"text-align: right;\">141</td><td style = \"text-align: left;\">mpfi</td><td style = \"text-align: left;\">3.78</td><td style = \"text-align: left;\">3.15</td><td style = \"text-align: right;\">9.5</td><td style = \"text-align: left;\">114</td><td style = \"text-align: left;\">5400</td><td style = \"text-align: right;\">23</td><td style = \"text-align: right;\">28</td><td style = \"text-align: left;\">13415</td></tr><tr><td class = \"rowNumber\" style = \"font-weight: bold; text-align: right;\">197</td><td style = \"text-align: right;\">-2</td><td style = \"font-style: italic; text-align: left;\">103</td><td style = \"text-align: left;\">volvo</td><td style = \"text-align: left;\">gas</td><td style = \"text-align: left;\">std</td><td style = \"text-align: left;\">four</td><td style = \"text-align: left;\">sedan</td><td style = \"text-align: left;\">rwd</td><td style = \"text-align: left;\">front</td><td style = \"text-align: right;\">104.3</td><td style = \"text-align: right;\">188.8</td><td style = \"text-align: right;\">67.2</td><td style = \"text-align: right;\">56.2</td><td style = \"text-align: right;\">2935</td><td style = \"text-align: left;\">ohc</td><td style = \"text-align: left;\">four</td><td style = \"text-align: right;\">141</td><td style = \"text-align: left;\">mpfi</td><td style = \"text-align: left;\">3.78</td><td style = \"text-align: left;\">3.15</td><td style = \"text-align: right;\">9.5</td><td style = \"text-align: left;\">114</td><td style = \"text-align: left;\">5400</td><td style = \"text-align: right;\">24</td><td style = \"text-align: right;\">28</td><td style = \"text-align: left;\">15985</td></tr><tr><td class = \"rowNumber\" style = \"font-weight: bold; text-align: right;\">198</td><td style = \"text-align: right;\">-1</td><td style = \"font-style: italic; text-align: left;\">74</td><td style = \"text-align: left;\">volvo</td><td style = \"text-align: left;\">gas</td><td style = \"text-align: left;\">std</td><td style = \"text-align: left;\">four</td><td style = \"text-align: left;\">wagon</td><td style = \"text-align: left;\">rwd</td><td style = \"text-align: left;\">front</td><td style = \"text-align: right;\">104.3</td><td style = \"text-align: right;\">188.8</td><td style = \"text-align: right;\">67.2</td><td style = \"text-align: right;\">57.5</td><td style = \"text-align: right;\">3042</td><td style = \"text-align: left;\">ohc</td><td style = \"text-align: left;\">four</td><td style = \"text-align: right;\">141</td><td style = \"text-align: left;\">mpfi</td><td style = \"text-align: left;\">3.78</td><td style = \"text-align: left;\">3.15</td><td style = \"text-align: right;\">9.5</td><td style = \"text-align: left;\">114</td><td style = \"text-align: left;\">5400</td><td style = \"text-align: right;\">24</td><td style = \"text-align: right;\">28</td><td style = \"text-align: left;\">16515</td></tr><tr><td class = \"rowNumber\" style = \"font-weight: bold; text-align: right;\">199</td><td style = \"text-align: right;\">-2</td><td style = \"text-align: left;\">103</td><td style = \"text-align: left;\">volvo</td><td style = \"text-align: left;\">gas</td><td style = \"text-align: left;\">turbo</td><td style = \"text-align: left;\">four</td><td style = \"text-align: left;\">sedan</td><td style = \"text-align: left;\">rwd</td><td style = \"text-align: left;\">front</td><td style = \"text-align: right;\">104.3</td><td style = \"text-align: right;\">188.8</td><td style = \"text-align: right;\">67.2</td><td style = \"text-align: right;\">56.2</td><td style = \"text-align: right;\">3045</td><td style = \"text-align: left;\">ohc</td><td style = \"text-align: left;\">four</td><td style = \"text-align: right;\">130</td><td style = \"text-align: left;\">mpfi</td><td style = \"text-align: left;\">3.62</td><td style = \"text-align: left;\">3.15</td><td style = \"text-align: right;\">7.5</td><td style = \"text-align: left;\">162</td><td style = \"text-align: left;\">5100</td><td style = \"text-align: right;\">17</td><td style = \"text-align: right;\">22</td><td style = \"text-align: left;\">18420</td></tr><tr><td class = \"rowNumber\" style = \"font-weight: bold; text-align: right;\">200</td><td style = \"text-align: right;\">-1</td><td style = \"text-align: left;\">74</td><td style = \"text-align: left;\">volvo</td><td style = \"text-align: left;\">gas</td><td style = \"text-align: left;\">turbo</td><td style = \"text-align: left;\">four</td><td style = \"text-align: left;\">wagon</td><td style = \"text-align: left;\">rwd</td><td style = \"text-align: left;\">front</td><td style = \"text-align: right;\">104.3</td><td style = \"text-align: right;\">188.8</td><td style = \"text-align: right;\">67.2</td><td style = \"text-align: right;\">57.5</td><td style = \"text-align: right;\">3157</td><td style = \"text-align: left;\">ohc</td><td style = \"text-align: left;\">four</td><td style = \"text-align: right;\">130</td><td style = \"text-align: left;\">mpfi</td><td style = \"text-align: left;\">3.62</td><td style = \"text-align: left;\">3.15</td><td style = \"text-align: right;\">7.5</td><td style = \"text-align: left;\">162</td><td style = \"text-align: left;\">5100</td><td style = \"text-align: right;\">17</td><td style = \"text-align: right;\">22</td><td style = \"text-align: left;\">18950</td></tr><tr><td class = \"rowNumber\" style = \"font-weight: bold; text-align: right;\">201</td><td style = \"text-align: right;\">-1</td><td style = \"text-align: left;\">95</td><td style = \"text-align: left;\">volvo</td><td style = \"text-align: left;\">gas</td><td style = \"text-align: left;\">std</td><td style = \"text-align: left;\">four</td><td style = \"text-align: left;\">sedan</td><td style = \"text-align: left;\">rwd</td><td style = \"text-align: left;\">front</td><td style = \"text-align: right;\">109.1</td><td style = \"text-align: right;\">188.8</td><td style = \"text-align: right;\">68.9</td><td style = \"text-align: right;\">55.5</td><td style = \"text-align: right;\">2952</td><td style = \"text-align: left;\">ohc</td><td style = \"text-align: left;\">four</td><td style = \"text-align: right;\">141</td><td style = \"text-align: left;\">mpfi</td><td style = \"text-align: left;\">3.78</td><td style = \"text-align: left;\">3.15</td><td style = \"text-align: right;\">9.5</td><td style = \"text-align: left;\">114</td><td style = \"text-align: left;\">5400</td><td style = \"text-align: right;\">23</td><td style = \"text-align: right;\">28</td><td style = \"text-align: left;\">16845</td></tr><tr><td class = \"rowNumber\" style = \"font-weight: bold; text-align: right;\">202</td><td style = \"text-align: right;\">-1</td><td style = \"text-align: left;\">95</td><td style = \"text-align: left;\">volvo</td><td style = \"text-align: left;\">gas</td><td style = \"text-align: left;\">turbo</td><td style = \"text-align: left;\">four</td><td style = \"text-align: left;\">sedan</td><td style = \"text-align: left;\">rwd</td><td style = \"text-align: left;\">front</td><td style = \"text-align: right;\">109.1</td><td style = \"text-align: right;\">188.8</td><td style = \"text-align: right;\">68.8</td><td style = \"text-align: right;\">55.5</td><td style = \"text-align: right;\">3049</td><td style = \"text-align: left;\">ohc</td><td style = \"text-align: left;\">four</td><td style = \"text-align: right;\">141</td><td style = \"text-align: left;\">mpfi</td><td style = \"text-align: left;\">3.78</td><td style = \"text-align: left;\">3.15</td><td style = \"text-align: right;\">8.7</td><td style = \"text-align: left;\">160</td><td style = \"text-align: left;\">5300</td><td style = \"text-align: right;\">19</td><td style = \"text-align: right;\">25</td><td style = \"text-align: left;\">19045</td></tr><tr><td class = \"rowNumber\" style = \"font-weight: bold; text-align: right;\">203</td><td style = \"text-align: right;\">-1</td><td style = \"text-align: left;\">95</td><td style = \"text-align: left;\">volvo</td><td style = \"text-align: left;\">gas</td><td style = \"text-align: left;\">std</td><td style = \"text-align: left;\">four</td><td style = \"text-align: left;\">sedan</td><td style = \"text-align: left;\">rwd</td><td style = \"text-align: left;\">front</td><td style = \"text-align: right;\">109.1</td><td style = \"text-align: right;\">188.8</td><td style = \"text-align: right;\">68.9</td><td style = \"text-align: right;\">55.5</td><td style = \"text-align: right;\">3012</td><td style = \"text-align: left;\">ohcv</td><td style = \"text-align: left;\">six</td><td style = \"text-align: right;\">173</td><td style = \"text-align: left;\">mpfi</td><td style = \"text-align: left;\">3.58</td><td style = \"text-align: left;\">2.87</td><td style = \"text-align: right;\">8.8</td><td style = \"text-align: left;\">134</td><td style = \"text-align: left;\">5500</td><td style = \"text-align: right;\">18</td><td style = \"text-align: right;\">23</td><td style = \"text-align: left;\">21485</td></tr><tr><td class = \"rowNumber\" style = \"font-weight: bold; text-align: right;\">204</td><td style = \"text-align: right;\">-1</td><td style = \"text-align: left;\">95</td><td style = \"text-align: left;\">volvo</td><td style = \"text-align: left;\">diesel</td><td style = \"text-align: left;\">turbo</td><td style = \"text-align: left;\">four</td><td style = \"text-align: left;\">sedan</td><td style = \"text-align: left;\">rwd</td><td style = \"text-align: left;\">front</td><td style = \"text-align: right;\">109.1</td><td style = \"text-align: right;\">188.8</td><td style = \"text-align: right;\">68.9</td><td style = \"text-align: right;\">55.5</td><td style = \"text-align: right;\">3217</td><td style = \"text-align: left;\">ohc</td><td style = \"text-align: left;\">six</td><td style = \"text-align: right;\">145</td><td style = \"text-align: left;\">idi</td><td style = \"text-align: left;\">3.01</td><td style = \"text-align: left;\">3.40</td><td style = \"text-align: right;\">23.0</td><td style = \"text-align: left;\">106</td><td style = \"text-align: left;\">4800</td><td style = \"text-align: right;\">26</td><td style = \"text-align: right;\">27</td><td style = \"text-align: left;\">22470</td></tr><tr><td class = \"rowNumber\" style = \"font-weight: bold; text-align: right;\">205</td><td style = \"text-align: right;\">-1</td><td style = \"text-align: left;\">95</td><td style = \"text-align: left;\">volvo</td><td style = \"text-align: left;\">gas</td><td style = \"text-align: left;\">turbo</td><td style = \"text-align: left;\">four</td><td style = \"text-align: left;\">sedan</td><td style = \"text-align: left;\">rwd</td><td style = \"text-align: left;\">front</td><td style = \"text-align: right;\">109.1</td><td style = \"text-align: right;\">188.8</td><td style = \"text-align: right;\">68.9</td><td style = \"text-align: right;\">55.5</td><td style = \"text-align: right;\">3062</td><td style = \"text-align: left;\">ohc</td><td style = \"text-align: left;\">four</td><td style = \"text-align: right;\">141</td><td style = \"text-align: left;\">mpfi</td><td style = \"text-align: left;\">3.78</td><td style = \"text-align: left;\">3.15</td><td style = \"text-align: right;\">9.5</td><td style = \"text-align: left;\">114</td><td style = \"text-align: left;\">5400</td><td style = \"text-align: right;\">19</td><td style = \"text-align: right;\">25</td><td style = \"text-align: left;\">22625</td></tr></tbody></table></div>"
      ],
      "text/latex": [
       "\\begin{tabular}{r|ccccccc}\n",
       "\t& symboling & normalized-losses & make & fuel-type & aspiration & num-of-doors & \\\\\n",
       "\t\\hline\n",
       "\t& Int64 & String3? & String15 & String7 & String7 & String7? & \\\\\n",
       "\t\\hline\n",
       "\t1 & 3 & \\emph{missing} & alfa-romero & gas & std & two & $\\dots$ \\\\\n",
       "\t2 & 3 & \\emph{missing} & alfa-romero & gas & std & two & $\\dots$ \\\\\n",
       "\t3 & 1 & \\emph{missing} & alfa-romero & gas & std & two & $\\dots$ \\\\\n",
       "\t4 & 2 & 164 & audi & gas & std & four & $\\dots$ \\\\\n",
       "\t5 & 2 & 164 & audi & gas & std & four & $\\dots$ \\\\\n",
       "\t6 & 2 & \\emph{missing} & audi & gas & std & two & $\\dots$ \\\\\n",
       "\t7 & 1 & 158 & audi & gas & std & four & $\\dots$ \\\\\n",
       "\t8 & 1 & \\emph{missing} & audi & gas & std & four & $\\dots$ \\\\\n",
       "\t9 & 1 & 158 & audi & gas & turbo & four & $\\dots$ \\\\\n",
       "\t10 & 0 & \\emph{missing} & audi & gas & turbo & two & $\\dots$ \\\\\n",
       "\t11 & 2 & 192 & bmw & gas & std & two & $\\dots$ \\\\\n",
       "\t12 & 0 & 192 & bmw & gas & std & four & $\\dots$ \\\\\n",
       "\t13 & 0 & 188 & bmw & gas & std & two & $\\dots$ \\\\\n",
       "\t14 & 0 & 188 & bmw & gas & std & four & $\\dots$ \\\\\n",
       "\t15 & 1 & \\emph{missing} & bmw & gas & std & four & $\\dots$ \\\\\n",
       "\t16 & 0 & \\emph{missing} & bmw & gas & std & four & $\\dots$ \\\\\n",
       "\t17 & 0 & \\emph{missing} & bmw & gas & std & two & $\\dots$ \\\\\n",
       "\t18 & 0 & \\emph{missing} & bmw & gas & std & four & $\\dots$ \\\\\n",
       "\t19 & 2 & 121 & chevrolet & gas & std & two & $\\dots$ \\\\\n",
       "\t20 & 1 & 98 & chevrolet & gas & std & two & $\\dots$ \\\\\n",
       "\t21 & 0 & 81 & chevrolet & gas & std & four & $\\dots$ \\\\\n",
       "\t22 & 1 & 118 & dodge & gas & std & two & $\\dots$ \\\\\n",
       "\t23 & 1 & 118 & dodge & gas & std & two & $\\dots$ \\\\\n",
       "\t24 & 1 & 118 & dodge & gas & turbo & two & $\\dots$ \\\\\n",
       "\t25 & 1 & 148 & dodge & gas & std & four & $\\dots$ \\\\\n",
       "\t26 & 1 & 148 & dodge & gas & std & four & $\\dots$ \\\\\n",
       "\t27 & 1 & 148 & dodge & gas & std & four & $\\dots$ \\\\\n",
       "\t28 & 1 & 148 & dodge & gas & turbo & \\emph{missing} & $\\dots$ \\\\\n",
       "\t29 & -1 & 110 & dodge & gas & std & four & $\\dots$ \\\\\n",
       "\t30 & 3 & 145 & dodge & gas & turbo & two & $\\dots$ \\\\\n",
       "\t$\\dots$ & $\\dots$ & $\\dots$ & $\\dots$ & $\\dots$ & $\\dots$ & $\\dots$ &  \\\\\n",
       "\\end{tabular}\n"
      ],
      "text/plain": [
       "\u001b[1m205×26 DataFrame\u001b[0m\n",
       "\u001b[1m Row \u001b[0m│\u001b[1m symboling \u001b[0m\u001b[1m normalized-losses \u001b[0m\u001b[1m make        \u001b[0m\u001b[1m fuel-type \u001b[0m\u001b[1m aspiration \u001b[0m\u001b[1m num-o\u001b[0m ⋯\n",
       "     │\u001b[90m Int64     \u001b[0m\u001b[90m String3?          \u001b[0m\u001b[90m String15    \u001b[0m\u001b[90m String7   \u001b[0m\u001b[90m String7    \u001b[0m\u001b[90m Strin\u001b[0m ⋯\n",
       "─────┼──────────────────────────────────────────────────────────────────────────\n",
       "   1 │         3 \u001b[90m missing           \u001b[0m alfa-romero  gas        std         two   ⋯\n",
       "   2 │         3 \u001b[90m missing           \u001b[0m alfa-romero  gas        std         two\n",
       "   3 │         1 \u001b[90m missing           \u001b[0m alfa-romero  gas        std         two\n",
       "   4 │         2  164                audi         gas        std         four\n",
       "   5 │         2  164                audi         gas        std         four  ⋯\n",
       "   6 │         2 \u001b[90m missing           \u001b[0m audi         gas        std         two\n",
       "   7 │         1  158                audi         gas        std         four\n",
       "   8 │         1 \u001b[90m missing           \u001b[0m audi         gas        std         four\n",
       "   9 │         1  158                audi         gas        turbo       four  ⋯\n",
       "  10 │         0 \u001b[90m missing           \u001b[0m audi         gas        turbo       two\n",
       "  11 │         2  192                bmw          gas        std         two\n",
       "  ⋮  │     ⋮              ⋮               ⋮           ⋮          ⋮             ⋱\n",
       " 196 │        -1  74                 volvo        gas        std         four\n",
       " 197 │        -2  103                volvo        gas        std         four  ⋯\n",
       " 198 │        -1  74                 volvo        gas        std         four\n",
       " 199 │        -2  103                volvo        gas        turbo       four\n",
       " 200 │        -1  74                 volvo        gas        turbo       four\n",
       " 201 │        -1  95                 volvo        gas        std         four  ⋯\n",
       " 202 │        -1  95                 volvo        gas        turbo       four\n",
       " 203 │        -1  95                 volvo        gas        std         four\n",
       " 204 │        -1  95                 volvo        diesel     turbo       four\n",
       " 205 │        -1  95                 volvo        gas        turbo       four  ⋯\n",
       "\u001b[36m                                                 21 columns and 184 rows omitted\u001b[0m"
      ]
     },
     "execution_count": 7,
     "metadata": {},
     "output_type": "execute_result"
    }
   ],
   "source": [
    "# Broadcast operations\n",
    "df_missing = ifelse.(df[!, :] .== \"?\", missing, df[!, :])\n"
   ]
  },
  {
   "cell_type": "code",
   "execution_count": 8,
   "id": "d8570685",
   "metadata": {},
   "outputs": [
    {
     "data": {
      "text/html": [
       "<div><div style = \"float: left;\"><span>26×7 DataFrame</span></div><div style = \"clear: both;\"></div></div><div class = \"data-frame\" style = \"overflow-x: scroll;\"><table class = \"data-frame\" style = \"margin-bottom: 6px;\"><thead><tr class = \"header\"><th class = \"rowNumber\" style = \"font-weight: bold; text-align: right;\">Row</th><th style = \"text-align: left;\">variable</th><th style = \"text-align: left;\">mean</th><th style = \"text-align: left;\">min</th><th style = \"text-align: left;\">median</th><th style = \"text-align: left;\">max</th><th style = \"text-align: left;\">nmissing</th><th style = \"text-align: left;\">eltype</th></tr><tr class = \"subheader headerLastRow\"><th class = \"rowNumber\" style = \"font-weight: bold; text-align: right;\"></th><th title = \"Symbol\" style = \"text-align: left;\">Symbol</th><th title = \"Union{Nothing, Float64}\" style = \"text-align: left;\">Union…</th><th title = \"Any\" style = \"text-align: left;\">Any</th><th title = \"Union{Nothing, Float64}\" style = \"text-align: left;\">Union…</th><th title = \"Any\" style = \"text-align: left;\">Any</th><th title = \"Int64\" style = \"text-align: left;\">Int64</th><th title = \"Type\" style = \"text-align: left;\">Type</th></tr></thead><tbody><tr><td class = \"rowNumber\" style = \"font-weight: bold; text-align: right;\">1</td><td style = \"text-align: left;\">symboling</td><td style = \"text-align: left;\">0.834146</td><td style = \"text-align: left;\">-2</td><td style = \"text-align: left;\">1.0</td><td style = \"text-align: left;\">3</td><td style = \"text-align: right;\">0</td><td style = \"text-align: left;\">Int64</td></tr><tr><td class = \"rowNumber\" style = \"font-weight: bold; text-align: right;\">2</td><td style = \"text-align: left;\">normalized-losses</td><td style = \"font-style: italic; text-align: left;\"></td><td style = \"text-align: left;\">101</td><td style = \"font-style: italic; text-align: left;\"></td><td style = \"text-align: left;\">98</td><td style = \"text-align: right;\">41</td><td style = \"text-align: left;\">Union{Missing, String3}</td></tr><tr><td class = \"rowNumber\" style = \"font-weight: bold; text-align: right;\">3</td><td style = \"text-align: left;\">make</td><td style = \"font-style: italic; text-align: left;\"></td><td style = \"text-align: left;\">alfa-romero</td><td style = \"font-style: italic; text-align: left;\"></td><td style = \"text-align: left;\">volvo</td><td style = \"text-align: right;\">0</td><td style = \"text-align: left;\">String15</td></tr><tr><td class = \"rowNumber\" style = \"font-weight: bold; text-align: right;\">4</td><td style = \"text-align: left;\">fuel-type</td><td style = \"font-style: italic; text-align: left;\"></td><td style = \"text-align: left;\">diesel</td><td style = \"font-style: italic; text-align: left;\"></td><td style = \"text-align: left;\">gas</td><td style = \"text-align: right;\">0</td><td style = \"text-align: left;\">String7</td></tr><tr><td class = \"rowNumber\" style = \"font-weight: bold; text-align: right;\">5</td><td style = \"text-align: left;\">aspiration</td><td style = \"font-style: italic; text-align: left;\"></td><td style = \"text-align: left;\">std</td><td style = \"font-style: italic; text-align: left;\"></td><td style = \"text-align: left;\">turbo</td><td style = \"text-align: right;\">0</td><td style = \"text-align: left;\">String7</td></tr><tr><td class = \"rowNumber\" style = \"font-weight: bold; text-align: right;\">6</td><td style = \"text-align: left;\">num-of-doors</td><td style = \"font-style: italic; text-align: left;\"></td><td style = \"text-align: left;\">four</td><td style = \"font-style: italic; text-align: left;\"></td><td style = \"text-align: left;\">two</td><td style = \"text-align: right;\">2</td><td style = \"text-align: left;\">Union{Missing, String7}</td></tr><tr><td class = \"rowNumber\" style = \"font-weight: bold; text-align: right;\">7</td><td style = \"text-align: left;\">body-style</td><td style = \"font-style: italic; text-align: left;\"></td><td style = \"text-align: left;\">convertible</td><td style = \"font-style: italic; text-align: left;\"></td><td style = \"text-align: left;\">wagon</td><td style = \"text-align: right;\">0</td><td style = \"text-align: left;\">String15</td></tr><tr><td class = \"rowNumber\" style = \"font-weight: bold; text-align: right;\">8</td><td style = \"text-align: left;\">drive-wheels</td><td style = \"font-style: italic; text-align: left;\"></td><td style = \"text-align: left;\">4wd</td><td style = \"font-style: italic; text-align: left;\"></td><td style = \"text-align: left;\">rwd</td><td style = \"text-align: right;\">0</td><td style = \"text-align: left;\">String3</td></tr><tr><td class = \"rowNumber\" style = \"font-weight: bold; text-align: right;\">9</td><td style = \"text-align: left;\">engine-location</td><td style = \"font-style: italic; text-align: left;\"></td><td style = \"text-align: left;\">front</td><td style = \"font-style: italic; text-align: left;\"></td><td style = \"text-align: left;\">rear</td><td style = \"text-align: right;\">0</td><td style = \"text-align: left;\">String7</td></tr><tr><td class = \"rowNumber\" style = \"font-weight: bold; text-align: right;\">10</td><td style = \"text-align: left;\">wheel-base</td><td style = \"text-align: left;\">98.7566</td><td style = \"text-align: left;\">86.6</td><td style = \"text-align: left;\">97.0</td><td style = \"text-align: left;\">120.9</td><td style = \"text-align: right;\">0</td><td style = \"text-align: left;\">Float64</td></tr><tr><td class = \"rowNumber\" style = \"font-weight: bold; text-align: right;\">11</td><td style = \"text-align: left;\">length</td><td style = \"text-align: left;\">174.049</td><td style = \"text-align: left;\">141.1</td><td style = \"text-align: left;\">173.2</td><td style = \"text-align: left;\">208.1</td><td style = \"text-align: right;\">0</td><td style = \"text-align: left;\">Float64</td></tr><tr><td class = \"rowNumber\" style = \"font-weight: bold; text-align: right;\">12</td><td style = \"text-align: left;\">width</td><td style = \"text-align: left;\">65.9078</td><td style = \"text-align: left;\">60.3</td><td style = \"text-align: left;\">65.5</td><td style = \"text-align: left;\">72.3</td><td style = \"text-align: right;\">0</td><td style = \"text-align: left;\">Float64</td></tr><tr><td class = \"rowNumber\" style = \"font-weight: bold; text-align: right;\">13</td><td style = \"text-align: left;\">height</td><td style = \"text-align: left;\">53.7249</td><td style = \"text-align: left;\">47.8</td><td style = \"text-align: left;\">54.1</td><td style = \"text-align: left;\">59.8</td><td style = \"text-align: right;\">0</td><td style = \"text-align: left;\">Float64</td></tr><tr><td class = \"rowNumber\" style = \"font-weight: bold; text-align: right;\">14</td><td style = \"text-align: left;\">curb-weight</td><td style = \"text-align: left;\">2555.57</td><td style = \"text-align: left;\">1488</td><td style = \"text-align: left;\">2414.0</td><td style = \"text-align: left;\">4066</td><td style = \"text-align: right;\">0</td><td style = \"text-align: left;\">Int64</td></tr><tr><td class = \"rowNumber\" style = \"font-weight: bold; text-align: right;\">15</td><td style = \"text-align: left;\">engine-type</td><td style = \"font-style: italic; text-align: left;\"></td><td style = \"text-align: left;\">dohc</td><td style = \"font-style: italic; text-align: left;\"></td><td style = \"text-align: left;\">rotor</td><td style = \"text-align: right;\">0</td><td style = \"text-align: left;\">String7</td></tr><tr><td class = \"rowNumber\" style = \"font-weight: bold; text-align: right;\">16</td><td style = \"text-align: left;\">num-of-cylinders</td><td style = \"font-style: italic; text-align: left;\"></td><td style = \"text-align: left;\">eight</td><td style = \"font-style: italic; text-align: left;\"></td><td style = \"text-align: left;\">two</td><td style = \"text-align: right;\">0</td><td style = \"text-align: left;\">String7</td></tr><tr><td class = \"rowNumber\" style = \"font-weight: bold; text-align: right;\">17</td><td style = \"text-align: left;\">engine-size</td><td style = \"text-align: left;\">126.907</td><td style = \"text-align: left;\">61</td><td style = \"text-align: left;\">120.0</td><td style = \"text-align: left;\">326</td><td style = \"text-align: right;\">0</td><td style = \"text-align: left;\">Int64</td></tr><tr><td class = \"rowNumber\" style = \"font-weight: bold; text-align: right;\">18</td><td style = \"text-align: left;\">fuel-system</td><td style = \"font-style: italic; text-align: left;\"></td><td style = \"text-align: left;\">1bbl</td><td style = \"font-style: italic; text-align: left;\"></td><td style = \"text-align: left;\">spfi</td><td style = \"text-align: right;\">0</td><td style = \"text-align: left;\">String7</td></tr><tr><td class = \"rowNumber\" style = \"font-weight: bold; text-align: right;\">19</td><td style = \"text-align: left;\">bore</td><td style = \"font-style: italic; text-align: left;\"></td><td style = \"text-align: left;\">2.54</td><td style = \"font-style: italic; text-align: left;\"></td><td style = \"text-align: left;\">3.94</td><td style = \"text-align: right;\">4</td><td style = \"text-align: left;\">Union{Missing, String7}</td></tr><tr><td class = \"rowNumber\" style = \"font-weight: bold; text-align: right;\">20</td><td style = \"text-align: left;\">stroke</td><td style = \"font-style: italic; text-align: left;\"></td><td style = \"text-align: left;\">2.07</td><td style = \"font-style: italic; text-align: left;\"></td><td style = \"text-align: left;\">4.17</td><td style = \"text-align: right;\">4</td><td style = \"text-align: left;\">Union{Missing, String7}</td></tr><tr><td class = \"rowNumber\" style = \"font-weight: bold; text-align: right;\">21</td><td style = \"text-align: left;\">compression-ratio</td><td style = \"text-align: left;\">10.1425</td><td style = \"text-align: left;\">7.0</td><td style = \"text-align: left;\">9.0</td><td style = \"text-align: left;\">23.0</td><td style = \"text-align: right;\">0</td><td style = \"text-align: left;\">Float64</td></tr><tr><td class = \"rowNumber\" style = \"font-weight: bold; text-align: right;\">22</td><td style = \"text-align: left;\">horsepower</td><td style = \"font-style: italic; text-align: left;\"></td><td style = \"text-align: left;\">100</td><td style = \"font-style: italic; text-align: left;\"></td><td style = \"text-align: left;\">97</td><td style = \"text-align: right;\">2</td><td style = \"text-align: left;\">Union{Missing, String3}</td></tr><tr><td class = \"rowNumber\" style = \"font-weight: bold; text-align: right;\">23</td><td style = \"text-align: left;\">peak-rpm</td><td style = \"font-style: italic; text-align: left;\"></td><td style = \"text-align: left;\">4150</td><td style = \"font-style: italic; text-align: left;\"></td><td style = \"text-align: left;\">6600</td><td style = \"text-align: right;\">2</td><td style = \"text-align: left;\">Union{Missing, String7}</td></tr><tr><td class = \"rowNumber\" style = \"font-weight: bold; text-align: right;\">24</td><td style = \"text-align: left;\">city-mpg</td><td style = \"text-align: left;\">25.2195</td><td style = \"text-align: left;\">13</td><td style = \"text-align: left;\">24.0</td><td style = \"text-align: left;\">49</td><td style = \"text-align: right;\">0</td><td style = \"text-align: left;\">Int64</td></tr><tr><td class = \"rowNumber\" style = \"font-weight: bold; text-align: right;\">25</td><td style = \"text-align: left;\">highway-mpg</td><td style = \"text-align: left;\">30.7512</td><td style = \"text-align: left;\">16</td><td style = \"text-align: left;\">30.0</td><td style = \"text-align: left;\">54</td><td style = \"text-align: right;\">0</td><td style = \"text-align: left;\">Int64</td></tr><tr><td class = \"rowNumber\" style = \"font-weight: bold; text-align: right;\">26</td><td style = \"text-align: left;\">price</td><td style = \"font-style: italic; text-align: left;\"></td><td style = \"text-align: left;\">10198</td><td style = \"font-style: italic; text-align: left;\"></td><td style = \"text-align: left;\">9995</td><td style = \"text-align: right;\">4</td><td style = \"text-align: left;\">Union{Missing, String7}</td></tr></tbody></table></div>"
      ],
      "text/latex": [
       "\\begin{tabular}{r|ccccccc}\n",
       "\t& variable & mean & min & median & max & nmissing & eltype\\\\\n",
       "\t\\hline\n",
       "\t& Symbol & Union… & Any & Union… & Any & Int64 & Type\\\\\n",
       "\t\\hline\n",
       "\t1 & symboling & 0.834146 & -2 & 1.0 & 3 & 0 & Int64 \\\\\n",
       "\t2 & normalized-losses &  & 101 &  & 98 & 41 & Union\\{Missing, String3\\} \\\\\n",
       "\t3 & make &  & alfa-romero &  & volvo & 0 & String15 \\\\\n",
       "\t4 & fuel-type &  & diesel &  & gas & 0 & String7 \\\\\n",
       "\t5 & aspiration &  & std &  & turbo & 0 & String7 \\\\\n",
       "\t6 & num-of-doors &  & four &  & two & 2 & Union\\{Missing, String7\\} \\\\\n",
       "\t7 & body-style &  & convertible &  & wagon & 0 & String15 \\\\\n",
       "\t8 & drive-wheels &  & 4wd &  & rwd & 0 & String3 \\\\\n",
       "\t9 & engine-location &  & front &  & rear & 0 & String7 \\\\\n",
       "\t10 & wheel-base & 98.7566 & 86.6 & 97.0 & 120.9 & 0 & Float64 \\\\\n",
       "\t11 & length & 174.049 & 141.1 & 173.2 & 208.1 & 0 & Float64 \\\\\n",
       "\t12 & width & 65.9078 & 60.3 & 65.5 & 72.3 & 0 & Float64 \\\\\n",
       "\t13 & height & 53.7249 & 47.8 & 54.1 & 59.8 & 0 & Float64 \\\\\n",
       "\t14 & curb-weight & 2555.57 & 1488 & 2414.0 & 4066 & 0 & Int64 \\\\\n",
       "\t15 & engine-type &  & dohc &  & rotor & 0 & String7 \\\\\n",
       "\t16 & num-of-cylinders &  & eight &  & two & 0 & String7 \\\\\n",
       "\t17 & engine-size & 126.907 & 61 & 120.0 & 326 & 0 & Int64 \\\\\n",
       "\t18 & fuel-system &  & 1bbl &  & spfi & 0 & String7 \\\\\n",
       "\t19 & bore &  & 2.54 &  & 3.94 & 4 & Union\\{Missing, String7\\} \\\\\n",
       "\t20 & stroke &  & 2.07 &  & 4.17 & 4 & Union\\{Missing, String7\\} \\\\\n",
       "\t21 & compression-ratio & 10.1425 & 7.0 & 9.0 & 23.0 & 0 & Float64 \\\\\n",
       "\t22 & horsepower &  & 100 &  & 97 & 2 & Union\\{Missing, String3\\} \\\\\n",
       "\t23 & peak-rpm &  & 4150 &  & 6600 & 2 & Union\\{Missing, String7\\} \\\\\n",
       "\t24 & city-mpg & 25.2195 & 13 & 24.0 & 49 & 0 & Int64 \\\\\n",
       "\t25 & highway-mpg & 30.7512 & 16 & 30.0 & 54 & 0 & Int64 \\\\\n",
       "\t26 & price &  & 10198 &  & 9995 & 4 & Union\\{Missing, String7\\} \\\\\n",
       "\\end{tabular}\n"
      ],
      "text/plain": [
       "\u001b[1m26×7 DataFrame\u001b[0m\n",
       "\u001b[1m Row \u001b[0m│\u001b[1m variable          \u001b[0m\u001b[1m mean     \u001b[0m\u001b[1m min         \u001b[0m\u001b[1m median \u001b[0m\u001b[1m max   \u001b[0m\u001b[1m nmissing \u001b[0m\u001b[1m elty\u001b[0m ⋯\n",
       "     │\u001b[90m Symbol            \u001b[0m\u001b[90m Union…   \u001b[0m\u001b[90m Any         \u001b[0m\u001b[90m Union… \u001b[0m\u001b[90m Any   \u001b[0m\u001b[90m Int64    \u001b[0m\u001b[90m Type\u001b[0m ⋯\n",
       "─────┼──────────────────────────────────────────────────────────────────────────\n",
       "   1 │ symboling          0.834146  -2           1.0     3             0  Int6 ⋯\n",
       "   2 │ normalized-losses \u001b[90m          \u001b[0m 101         \u001b[90m        \u001b[0m 98           41  Unio\n",
       "   3 │ make              \u001b[90m          \u001b[0m alfa-romero \u001b[90m        \u001b[0m volvo         0  Stri\n",
       "   4 │ fuel-type         \u001b[90m          \u001b[0m diesel      \u001b[90m        \u001b[0m gas           0  Stri\n",
       "   5 │ aspiration        \u001b[90m          \u001b[0m std         \u001b[90m        \u001b[0m turbo         0  Stri ⋯\n",
       "   6 │ num-of-doors      \u001b[90m          \u001b[0m four        \u001b[90m        \u001b[0m two           2  Unio\n",
       "   7 │ body-style        \u001b[90m          \u001b[0m convertible \u001b[90m        \u001b[0m wagon         0  Stri\n",
       "   8 │ drive-wheels      \u001b[90m          \u001b[0m 4wd         \u001b[90m        \u001b[0m rwd           0  Stri\n",
       "   9 │ engine-location   \u001b[90m          \u001b[0m front       \u001b[90m        \u001b[0m rear          0  Stri ⋯\n",
       "  10 │ wheel-base         98.7566   86.6         97.0    120.9         0  Floa\n",
       "  11 │ length             174.049   141.1        173.2   208.1         0  Floa\n",
       "  ⋮  │         ⋮             ⋮           ⋮         ⋮       ⋮       ⋮           ⋱\n",
       "  17 │ engine-size        126.907   61           120.0   326           0  Int6\n",
       "  18 │ fuel-system       \u001b[90m          \u001b[0m 1bbl        \u001b[90m        \u001b[0m spfi          0  Stri ⋯\n",
       "  19 │ bore              \u001b[90m          \u001b[0m 2.54        \u001b[90m        \u001b[0m 3.94          4  Unio\n",
       "  20 │ stroke            \u001b[90m          \u001b[0m 2.07        \u001b[90m        \u001b[0m 4.17          4  Unio\n",
       "  21 │ compression-ratio  10.1425   7.0          9.0     23.0          0  Floa\n",
       "  22 │ horsepower        \u001b[90m          \u001b[0m 100         \u001b[90m        \u001b[0m 97            2  Unio ⋯\n",
       "  23 │ peak-rpm          \u001b[90m          \u001b[0m 4150        \u001b[90m        \u001b[0m 6600          2  Unio\n",
       "  24 │ city-mpg           25.2195   13           24.0    49            0  Int6\n",
       "  25 │ highway-mpg        30.7512   16           30.0    54            0  Int6\n",
       "  26 │ price             \u001b[90m          \u001b[0m 10198       \u001b[90m        \u001b[0m 9995          4  Unio ⋯\n",
       "\u001b[36m                                                     1 column and 5 rows omitted\u001b[0m"
      ]
     },
     "execution_count": 8,
     "metadata": {},
     "output_type": "execute_result"
    }
   ],
   "source": [
    "describe(df_missing)"
   ]
  },
  {
   "cell_type": "code",
   "execution_count": 13,
   "id": "10975734",
   "metadata": {},
   "outputs": [
    {
     "data": {
      "text/html": [
       "<div><div style = \"float: left;\"><span>26×7 DataFrame</span></div><div style = \"clear: both;\"></div></div><div class = \"data-frame\" style = \"overflow-x: scroll;\"><table class = \"data-frame\" style = \"margin-bottom: 6px;\"><thead><tr class = \"header\"><th class = \"rowNumber\" style = \"font-weight: bold; text-align: right;\">Row</th><th style = \"text-align: left;\">variable</th><th style = \"text-align: left;\">mean</th><th style = \"text-align: left;\">min</th><th style = \"text-align: left;\">median</th><th style = \"text-align: left;\">max</th><th style = \"text-align: left;\">nmissing</th><th style = \"text-align: left;\">eltype</th></tr><tr class = \"subheader headerLastRow\"><th class = \"rowNumber\" style = \"font-weight: bold; text-align: right;\"></th><th title = \"Symbol\" style = \"text-align: left;\">Symbol</th><th title = \"Union{Nothing, Float64}\" style = \"text-align: left;\">Union…</th><th title = \"Any\" style = \"text-align: left;\">Any</th><th title = \"Union{Nothing, Float64}\" style = \"text-align: left;\">Union…</th><th title = \"Any\" style = \"text-align: left;\">Any</th><th title = \"Int64\" style = \"text-align: left;\">Int64</th><th title = \"DataType\" style = \"text-align: left;\">DataType</th></tr></thead><tbody><tr><td class = \"rowNumber\" style = \"font-weight: bold; text-align: right;\">1</td><td style = \"text-align: left;\">symboling</td><td style = \"text-align: left;\">0.735849</td><td style = \"text-align: left;\">-2</td><td style = \"text-align: left;\">1.0</td><td style = \"text-align: left;\">3</td><td style = \"text-align: right;\">0</td><td style = \"text-align: left;\">Int64</td></tr><tr><td class = \"rowNumber\" style = \"font-weight: bold; text-align: right;\">2</td><td style = \"text-align: left;\">normalized-losses</td><td style = \"font-style: italic; text-align: left;\"></td><td style = \"text-align: left;\">101</td><td style = \"font-style: italic; text-align: left;\"></td><td style = \"text-align: left;\">98</td><td style = \"text-align: right;\">0</td><td style = \"text-align: left;\">String3</td></tr><tr><td class = \"rowNumber\" style = \"font-weight: bold; text-align: right;\">3</td><td style = \"text-align: left;\">make</td><td style = \"font-style: italic; text-align: left;\"></td><td style = \"text-align: left;\">audi</td><td style = \"font-style: italic; text-align: left;\"></td><td style = \"text-align: left;\">volvo</td><td style = \"text-align: right;\">0</td><td style = \"text-align: left;\">String15</td></tr><tr><td class = \"rowNumber\" style = \"font-weight: bold; text-align: right;\">4</td><td style = \"text-align: left;\">fuel-type</td><td style = \"font-style: italic; text-align: left;\"></td><td style = \"text-align: left;\">diesel</td><td style = \"font-style: italic; text-align: left;\"></td><td style = \"text-align: left;\">gas</td><td style = \"text-align: right;\">0</td><td style = \"text-align: left;\">String7</td></tr><tr><td class = \"rowNumber\" style = \"font-weight: bold; text-align: right;\">5</td><td style = \"text-align: left;\">aspiration</td><td style = \"font-style: italic; text-align: left;\"></td><td style = \"text-align: left;\">std</td><td style = \"font-style: italic; text-align: left;\"></td><td style = \"text-align: left;\">turbo</td><td style = \"text-align: right;\">0</td><td style = \"text-align: left;\">String7</td></tr><tr><td class = \"rowNumber\" style = \"font-weight: bold; text-align: right;\">6</td><td style = \"text-align: left;\">num-of-doors</td><td style = \"font-style: italic; text-align: left;\"></td><td style = \"text-align: left;\">four</td><td style = \"font-style: italic; text-align: left;\"></td><td style = \"text-align: left;\">two</td><td style = \"text-align: right;\">0</td><td style = \"text-align: left;\">String7</td></tr><tr><td class = \"rowNumber\" style = \"font-weight: bold; text-align: right;\">7</td><td style = \"text-align: left;\">body-style</td><td style = \"font-style: italic; text-align: left;\"></td><td style = \"text-align: left;\">convertible</td><td style = \"font-style: italic; text-align: left;\"></td><td style = \"text-align: left;\">wagon</td><td style = \"text-align: right;\">0</td><td style = \"text-align: left;\">String15</td></tr><tr><td class = \"rowNumber\" style = \"font-weight: bold; text-align: right;\">8</td><td style = \"text-align: left;\">drive-wheels</td><td style = \"font-style: italic; text-align: left;\"></td><td style = \"text-align: left;\">4wd</td><td style = \"font-style: italic; text-align: left;\"></td><td style = \"text-align: left;\">rwd</td><td style = \"text-align: right;\">0</td><td style = \"text-align: left;\">String3</td></tr><tr><td class = \"rowNumber\" style = \"font-weight: bold; text-align: right;\">9</td><td style = \"text-align: left;\">engine-location</td><td style = \"font-style: italic; text-align: left;\"></td><td style = \"text-align: left;\">front</td><td style = \"font-style: italic; text-align: left;\"></td><td style = \"text-align: left;\">front</td><td style = \"text-align: right;\">0</td><td style = \"text-align: left;\">String7</td></tr><tr><td class = \"rowNumber\" style = \"font-weight: bold; text-align: right;\">10</td><td style = \"text-align: left;\">wheel-base</td><td style = \"text-align: left;\">98.2642</td><td style = \"text-align: left;\">86.6</td><td style = \"text-align: left;\">96.9</td><td style = \"text-align: left;\">115.6</td><td style = \"text-align: right;\">0</td><td style = \"text-align: left;\">Float64</td></tr><tr><td class = \"rowNumber\" style = \"font-weight: bold; text-align: right;\">11</td><td style = \"text-align: left;\">length</td><td style = \"text-align: left;\">172.414</td><td style = \"text-align: left;\">141.1</td><td style = \"text-align: left;\">172.4</td><td style = \"text-align: left;\">202.6</td><td style = \"text-align: right;\">0</td><td style = \"text-align: left;\">Float64</td></tr><tr><td class = \"rowNumber\" style = \"font-weight: bold; text-align: right;\">12</td><td style = \"text-align: left;\">width</td><td style = \"text-align: left;\">65.6075</td><td style = \"text-align: left;\">60.3</td><td style = \"text-align: left;\">65.4</td><td style = \"text-align: left;\">71.7</td><td style = \"text-align: right;\">0</td><td style = \"text-align: left;\">Float64</td></tr><tr><td class = \"rowNumber\" style = \"font-weight: bold; text-align: right;\">13</td><td style = \"text-align: left;\">height</td><td style = \"text-align: left;\">53.8994</td><td style = \"text-align: left;\">49.4</td><td style = \"text-align: left;\">54.1</td><td style = \"text-align: left;\">59.8</td><td style = \"text-align: right;\">0</td><td style = \"text-align: left;\">Float64</td></tr><tr><td class = \"rowNumber\" style = \"font-weight: bold; text-align: right;\">14</td><td style = \"text-align: left;\">curb-weight</td><td style = \"text-align: left;\">2461.14</td><td style = \"text-align: left;\">1488</td><td style = \"text-align: left;\">2340.0</td><td style = \"text-align: left;\">4066</td><td style = \"text-align: right;\">0</td><td style = \"text-align: left;\">Int64</td></tr><tr><td class = \"rowNumber\" style = \"font-weight: bold; text-align: right;\">15</td><td style = \"text-align: left;\">engine-type</td><td style = \"font-style: italic; text-align: left;\"></td><td style = \"text-align: left;\">dohc</td><td style = \"font-style: italic; text-align: left;\"></td><td style = \"text-align: left;\">ohcv</td><td style = \"text-align: right;\">0</td><td style = \"text-align: left;\">String7</td></tr><tr><td class = \"rowNumber\" style = \"font-weight: bold; text-align: right;\">16</td><td style = \"text-align: left;\">num-of-cylinders</td><td style = \"font-style: italic; text-align: left;\"></td><td style = \"text-align: left;\">eight</td><td style = \"font-style: italic; text-align: left;\"></td><td style = \"text-align: left;\">three</td><td style = \"text-align: right;\">0</td><td style = \"text-align: left;\">String7</td></tr><tr><td class = \"rowNumber\" style = \"font-weight: bold; text-align: right;\">17</td><td style = \"text-align: left;\">engine-size</td><td style = \"text-align: left;\">119.226</td><td style = \"text-align: left;\">61</td><td style = \"text-align: left;\">110.0</td><td style = \"text-align: left;\">258</td><td style = \"text-align: right;\">0</td><td style = \"text-align: left;\">Int64</td></tr><tr><td class = \"rowNumber\" style = \"font-weight: bold; text-align: right;\">18</td><td style = \"text-align: left;\">fuel-system</td><td style = \"font-style: italic; text-align: left;\"></td><td style = \"text-align: left;\">1bbl</td><td style = \"font-style: italic; text-align: left;\"></td><td style = \"text-align: left;\">spdi</td><td style = \"text-align: right;\">0</td><td style = \"text-align: left;\">String7</td></tr><tr><td class = \"rowNumber\" style = \"font-weight: bold; text-align: right;\">19</td><td style = \"text-align: left;\">bore</td><td style = \"font-style: italic; text-align: left;\"></td><td style = \"text-align: left;\">2.54</td><td style = \"font-style: italic; text-align: left;\"></td><td style = \"text-align: left;\">3.94</td><td style = \"text-align: right;\">0</td><td style = \"text-align: left;\">String7</td></tr><tr><td class = \"rowNumber\" style = \"font-weight: bold; text-align: right;\">20</td><td style = \"text-align: left;\">stroke</td><td style = \"font-style: italic; text-align: left;\"></td><td style = \"text-align: left;\">2.07</td><td style = \"font-style: italic; text-align: left;\"></td><td style = \"text-align: left;\">4.17</td><td style = \"text-align: right;\">0</td><td style = \"text-align: left;\">String7</td></tr><tr><td class = \"rowNumber\" style = \"font-weight: bold; text-align: right;\">21</td><td style = \"text-align: left;\">compression-ratio</td><td style = \"text-align: left;\">10.1611</td><td style = \"text-align: left;\">7.0</td><td style = \"text-align: left;\">9.0</td><td style = \"text-align: left;\">23.0</td><td style = \"text-align: right;\">0</td><td style = \"text-align: left;\">Float64</td></tr><tr><td class = \"rowNumber\" style = \"font-weight: bold; text-align: right;\">22</td><td style = \"text-align: left;\">horsepower</td><td style = \"font-style: italic; text-align: left;\"></td><td style = \"text-align: left;\">100</td><td style = \"font-style: italic; text-align: left;\"></td><td style = \"text-align: left;\">97</td><td style = \"text-align: right;\">0</td><td style = \"text-align: left;\">String3</td></tr><tr><td class = \"rowNumber\" style = \"font-weight: bold; text-align: right;\">23</td><td style = \"text-align: left;\">peak-rpm</td><td style = \"font-style: italic; text-align: left;\"></td><td style = \"text-align: left;\">4150</td><td style = \"font-style: italic; text-align: left;\"></td><td style = \"text-align: left;\">6600</td><td style = \"text-align: right;\">0</td><td style = \"text-align: left;\">String7</td></tr><tr><td class = \"rowNumber\" style = \"font-weight: bold; text-align: right;\">24</td><td style = \"text-align: left;\">city-mpg</td><td style = \"text-align: left;\">26.522</td><td style = \"text-align: left;\">15</td><td style = \"text-align: left;\">26.0</td><td style = \"text-align: left;\">49</td><td style = \"text-align: right;\">0</td><td style = \"text-align: left;\">Int64</td></tr><tr><td class = \"rowNumber\" style = \"font-weight: bold; text-align: right;\">25</td><td style = \"text-align: left;\">highway-mpg</td><td style = \"text-align: left;\">32.0818</td><td style = \"text-align: left;\">18</td><td style = \"text-align: left;\">32.0</td><td style = \"text-align: left;\">54</td><td style = \"text-align: right;\">0</td><td style = \"text-align: left;\">Int64</td></tr><tr><td class = \"rowNumber\" style = \"font-weight: bold; text-align: right;\">26</td><td style = \"text-align: left;\">price</td><td style = \"font-style: italic; text-align: left;\"></td><td style = \"text-align: left;\">10198</td><td style = \"font-style: italic; text-align: left;\"></td><td style = \"text-align: left;\">9995</td><td style = \"text-align: right;\">0</td><td style = \"text-align: left;\">String7</td></tr></tbody></table></div>"
      ],
      "text/latex": [
       "\\begin{tabular}{r|ccccccc}\n",
       "\t& variable & mean & min & median & max & nmissing & eltype\\\\\n",
       "\t\\hline\n",
       "\t& Symbol & Union… & Any & Union… & Any & Int64 & DataType\\\\\n",
       "\t\\hline\n",
       "\t1 & symboling & 0.735849 & -2 & 1.0 & 3 & 0 & Int64 \\\\\n",
       "\t2 & normalized-losses &  & 101 &  & 98 & 0 & String3 \\\\\n",
       "\t3 & make &  & audi &  & volvo & 0 & String15 \\\\\n",
       "\t4 & fuel-type &  & diesel &  & gas & 0 & String7 \\\\\n",
       "\t5 & aspiration &  & std &  & turbo & 0 & String7 \\\\\n",
       "\t6 & num-of-doors &  & four &  & two & 0 & String7 \\\\\n",
       "\t7 & body-style &  & convertible &  & wagon & 0 & String15 \\\\\n",
       "\t8 & drive-wheels &  & 4wd &  & rwd & 0 & String3 \\\\\n",
       "\t9 & engine-location &  & front &  & front & 0 & String7 \\\\\n",
       "\t10 & wheel-base & 98.2642 & 86.6 & 96.9 & 115.6 & 0 & Float64 \\\\\n",
       "\t11 & length & 172.414 & 141.1 & 172.4 & 202.6 & 0 & Float64 \\\\\n",
       "\t12 & width & 65.6075 & 60.3 & 65.4 & 71.7 & 0 & Float64 \\\\\n",
       "\t13 & height & 53.8994 & 49.4 & 54.1 & 59.8 & 0 & Float64 \\\\\n",
       "\t14 & curb-weight & 2461.14 & 1488 & 2340.0 & 4066 & 0 & Int64 \\\\\n",
       "\t15 & engine-type &  & dohc &  & ohcv & 0 & String7 \\\\\n",
       "\t16 & num-of-cylinders &  & eight &  & three & 0 & String7 \\\\\n",
       "\t17 & engine-size & 119.226 & 61 & 110.0 & 258 & 0 & Int64 \\\\\n",
       "\t18 & fuel-system &  & 1bbl &  & spdi & 0 & String7 \\\\\n",
       "\t19 & bore &  & 2.54 &  & 3.94 & 0 & String7 \\\\\n",
       "\t20 & stroke &  & 2.07 &  & 4.17 & 0 & String7 \\\\\n",
       "\t21 & compression-ratio & 10.1611 & 7.0 & 9.0 & 23.0 & 0 & Float64 \\\\\n",
       "\t22 & horsepower &  & 100 &  & 97 & 0 & String3 \\\\\n",
       "\t23 & peak-rpm &  & 4150 &  & 6600 & 0 & String7 \\\\\n",
       "\t24 & city-mpg & 26.522 & 15 & 26.0 & 49 & 0 & Int64 \\\\\n",
       "\t25 & highway-mpg & 32.0818 & 18 & 32.0 & 54 & 0 & Int64 \\\\\n",
       "\t26 & price &  & 10198 &  & 9995 & 0 & String7 \\\\\n",
       "\\end{tabular}\n"
      ],
      "text/plain": [
       "\u001b[1m26×7 DataFrame\u001b[0m\n",
       "\u001b[1m Row \u001b[0m│\u001b[1m variable          \u001b[0m\u001b[1m mean     \u001b[0m\u001b[1m min         \u001b[0m\u001b[1m median \u001b[0m\u001b[1m max   \u001b[0m\u001b[1m nmissing \u001b[0m\u001b[1m elty\u001b[0m ⋯\n",
       "     │\u001b[90m Symbol            \u001b[0m\u001b[90m Union…   \u001b[0m\u001b[90m Any         \u001b[0m\u001b[90m Union… \u001b[0m\u001b[90m Any   \u001b[0m\u001b[90m Int64    \u001b[0m\u001b[90m Data\u001b[0m ⋯\n",
       "─────┼──────────────────────────────────────────────────────────────────────────\n",
       "   1 │ symboling          0.735849  -2           1.0     3             0  Int6 ⋯\n",
       "   2 │ normalized-losses \u001b[90m          \u001b[0m 101         \u001b[90m        \u001b[0m 98            0  Stri\n",
       "   3 │ make              \u001b[90m          \u001b[0m audi        \u001b[90m        \u001b[0m volvo         0  Stri\n",
       "   4 │ fuel-type         \u001b[90m          \u001b[0m diesel      \u001b[90m        \u001b[0m gas           0  Stri\n",
       "   5 │ aspiration        \u001b[90m          \u001b[0m std         \u001b[90m        \u001b[0m turbo         0  Stri ⋯\n",
       "   6 │ num-of-doors      \u001b[90m          \u001b[0m four        \u001b[90m        \u001b[0m two           0  Stri\n",
       "   7 │ body-style        \u001b[90m          \u001b[0m convertible \u001b[90m        \u001b[0m wagon         0  Stri\n",
       "   8 │ drive-wheels      \u001b[90m          \u001b[0m 4wd         \u001b[90m        \u001b[0m rwd           0  Stri\n",
       "   9 │ engine-location   \u001b[90m          \u001b[0m front       \u001b[90m        \u001b[0m front         0  Stri ⋯\n",
       "  10 │ wheel-base         98.2642   86.6         96.9    115.6         0  Floa\n",
       "  11 │ length             172.414   141.1        172.4   202.6         0  Floa\n",
       "  ⋮  │         ⋮             ⋮           ⋮         ⋮       ⋮       ⋮         ⋮ ⋱\n",
       "  17 │ engine-size        119.226   61           110.0   258           0  Int6\n",
       "  18 │ fuel-system       \u001b[90m          \u001b[0m 1bbl        \u001b[90m        \u001b[0m spdi          0  Stri ⋯\n",
       "  19 │ bore              \u001b[90m          \u001b[0m 2.54        \u001b[90m        \u001b[0m 3.94          0  Stri\n",
       "  20 │ stroke            \u001b[90m          \u001b[0m 2.07        \u001b[90m        \u001b[0m 4.17          0  Stri\n",
       "  21 │ compression-ratio  10.1611   7.0          9.0     23.0          0  Floa\n",
       "  22 │ horsepower        \u001b[90m          \u001b[0m 100         \u001b[90m        \u001b[0m 97            0  Stri ⋯\n",
       "  23 │ peak-rpm          \u001b[90m          \u001b[0m 4150        \u001b[90m        \u001b[0m 6600          0  Stri\n",
       "  24 │ city-mpg           26.522    15           26.0    49            0  Int6\n",
       "  25 │ highway-mpg        32.0818   18           32.0    54            0  Int6\n",
       "  26 │ price             \u001b[90m          \u001b[0m 10198       \u001b[90m        \u001b[0m 9995          0  Stri ⋯\n",
       "\u001b[36m                                                     1 column and 5 rows omitted\u001b[0m"
      ]
     },
     "execution_count": 13,
     "metadata": {},
     "output_type": "execute_result"
    }
   ],
   "source": [
    "# Remove missing values and rewrite DataTypes\n",
    "df_clean_1 = dropmissing(df_missing, disallowmissing=true)\n",
    "\n",
    "describe(df_clean_1)"
   ]
  },
  {
   "cell_type": "markdown",
   "id": "8bbb10de",
   "metadata": {},
   "source": [
    "## Reshaping the Data\n",
    "There are DataTypes that should be corrected, specially from String types to Integer and Float.\n",
    "\n",
    "- normalized-losses -> Int64\n",
    "- bore -> Float64\n",
    "- stroke -> Float64\n",
    "- horsepower -> Int64\n",
    "- peak-rpm -> Int64\n",
    "- price -> Int64\n",
    "\n",
    "Let's try changing them."
   ]
  },
  {
   "cell_type": "code",
   "execution_count": 14,
   "id": "e577dc4a",
   "metadata": {
    "scrolled": true
   },
   "outputs": [
    {
     "data": {
      "text/plain": [
       "159-element Vector{Int64}:\n",
       " 164\n",
       " 164\n",
       " 158\n",
       " 158\n",
       " 192\n",
       " 192\n",
       " 188\n",
       " 188\n",
       " 121\n",
       "  98\n",
       "  81\n",
       " 118\n",
       " 118\n",
       "   ⋮\n",
       " 256\n",
       " 103\n",
       "  74\n",
       " 103\n",
       "  74\n",
       " 103\n",
       "  74\n",
       "  95\n",
       "  95\n",
       "  95\n",
       "  95\n",
       "  95"
      ]
     },
     "execution_count": 14,
     "metadata": {},
     "output_type": "execute_result"
    }
   ],
   "source": [
    "df_clean_1.\"normalized-losses\" = parse.(Int64, df_clean_1.\"normalized-losses\")\n",
    "\n",
    "df_clean_1.\"normalized-losses\""
   ]
  },
  {
   "cell_type": "code",
   "execution_count": 15,
   "id": "76f66be1",
   "metadata": {},
   "outputs": [
    {
     "data": {
      "text/plain": [
       "159-element Vector{Float64}:\n",
       " 3.19\n",
       " 3.19\n",
       " 3.19\n",
       " 3.13\n",
       " 3.5\n",
       " 3.5\n",
       " 3.31\n",
       " 3.31\n",
       " 2.91\n",
       " 3.03\n",
       " 3.03\n",
       " 2.97\n",
       " 2.97\n",
       " ⋮\n",
       " 3.19\n",
       " 3.78\n",
       " 3.78\n",
       " 3.78\n",
       " 3.78\n",
       " 3.62\n",
       " 3.62\n",
       " 3.78\n",
       " 3.78\n",
       " 3.58\n",
       " 3.01\n",
       " 3.78"
      ]
     },
     "execution_count": 15,
     "metadata": {},
     "output_type": "execute_result"
    }
   ],
   "source": [
    "df_clean_1.bore = parse.(Float64, df_clean_1.bore)\n",
    "\n",
    "df_clean_1.bore"
   ]
  },
  {
   "cell_type": "code",
   "execution_count": 16,
   "id": "621c85b8",
   "metadata": {},
   "outputs": [
    {
     "data": {
      "text/plain": [
       "159-element Vector{Float64}:\n",
       " 3.4\n",
       " 3.4\n",
       " 3.4\n",
       " 3.4\n",
       " 2.8\n",
       " 2.8\n",
       " 3.19\n",
       " 3.19\n",
       " 3.03\n",
       " 3.11\n",
       " 3.11\n",
       " 3.23\n",
       " 3.23\n",
       " ⋮\n",
       " 3.4\n",
       " 3.15\n",
       " 3.15\n",
       " 3.15\n",
       " 3.15\n",
       " 3.15\n",
       " 3.15\n",
       " 3.15\n",
       " 3.15\n",
       " 2.87\n",
       " 3.4\n",
       " 3.15"
      ]
     },
     "execution_count": 16,
     "metadata": {},
     "output_type": "execute_result"
    }
   ],
   "source": [
    "df_clean_1.stroke = parse.(Float64, df_clean_1.stroke)"
   ]
  },
  {
   "cell_type": "code",
   "execution_count": 24,
   "id": "75e084d7",
   "metadata": {},
   "outputs": [
    {
     "ename": "LoadError",
     "evalue": "MethodError: no method matching parse(::Type{Int64}, ::Int64)\n\u001b[0mClosest candidates are:\n\u001b[0m  parse(::Type{T}, \u001b[91m::AbstractChar\u001b[39m; base) where T<:Integer at parse.jl:40\n\u001b[0m  parse(::Type{T}, \u001b[91m::AbstractString\u001b[39m; base) where T<:Integer at parse.jl:240\n\u001b[0m  parse(::Type{T}, \u001b[91m::AbstractString\u001b[39m; kwargs...) where T<:Real at parse.jl:379",
     "output_type": "error",
     "traceback": [
      "MethodError: no method matching parse(::Type{Int64}, ::Int64)\n\u001b[0mClosest candidates are:\n\u001b[0m  parse(::Type{T}, \u001b[91m::AbstractChar\u001b[39m; base) where T<:Integer at parse.jl:40\n\u001b[0m  parse(::Type{T}, \u001b[91m::AbstractString\u001b[39m; base) where T<:Integer at parse.jl:240\n\u001b[0m  parse(::Type{T}, \u001b[91m::AbstractString\u001b[39m; kwargs...) where T<:Real at parse.jl:379",
      "",
      "Stacktrace:",
      " [1] _broadcast_getindex_evalf",
      "   @ ./broadcast.jl:670 [inlined]",
      " [2] _broadcast_getindex",
      "   @ ./broadcast.jl:653 [inlined]",
      " [3] getindex",
      "   @ ./broadcast.jl:597 [inlined]",
      " [4] copy",
      "   @ ./broadcast.jl:899 [inlined]",
      " [5] materialize(bc::Base.Broadcast.Broadcasted{Base.Broadcast.DefaultArrayStyle{1}, Nothing, typeof(parse), Tuple{Base.RefValue{Type{Int64}}, Vector{Int64}}})",
      "   @ Base.Broadcast ./broadcast.jl:860",
      " [6] top-level scope",
      "   @ In[24]:1",
      " [7] eval",
      "   @ ./boot.jl:368 [inlined]",
      " [8] include_string(mapexpr::typeof(REPL.softscope), mod::Module, code::String, filename::String)",
      "   @ Base ./loading.jl:1428"
     ]
    }
   ],
   "source": [
    "df_clean_1.horsepower = parse.(Int64, df_clean_1.horsepower)"
   ]
  },
  {
   "cell_type": "code",
   "execution_count": 26,
   "id": "80367872",
   "metadata": {},
   "outputs": [
    {
     "data": {
      "text/plain": [
       "159-element Vector{Int64}:\n",
       " 5500\n",
       " 5500\n",
       " 5500\n",
       " 5500\n",
       " 5800\n",
       " 5800\n",
       " 4250\n",
       " 4250\n",
       " 5100\n",
       " 5400\n",
       " 5400\n",
       " 5500\n",
       " 5500\n",
       "    ⋮\n",
       " 5500\n",
       " 5400\n",
       " 5400\n",
       " 5400\n",
       " 5400\n",
       " 5100\n",
       " 5100\n",
       " 5400\n",
       " 5300\n",
       " 5500\n",
       " 4800\n",
       " 5400"
      ]
     },
     "execution_count": 26,
     "metadata": {},
     "output_type": "execute_result"
    }
   ],
   "source": [
    "df_clean_1.\"peak-rpm\" = parse.(Int64, df_clean_1.\"peak-rpm\")"
   ]
  },
  {
   "cell_type": "code",
   "execution_count": 27,
   "id": "eed28b23",
   "metadata": {},
   "outputs": [
    {
     "data": {
      "text/plain": [
       "159-element Vector{Int64}:\n",
       " 13950\n",
       " 17450\n",
       " 17710\n",
       " 23875\n",
       " 16430\n",
       " 16925\n",
       " 20970\n",
       " 21105\n",
       "  5151\n",
       "  6295\n",
       "  6575\n",
       "  5572\n",
       "  6377\n",
       "     ⋮\n",
       "  9980\n",
       " 12940\n",
       " 13415\n",
       " 15985\n",
       " 16515\n",
       " 18420\n",
       " 18950\n",
       " 16845\n",
       " 19045\n",
       " 21485\n",
       " 22470\n",
       " 22625"
      ]
     },
     "execution_count": 27,
     "metadata": {},
     "output_type": "execute_result"
    }
   ],
   "source": [
    "df_clean_1.price = parse.(Int64, df_clean_1.price)"
   ]
  },
  {
   "cell_type": "code",
   "execution_count": 28,
   "id": "125772b5",
   "metadata": {},
   "outputs": [
    {
     "data": {
      "text/html": [
       "<div><div style = \"float: left;\"><span>26×7 DataFrame</span></div><div style = \"clear: both;\"></div></div><div class = \"data-frame\" style = \"overflow-x: scroll;\"><table class = \"data-frame\" style = \"margin-bottom: 6px;\"><thead><tr class = \"header\"><th class = \"rowNumber\" style = \"font-weight: bold; text-align: right;\">Row</th><th style = \"text-align: left;\">variable</th><th style = \"text-align: left;\">mean</th><th style = \"text-align: left;\">min</th><th style = \"text-align: left;\">median</th><th style = \"text-align: left;\">max</th><th style = \"text-align: left;\">nmissing</th><th style = \"text-align: left;\">eltype</th></tr><tr class = \"subheader headerLastRow\"><th class = \"rowNumber\" style = \"font-weight: bold; text-align: right;\"></th><th title = \"Symbol\" style = \"text-align: left;\">Symbol</th><th title = \"Union{Nothing, Float64}\" style = \"text-align: left;\">Union…</th><th title = \"Any\" style = \"text-align: left;\">Any</th><th title = \"Union{Nothing, Float64}\" style = \"text-align: left;\">Union…</th><th title = \"Any\" style = \"text-align: left;\">Any</th><th title = \"Int64\" style = \"text-align: left;\">Int64</th><th title = \"DataType\" style = \"text-align: left;\">DataType</th></tr></thead><tbody><tr><td class = \"rowNumber\" style = \"font-weight: bold; text-align: right;\">1</td><td style = \"text-align: left;\">symboling</td><td style = \"text-align: left;\">0.735849</td><td style = \"text-align: left;\">-2</td><td style = \"text-align: left;\">1.0</td><td style = \"text-align: left;\">3</td><td style = \"text-align: right;\">0</td><td style = \"text-align: left;\">Int64</td></tr><tr><td class = \"rowNumber\" style = \"font-weight: bold; text-align: right;\">2</td><td style = \"text-align: left;\">normalized-losses</td><td style = \"text-align: left;\">121.132</td><td style = \"text-align: left;\">65</td><td style = \"text-align: left;\">113.0</td><td style = \"text-align: left;\">256</td><td style = \"text-align: right;\">0</td><td style = \"text-align: left;\">Int64</td></tr><tr><td class = \"rowNumber\" style = \"font-weight: bold; text-align: right;\">3</td><td style = \"text-align: left;\">make</td><td style = \"font-style: italic; text-align: left;\"></td><td style = \"text-align: left;\">audi</td><td style = \"font-style: italic; text-align: left;\"></td><td style = \"text-align: left;\">volvo</td><td style = \"text-align: right;\">0</td><td style = \"text-align: left;\">String15</td></tr><tr><td class = \"rowNumber\" style = \"font-weight: bold; text-align: right;\">4</td><td style = \"text-align: left;\">fuel-type</td><td style = \"font-style: italic; text-align: left;\"></td><td style = \"text-align: left;\">diesel</td><td style = \"font-style: italic; text-align: left;\"></td><td style = \"text-align: left;\">gas</td><td style = \"text-align: right;\">0</td><td style = \"text-align: left;\">String7</td></tr><tr><td class = \"rowNumber\" style = \"font-weight: bold; text-align: right;\">5</td><td style = \"text-align: left;\">aspiration</td><td style = \"font-style: italic; text-align: left;\"></td><td style = \"text-align: left;\">std</td><td style = \"font-style: italic; text-align: left;\"></td><td style = \"text-align: left;\">turbo</td><td style = \"text-align: right;\">0</td><td style = \"text-align: left;\">String7</td></tr><tr><td class = \"rowNumber\" style = \"font-weight: bold; text-align: right;\">6</td><td style = \"text-align: left;\">num-of-doors</td><td style = \"font-style: italic; text-align: left;\"></td><td style = \"text-align: left;\">four</td><td style = \"font-style: italic; text-align: left;\"></td><td style = \"text-align: left;\">two</td><td style = \"text-align: right;\">0</td><td style = \"text-align: left;\">String7</td></tr><tr><td class = \"rowNumber\" style = \"font-weight: bold; text-align: right;\">7</td><td style = \"text-align: left;\">body-style</td><td style = \"font-style: italic; text-align: left;\"></td><td style = \"text-align: left;\">convertible</td><td style = \"font-style: italic; text-align: left;\"></td><td style = \"text-align: left;\">wagon</td><td style = \"text-align: right;\">0</td><td style = \"text-align: left;\">String15</td></tr><tr><td class = \"rowNumber\" style = \"font-weight: bold; text-align: right;\">8</td><td style = \"text-align: left;\">drive-wheels</td><td style = \"font-style: italic; text-align: left;\"></td><td style = \"text-align: left;\">4wd</td><td style = \"font-style: italic; text-align: left;\"></td><td style = \"text-align: left;\">rwd</td><td style = \"text-align: right;\">0</td><td style = \"text-align: left;\">String3</td></tr><tr><td class = \"rowNumber\" style = \"font-weight: bold; text-align: right;\">9</td><td style = \"text-align: left;\">engine-location</td><td style = \"font-style: italic; text-align: left;\"></td><td style = \"text-align: left;\">front</td><td style = \"font-style: italic; text-align: left;\"></td><td style = \"text-align: left;\">front</td><td style = \"text-align: right;\">0</td><td style = \"text-align: left;\">String7</td></tr><tr><td class = \"rowNumber\" style = \"font-weight: bold; text-align: right;\">10</td><td style = \"text-align: left;\">wheel-base</td><td style = \"text-align: left;\">98.2642</td><td style = \"text-align: left;\">86.6</td><td style = \"text-align: left;\">96.9</td><td style = \"text-align: left;\">115.6</td><td style = \"text-align: right;\">0</td><td style = \"text-align: left;\">Float64</td></tr><tr><td class = \"rowNumber\" style = \"font-weight: bold; text-align: right;\">11</td><td style = \"text-align: left;\">length</td><td style = \"text-align: left;\">172.414</td><td style = \"text-align: left;\">141.1</td><td style = \"text-align: left;\">172.4</td><td style = \"text-align: left;\">202.6</td><td style = \"text-align: right;\">0</td><td style = \"text-align: left;\">Float64</td></tr><tr><td class = \"rowNumber\" style = \"font-weight: bold; text-align: right;\">12</td><td style = \"text-align: left;\">width</td><td style = \"text-align: left;\">65.6075</td><td style = \"text-align: left;\">60.3</td><td style = \"text-align: left;\">65.4</td><td style = \"text-align: left;\">71.7</td><td style = \"text-align: right;\">0</td><td style = \"text-align: left;\">Float64</td></tr><tr><td class = \"rowNumber\" style = \"font-weight: bold; text-align: right;\">13</td><td style = \"text-align: left;\">height</td><td style = \"text-align: left;\">53.8994</td><td style = \"text-align: left;\">49.4</td><td style = \"text-align: left;\">54.1</td><td style = \"text-align: left;\">59.8</td><td style = \"text-align: right;\">0</td><td style = \"text-align: left;\">Float64</td></tr><tr><td class = \"rowNumber\" style = \"font-weight: bold; text-align: right;\">14</td><td style = \"text-align: left;\">curb-weight</td><td style = \"text-align: left;\">2461.14</td><td style = \"text-align: left;\">1488</td><td style = \"text-align: left;\">2340.0</td><td style = \"text-align: left;\">4066</td><td style = \"text-align: right;\">0</td><td style = \"text-align: left;\">Int64</td></tr><tr><td class = \"rowNumber\" style = \"font-weight: bold; text-align: right;\">15</td><td style = \"text-align: left;\">engine-type</td><td style = \"font-style: italic; text-align: left;\"></td><td style = \"text-align: left;\">dohc</td><td style = \"font-style: italic; text-align: left;\"></td><td style = \"text-align: left;\">ohcv</td><td style = \"text-align: right;\">0</td><td style = \"text-align: left;\">String7</td></tr><tr><td class = \"rowNumber\" style = \"font-weight: bold; text-align: right;\">16</td><td style = \"text-align: left;\">num-of-cylinders</td><td style = \"font-style: italic; text-align: left;\"></td><td style = \"text-align: left;\">eight</td><td style = \"font-style: italic; text-align: left;\"></td><td style = \"text-align: left;\">three</td><td style = \"text-align: right;\">0</td><td style = \"text-align: left;\">String7</td></tr><tr><td class = \"rowNumber\" style = \"font-weight: bold; text-align: right;\">17</td><td style = \"text-align: left;\">engine-size</td><td style = \"text-align: left;\">119.226</td><td style = \"text-align: left;\">61</td><td style = \"text-align: left;\">110.0</td><td style = \"text-align: left;\">258</td><td style = \"text-align: right;\">0</td><td style = \"text-align: left;\">Int64</td></tr><tr><td class = \"rowNumber\" style = \"font-weight: bold; text-align: right;\">18</td><td style = \"text-align: left;\">fuel-system</td><td style = \"font-style: italic; text-align: left;\"></td><td style = \"text-align: left;\">1bbl</td><td style = \"font-style: italic; text-align: left;\"></td><td style = \"text-align: left;\">spdi</td><td style = \"text-align: right;\">0</td><td style = \"text-align: left;\">String7</td></tr><tr><td class = \"rowNumber\" style = \"font-weight: bold; text-align: right;\">19</td><td style = \"text-align: left;\">bore</td><td style = \"text-align: left;\">3.30013</td><td style = \"text-align: left;\">2.54</td><td style = \"text-align: left;\">3.27</td><td style = \"text-align: left;\">3.94</td><td style = \"text-align: right;\">0</td><td style = \"text-align: left;\">Float64</td></tr><tr><td class = \"rowNumber\" style = \"font-weight: bold; text-align: right;\">20</td><td style = \"text-align: left;\">stroke</td><td style = \"text-align: left;\">3.23635</td><td style = \"text-align: left;\">2.07</td><td style = \"text-align: left;\">3.27</td><td style = \"text-align: left;\">4.17</td><td style = \"text-align: right;\">0</td><td style = \"text-align: left;\">Float64</td></tr><tr><td class = \"rowNumber\" style = \"font-weight: bold; text-align: right;\">21</td><td style = \"text-align: left;\">compression-ratio</td><td style = \"text-align: left;\">10.1611</td><td style = \"text-align: left;\">7.0</td><td style = \"text-align: left;\">9.0</td><td style = \"text-align: left;\">23.0</td><td style = \"text-align: right;\">0</td><td style = \"text-align: left;\">Float64</td></tr><tr><td class = \"rowNumber\" style = \"font-weight: bold; text-align: right;\">22</td><td style = \"text-align: left;\">horsepower</td><td style = \"text-align: left;\">95.8365</td><td style = \"text-align: left;\">48</td><td style = \"text-align: left;\">88.0</td><td style = \"text-align: left;\">200</td><td style = \"text-align: right;\">0</td><td style = \"text-align: left;\">Int64</td></tr><tr><td class = \"rowNumber\" style = \"font-weight: bold; text-align: right;\">23</td><td style = \"text-align: left;\">peak-rpm</td><td style = \"text-align: left;\">5113.84</td><td style = \"text-align: left;\">4150</td><td style = \"text-align: left;\">5200.0</td><td style = \"text-align: left;\">6600</td><td style = \"text-align: right;\">0</td><td style = \"text-align: left;\">Int64</td></tr><tr><td class = \"rowNumber\" style = \"font-weight: bold; text-align: right;\">24</td><td style = \"text-align: left;\">city-mpg</td><td style = \"text-align: left;\">26.522</td><td style = \"text-align: left;\">15</td><td style = \"text-align: left;\">26.0</td><td style = \"text-align: left;\">49</td><td style = \"text-align: right;\">0</td><td style = \"text-align: left;\">Int64</td></tr><tr><td class = \"rowNumber\" style = \"font-weight: bold; text-align: right;\">25</td><td style = \"text-align: left;\">highway-mpg</td><td style = \"text-align: left;\">32.0818</td><td style = \"text-align: left;\">18</td><td style = \"text-align: left;\">32.0</td><td style = \"text-align: left;\">54</td><td style = \"text-align: right;\">0</td><td style = \"text-align: left;\">Int64</td></tr><tr><td class = \"rowNumber\" style = \"font-weight: bold; text-align: right;\">26</td><td style = \"text-align: left;\">price</td><td style = \"text-align: left;\">11445.7</td><td style = \"text-align: left;\">5118</td><td style = \"text-align: left;\">9233.0</td><td style = \"text-align: left;\">35056</td><td style = \"text-align: right;\">0</td><td style = \"text-align: left;\">Int64</td></tr></tbody></table></div>"
      ],
      "text/latex": [
       "\\begin{tabular}{r|ccccccc}\n",
       "\t& variable & mean & min & median & max & nmissing & eltype\\\\\n",
       "\t\\hline\n",
       "\t& Symbol & Union… & Any & Union… & Any & Int64 & DataType\\\\\n",
       "\t\\hline\n",
       "\t1 & symboling & 0.735849 & -2 & 1.0 & 3 & 0 & Int64 \\\\\n",
       "\t2 & normalized-losses & 121.132 & 65 & 113.0 & 256 & 0 & Int64 \\\\\n",
       "\t3 & make &  & audi &  & volvo & 0 & String15 \\\\\n",
       "\t4 & fuel-type &  & diesel &  & gas & 0 & String7 \\\\\n",
       "\t5 & aspiration &  & std &  & turbo & 0 & String7 \\\\\n",
       "\t6 & num-of-doors &  & four &  & two & 0 & String7 \\\\\n",
       "\t7 & body-style &  & convertible &  & wagon & 0 & String15 \\\\\n",
       "\t8 & drive-wheels &  & 4wd &  & rwd & 0 & String3 \\\\\n",
       "\t9 & engine-location &  & front &  & front & 0 & String7 \\\\\n",
       "\t10 & wheel-base & 98.2642 & 86.6 & 96.9 & 115.6 & 0 & Float64 \\\\\n",
       "\t11 & length & 172.414 & 141.1 & 172.4 & 202.6 & 0 & Float64 \\\\\n",
       "\t12 & width & 65.6075 & 60.3 & 65.4 & 71.7 & 0 & Float64 \\\\\n",
       "\t13 & height & 53.8994 & 49.4 & 54.1 & 59.8 & 0 & Float64 \\\\\n",
       "\t14 & curb-weight & 2461.14 & 1488 & 2340.0 & 4066 & 0 & Int64 \\\\\n",
       "\t15 & engine-type &  & dohc &  & ohcv & 0 & String7 \\\\\n",
       "\t16 & num-of-cylinders &  & eight &  & three & 0 & String7 \\\\\n",
       "\t17 & engine-size & 119.226 & 61 & 110.0 & 258 & 0 & Int64 \\\\\n",
       "\t18 & fuel-system &  & 1bbl &  & spdi & 0 & String7 \\\\\n",
       "\t19 & bore & 3.30013 & 2.54 & 3.27 & 3.94 & 0 & Float64 \\\\\n",
       "\t20 & stroke & 3.23635 & 2.07 & 3.27 & 4.17 & 0 & Float64 \\\\\n",
       "\t21 & compression-ratio & 10.1611 & 7.0 & 9.0 & 23.0 & 0 & Float64 \\\\\n",
       "\t22 & horsepower & 95.8365 & 48 & 88.0 & 200 & 0 & Int64 \\\\\n",
       "\t23 & peak-rpm & 5113.84 & 4150 & 5200.0 & 6600 & 0 & Int64 \\\\\n",
       "\t24 & city-mpg & 26.522 & 15 & 26.0 & 49 & 0 & Int64 \\\\\n",
       "\t25 & highway-mpg & 32.0818 & 18 & 32.0 & 54 & 0 & Int64 \\\\\n",
       "\t26 & price & 11445.7 & 5118 & 9233.0 & 35056 & 0 & Int64 \\\\\n",
       "\\end{tabular}\n"
      ],
      "text/plain": [
       "\u001b[1m26×7 DataFrame\u001b[0m\n",
       "\u001b[1m Row \u001b[0m│\u001b[1m variable          \u001b[0m\u001b[1m mean     \u001b[0m\u001b[1m min         \u001b[0m\u001b[1m median \u001b[0m\u001b[1m max   \u001b[0m\u001b[1m nmissing \u001b[0m\u001b[1m elty\u001b[0m ⋯\n",
       "     │\u001b[90m Symbol            \u001b[0m\u001b[90m Union…   \u001b[0m\u001b[90m Any         \u001b[0m\u001b[90m Union… \u001b[0m\u001b[90m Any   \u001b[0m\u001b[90m Int64    \u001b[0m\u001b[90m Data\u001b[0m ⋯\n",
       "─────┼──────────────────────────────────────────────────────────────────────────\n",
       "   1 │ symboling          0.735849  -2           1.0     3             0  Int6 ⋯\n",
       "   2 │ normalized-losses  121.132   65           113.0   256           0  Int6\n",
       "   3 │ make              \u001b[90m          \u001b[0m audi        \u001b[90m        \u001b[0m volvo         0  Stri\n",
       "   4 │ fuel-type         \u001b[90m          \u001b[0m diesel      \u001b[90m        \u001b[0m gas           0  Stri\n",
       "   5 │ aspiration        \u001b[90m          \u001b[0m std         \u001b[90m        \u001b[0m turbo         0  Stri ⋯\n",
       "   6 │ num-of-doors      \u001b[90m          \u001b[0m four        \u001b[90m        \u001b[0m two           0  Stri\n",
       "   7 │ body-style        \u001b[90m          \u001b[0m convertible \u001b[90m        \u001b[0m wagon         0  Stri\n",
       "   8 │ drive-wheels      \u001b[90m          \u001b[0m 4wd         \u001b[90m        \u001b[0m rwd           0  Stri\n",
       "   9 │ engine-location   \u001b[90m          \u001b[0m front       \u001b[90m        \u001b[0m front         0  Stri ⋯\n",
       "  10 │ wheel-base         98.2642   86.6         96.9    115.6         0  Floa\n",
       "  11 │ length             172.414   141.1        172.4   202.6         0  Floa\n",
       "  ⋮  │         ⋮             ⋮           ⋮         ⋮       ⋮       ⋮         ⋮ ⋱\n",
       "  17 │ engine-size        119.226   61           110.0   258           0  Int6\n",
       "  18 │ fuel-system       \u001b[90m          \u001b[0m 1bbl        \u001b[90m        \u001b[0m spdi          0  Stri ⋯\n",
       "  19 │ bore               3.30013   2.54         3.27    3.94          0  Floa\n",
       "  20 │ stroke             3.23635   2.07         3.27    4.17          0  Floa\n",
       "  21 │ compression-ratio  10.1611   7.0          9.0     23.0          0  Floa\n",
       "  22 │ horsepower         95.8365   48           88.0    200           0  Int6 ⋯\n",
       "  23 │ peak-rpm           5113.84   4150         5200.0  6600          0  Int6\n",
       "  24 │ city-mpg           26.522    15           26.0    49            0  Int6\n",
       "  25 │ highway-mpg        32.0818   18           32.0    54            0  Int6\n",
       "  26 │ price              11445.7   5118         9233.0  35056         0  Int6 ⋯\n",
       "\u001b[36m                                                     1 column and 5 rows omitted\u001b[0m"
      ]
     },
     "execution_count": 28,
     "metadata": {},
     "output_type": "execute_result"
    }
   ],
   "source": [
    "describe(df_clean_1)"
   ]
  },
  {
   "cell_type": "markdown",
   "id": "a046d3f3",
   "metadata": {},
   "source": [
    "# Conclusion of this part:\n",
    "Now the data is parsed into their correct data types and there are no more missing values! (Apparently at least).\n",
    "\n",
    "Let's save it into a new csv file."
   ]
  },
  {
   "cell_type": "code",
   "execution_count": 29,
   "id": "fee3e624",
   "metadata": {},
   "outputs": [
    {
     "data": {
      "text/plain": [
       "\"clean_data.csv\""
      ]
     },
     "execution_count": 29,
     "metadata": {},
     "output_type": "execute_result"
    }
   ],
   "source": [
    "CSV.write(\"clean_data.csv\", df_clean_1)"
   ]
  }
 ],
 "metadata": {
  "kernelspec": {
   "display_name": "Julia 1.8.3",
   "language": "julia",
   "name": "julia-1.8"
  },
  "language_info": {
   "file_extension": ".jl",
   "mimetype": "application/julia",
   "name": "julia",
   "version": "1.8.3"
  }
 },
 "nbformat": 4,
 "nbformat_minor": 5
}
